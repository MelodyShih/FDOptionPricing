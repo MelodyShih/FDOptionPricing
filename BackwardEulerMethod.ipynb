{
 "cells": [
  {
   "cell_type": "code",
   "execution_count": 1,
   "metadata": {
    "collapsed": true
   },
   "outputs": [],
   "source": [
    "%matplotlib inline\n",
    "%precision 16\n",
    "import numpy\n",
    "import scipy.sparse as sparse\n",
    "import scipy.sparse.linalg as linalg\n",
    "import matplotlib.pyplot as plt\n",
    "from scipy.integrate import quad"
   ]
  },
  {
   "cell_type": "markdown",
   "metadata": {},
   "source": [
    "Recall from modified backward euler method, the implicit finite different scheme is:\n",
    "$$\n",
    "    a_{i,j} U^{n+1}_{i-1,j-1}+ b_{i,j} U^{n+1}_{i-1,j} + c_{i,j} U^{n+1}_{i-1, j+1} + d_{i,j} U^{n+1}_{i, j-1} + e_{i,j} U^{n+1}_{i, j} + f_{i,j} U^{n+1}_{i, j+1} + g_{i,j} U^{n+1}_{i+1, j-1} + h_{i,j} U^{n+1}_{i+1, j} + k_{i,j} U^{n+1}_{i+1, j+1} = U^{n}_{i,j}\n",
    "$$"
   ]
  },
  {
   "cell_type": "markdown",
   "metadata": {},
   "source": [
    "### Boundary condition"
   ]
  },
  {
   "cell_type": "markdown",
   "metadata": {},
   "source": [
    "#### Left BC: $v = 0$ [Implement in the right hand side]\n",
    "\n",
    "After discretizing the boundary condition, we get:\n",
    "$$\n",
    "\\begin{align}\n",
    "    \\left( 1 - rS_i\\frac{\\Delta t}{\\Delta S} + \\kappa\\theta\\frac{\\Delta t}{\\Delta v} + r\\Delta t\\right)U^{n+1}_{i,0} &= U^{n}_{i,0} - rS_i\\frac{\\Delta t}{\\Delta s} U^{n+1}_{i-1,0} + \\kappa\\theta\\frac{\\Delta t}{\\Delta v}U^{n+1}_{i,1}\\\\\n",
    "    &=U^{n}_{i,0} - \\frac{rS_i\\Delta t}{\\Delta s} U^{n+1}_{i-1,0} + \\frac{\\kappa\\theta\\Delta t}{\\Delta v} U^{n+1}_{i,1}\\\\\n",
    "\\end{align}\n",
    "$$ \n",
    "$$\n",
    "ri\\Delta t U^{n+1}_{i-1,0} + \\left( 1 - rS_i\\frac{\\Delta t}{\\Delta S} + \\kappa\\theta\\frac{\\Delta t}{\\Delta v} + r\\Delta t\\right)U^{n+1}_{i,0} - \\frac{\\kappa\\theta\\Delta t}{\\Delta v} U^{n+1}_{i,1}=U^{n}_{i,0}\n",
    "$$ for $i=1,...,N-2$, For i=0, we use the boundary condition for $S=0$, $U_{0,0}=0$. Since we can't get $U^{n+1}_{i,1}$ at this moment, we change to use the first order forward discretization which is fully explicit:\n",
    "$$\n",
    "ri\\Delta t U^{n+1}_{i-1,0} + \\left( 1 - rS_i\\frac{\\Delta t}{\\Delta S} + \\kappa\\theta\\frac{\\Delta t}{\\Delta v} + r\\Delta t\\right)U^{n+1}_{i,0}=U^{n}_{i,0} + \\frac{\\kappa\\theta\\Delta t}{\\Delta v} U^{n}_{i,1}\n",
    "$$\n",
    "Further, since we know the value of $U^{n+1}_{0,0}$, we can simply calculate $U^{n+1}_{i,0}$, $i=1, \\dots $ by\n",
    "$$\n",
    "U^{n+1}_{i,0}= \\frac{U^{n}_{i,0} + \\frac{\\kappa\\theta\\Delta t}{\\Delta v} U^{n}_{i,1} - ri\\Delta t U^{n+1}_{i-1,0}}{\\left( 1 - rS_i\\frac{\\Delta t}{\\Delta S} + \\kappa\\theta\\frac{\\Delta t}{\\Delta v} + r\\Delta t\\right)}\n",
    "$$\n",
    "#### Right BC: $v \\to \\infty$ [Implement in the right hand side]\n",
    "$$U_{i,M-1} = S_i,~for~i=0,\\dots,N-1$$\n",
    "#### Lower BC: $S = 0$ [Ignore]\n",
    "$$U_{0,j} = 0,~for~j=0,\\dots,M-1$$\n",
    "#### Upper BC: $S \\to \\infty$ [Implement both in the matrix and the right hand side]\n",
    "For $j=1,\\dots, M-2$\n",
    "$$\n",
    "\\begin{align}\n",
    "  U^{n+1}_{N-1,j} &= \\frac{2\\Delta s + 4U^{n+1}_{N-2,j} - U^{n+1}_{N-3,j}}{3}\\\\\n",
    "                  &= \\frac 4 3U^{n+1}_{N-2,j} - \\frac 1 3 U^{n+1}_{N-3,j} + \\frac{2\\Delta s}{3}\n",
    "\\end{align}\n",
    "$$"
   ]
  },
  {
   "cell_type": "code",
   "execution_count": 2,
   "metadata": {
    "collapsed": false
   },
   "outputs": [],
   "source": [
    "# Set coefficient\n",
    "rho   = 0.8\n",
    "sigma = 0.3\n",
    "r     = 0.03\n",
    "kappa = 2.0\n",
    "theta = 0.2\n",
    "\n",
    "K = 100.0\n",
    "\n",
    "# Set domain: [0,S] x [0,V] x [0,T]\n",
    "S = 200.0\n",
    "V = 1.0\n",
    "T = 1.0\n",
    "\n",
    "# Discretize domain\n",
    "M = 40\n",
    "N = 40\n",
    "L = 100\n",
    "\n",
    "s = numpy.linspace(0.0, S*1.2, N+2)\n",
    "v = numpy.linspace(0.0, V*1.3, M+2)\n",
    "t = numpy.linspace(0.0, T, L)\n",
    "\n",
    "s = s[1:-1]\n",
    "v = v[1:-1]\n",
    "\n",
    "delta_s = s[1] - s[0]\n",
    "delta_v = v[1] - v[0]\n",
    "delta_t = t[1] - t[0]\n",
    "\n",
    "A = numpy.zeros([M*N, M*N])\n",
    "rhs = numpy.zeros(M*N)"
   ]
  },
  {
   "cell_type": "code",
   "execution_count": 3,
   "metadata": {
    "collapsed": false
   },
   "outputs": [],
   "source": [
    "# Construct matrix A\n",
    "for irow in range(M*N):\n",
    "    i = irow/M + 1\n",
    "    j = numpy.mod(irow, M) + 1\n",
    "    \n",
    "    temp = rho*sigma*i*j*delta_t/4.0\n",
    "    a = -temp\n",
    "    k = -temp\n",
    "    c = temp\n",
    "    g = temp\n",
    "    b = -0.5 * delta_t * (i**2 * v[j-1] - r*i)\n",
    "    d = -0.5 * delta_t/delta_v * (sigma**2 * j - kappa*(theta - v[j-1]))\n",
    "    e = 1 + delta_t * (r + i**2 * v[j-1] + sigma**2 * j/delta_v)\n",
    "    f = -0.5 * delta_t/delta_v * (sigma**2 * j + kappa*(theta - v[j-1]))\n",
    "    h = -0.5 * delta_t * (i**2 * v[j-1] + r*i)\n",
    "    \n",
    "    i = i-1\n",
    "    j = j-1\n",
    "    \n",
    "    if( i == 0 ):\n",
    "        if( j==0 ):\n",
    "            A[irow, irow]         = e\n",
    "            A[irow, irow + 1]     = f\n",
    "            A[irow, irow + M]     = h\n",
    "            A[irow, irow + M + 1] = k\n",
    "        elif( j==M-1 ):\n",
    "            A[irow, irow - 1]     = d\n",
    "            A[irow, irow]         = e\n",
    "            A[irow, irow + M - 1] = g\n",
    "            A[irow, irow + M]     = h\n",
    "            rhs[irow]             = -k * s[i+1] \n",
    "        else:\n",
    "            A[irow, irow - 1]     = d\n",
    "            A[irow, irow]         = e\n",
    "            A[irow, irow + 1]     = f\n",
    "            A[irow, irow + M - 1] = g\n",
    "            A[irow, irow + M]     = h\n",
    "            A[irow, irow + M + 1] = k\n",
    "    elif (i == N-1):\n",
    "        if( j==0 ):\n",
    "            A[irow, irow - M ]    = b - h*1.0/3.0\n",
    "            A[irow, irow - M + 1] = c - k*1.0/3.0\n",
    "            A[irow, irow]         = e + h*4.0/3.0 \n",
    "            A[irow, irow + 1]     = f + k*4.0/3.0\n",
    "            rhs[irow]             = -2.0/3.0*delta_s*(h+k)\n",
    "        elif( j==M-1 ):\n",
    "            A[irow, irow - M - 1] = a - g*1.0/3.0\n",
    "            A[irow, irow - M ]    = b - h*1.0/3.0\n",
    "            A[irow, irow - 1]     = d + g*4.0/3.0\n",
    "            A[irow, irow]         = e + h*4.0/3.0 \n",
    "            rhs[irow]             = -(c*s[i-1] + f *s[i] + k*S)- 2.0/3.0*delta_s*(g+h)\n",
    "        else:\n",
    "            A[irow, irow - M - 1] = a - g*1.0/3.0\n",
    "            A[irow, irow - M ]    = b - h*1.0/3.0\n",
    "            A[irow, irow - M + 1] = c - k*1.0/3.0\n",
    "            A[irow, irow - 1]     = d + g*4.0/3.0\n",
    "            A[irow, irow]         = e + h*4.0/3.0 \n",
    "            A[irow, irow + 1]     = f + k*4.0/3.0\n",
    "            rhs[irow]             = -2.0/3.0*delta_s*(h+k+g)\n",
    "    else:\n",
    "        if( j==0 ):\n",
    "            A[irow, irow - M ]    = b\n",
    "            A[irow, irow - M + 1] = c\n",
    "            A[irow, irow]         = e\n",
    "            A[irow, irow + 1]     = f\n",
    "            A[irow, irow + M]     = h\n",
    "            A[irow, irow + M + 1] = k\n",
    "        elif( j==M-1 ):\n",
    "            rhs[irow]             = -( s[i-1] * c + s[i] * f + s[i+1] * k )\n",
    "            A[irow, irow - M - 1] = a  \n",
    "            A[irow, irow - M ]    = b\n",
    "            A[irow, irow - 1]     = d\n",
    "            A[irow, irow]         = e\n",
    "            A[irow, irow + M - 1] = g\n",
    "            A[irow, irow + M]     = h            \n",
    "        else:\n",
    "            A[irow, irow - M - 1] = a  \n",
    "            A[irow, irow - M ]    = b\n",
    "            A[irow, irow - M + 1] = c\n",
    "            A[irow, irow - 1]     = d\n",
    "            A[irow, irow]         = e\n",
    "            A[irow, irow + 1]     = f\n",
    "            A[irow, irow + M - 1] = g\n",
    "            A[irow, irow + M]     = h\n",
    "            A[irow, irow + M + 1] = k"
   ]
  },
  {
   "cell_type": "code",
   "execution_count": 4,
   "metadata": {
    "collapsed": false
   },
   "outputs": [],
   "source": [
    "U_old = numpy.zeros(M*N)\n",
    "U_new = numpy.zeros(M*N)\n",
    "\n",
    "U_bc  = numpy.zeros(N+2)\n",
    "# Initialize U vector\n",
    "U_bc[0]  = 0\n",
    "U_bc[-1] = numpy.maximum(S - K, 0.0)\n",
    "for i in range(N):\n",
    "    U_old[i*M: (i+1)*M] = numpy.maximum(numpy.ones(M) * s[i] - K , 0.0)\n",
    "    U_bc[i] = numpy.maximum(s[i] - K, 0.0)"
   ]
  },
  {
   "cell_type": "code",
   "execution_count": 5,
   "metadata": {
    "collapsed": false
   },
   "outputs": [],
   "source": [
    "temp = numpy.empty(N+2)\n",
    "temp[0] = 0.0\n",
    "for timestep in t:\n",
    "    for i in xrange(N+2):\n",
    "        if i == 0:\n",
    "            continue       \n",
    "        else:\n",
    "            if i == N+1:\n",
    "                temp1 = (2.0*delta_s + 4.0 * U_old[(i-2)*M + 1]- U_old[(i-3)*M+1] )/3.0\n",
    "            else:\n",
    "                temp1 = U_old[(i-1)*M + 1]\n",
    "            temp[i] = ( U_bc[i] - r*i*delta_t*temp[i-1] + kappa*theta*delta_t*temp1 / delta_v )\\\n",
    "                      /( 1 - r*i*delta_t + kappa*theta*delta_t/delta_v + r*delta_t )\n",
    "    # a, d, g\n",
    "    for i in xrange(N):\n",
    "        temp2 = rho*sigma*i*delta_t/4.0\n",
    "        a = -temp2\n",
    "        d = -0.5 * delta_t/delta_v * (sigma**2- kappa*(theta - v[1]))\n",
    "        g = temp2\n",
    "        rhs[i*M] = -a*temp[i] -d*temp[i+1] -g*temp[i+2]\n",
    "    U_new = numpy.linalg.solve(A, U_old+rhs)\n",
    "    U_old = numpy.copy(U_new)"
   ]
  },
  {
   "cell_type": "code",
   "execution_count": 6,
   "metadata": {
    "collapsed": false
   },
   "outputs": [
    {
     "data": {
      "image/png": "[encoded data removed]",
      "text/plain": [
       "<matplotlib.figure.Figure at 0x1066a4a50>"
      ]
     },
     "metadata": {},
     "output_type": "display_data"
    }
   ],
   "source": [
    "U_sol = numpy.reshape(U_new, [N, M])\n",
    "E, X = numpy.meshgrid(v[:-12], s[:-10])\n",
    "\n",
    "fig = plt.figure()\n",
    "axes = fig.add_subplot(1, 1, 1)\n",
    "sol_plot = axes.pcolor(E, X, U_sol[:-10,:-12], cmap=plt.get_cmap('RdBu_r'))\n",
    "axes.set_title(\"Solution U(v,S)\")\n",
    "axes.set_xlabel(\"v\")\n",
    "axes.set_ylabel(\"S\")\n",
    "cbar = fig.colorbar(sol_plot, ax=axes)"
   ]
  },
  {
   "cell_type": "code",
   "execution_count": null,
   "metadata": {
    "collapsed": true
   },
   "outputs": [],
   "source": []
  }
 ],
 "metadata": {
  "kernelspec": {
   "display_name": "Python 2",
   "language": "python",
   "name": "python2"
  },
  "language_info": {
   "codemirror_mode": {
    "name": "ipython",
    "version": 2
   },
   "file_extension": ".py",
   "mimetype": "text/x-python",
   "name": "python",
   "nbconvert_exporter": "python",
   "pygments_lexer": "ipython2",
   "version": "2.7.11"
  }
 },
 "nbformat": 4,
 "nbformat_minor": 0
}
