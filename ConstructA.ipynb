{
 "cells": [
  {
   "cell_type": "code",
   "execution_count": 1,
   "metadata": {
    "collapsed": true
   },
   "outputs": [],
   "source": [
    "%matplotlib inline\n",
    "%precision 16\n",
    "import numpy\n",
    "import matplotlib.pyplot as plt"
   ]
  },
  {
   "cell_type": "markdown",
   "metadata": {},
   "source": [
    "Test for matrix construction"
   ]
  },
  {
   "cell_type": "code",
   "execution_count": 2,
   "metadata": {
    "collapsed": true
   },
   "outputs": [],
   "source": [
    "M = 5\n",
    "N = 5"
   ]
  },
  {
   "cell_type": "code",
   "execution_count": 3,
   "metadata": {
    "collapsed": true
   },
   "outputs": [],
   "source": [
    "K     = 100\n",
    "\n",
    "S_max = 200\n",
    "S_min = 0\n",
    "v_max = 1.0\n",
    "\n",
    "alpha = 1.0 #???\n",
    "beta  = 1.0 #???\n",
    "c1    = numpy.arcsinh( (S_max - K)/alpha )\n",
    "c2    = numpy.arcsinh( (S_min - K)/alpha )\n",
    "d1     = numpy.arcsinh( v_max/beta )\n",
    "\n",
    "# Set Coefficient \n",
    "# (Citation: https://drive.google.com/drive/u/1/folders/0B97aYusZC-S0NkJ5OURlbnNCZlk)\n",
    "# rho   -- instantaneous correlation between the Brownian motions\n",
    "# sigma -- volatility of variance\n",
    "# r     -- domestic interest rate\n",
    "# q     -- foreign interest rate\n",
    "# kappa -- mean reversion speed\n",
    "# theta -- long run variance \n",
    "\n",
    "rho   = 0.6\n",
    "sigma = 0.04\n",
    "r     = 0.01\n",
    "q     = 0.04\n",
    "kappa = 3\n",
    "theta = 1.0 #???\n",
    "\n",
    "# Set grid\n",
    "# Domain (t x \\xi x \\eta) : \n",
    "#\n",
    "# [0, T] x [0, 1] x [0,1]\n",
    "#  xi[j] = \\Delta xi  * j, j = 0, ..., N+1\n",
    "# eta[j] = \\Delta eta * j, j = 0, ..., M+1\n",
    "#   t[j] = \\Delta t   * j, j = 0, ..., L-1\n",
    "#\n",
    "\n",
    "t_final = 1.0\n",
    "N = 100\n",
    "M = 100\n",
    "L = 100\n",
    "\n",
    "xi  = numpy.linspace(0, 1, N+2) \n",
    "eta = numpy.linspace(0, 1, M+2)\n",
    "t   = numpy.linspace(0, t_final, L)\n",
    "\n",
    "delta_xi  =  xi[1] -  xi[0]\n",
    "delta_eta = eta[1] - eta[0]\n",
    "delta_t   =   t[1] -   t[0]\n",
    "\n",
    "# Some function needed because of the change of variables\n",
    "S       = lambda xi: K + numpy.sinh( c1*xi + c2*(1-xi) )\n",
    "v       = lambda eta: beta*numpy.sinh( d1*eta )\n",
    "dSdxi   = lambda xi: numpy.cosh( c1*xi + c2*(1-xi) ) * (c1 - c2)\n",
    "d2Sdxi2 = lambda xi: numpy.sinh( c1*xi + c2*(1-xi) ) * (c1 - c2)**2\n",
    "dvdeta  = lambda eta: numpy.cosh( d1*eta ) * d1 * beta\n",
    "d2vdeta2  = lambda eta: numpy.cosh( d1*eta ) * d1**2 * beta\n",
    "\n",
    "xi  =  xi[1:-1]\n",
    "eta = eta[1:-1]"
   ]
  },
  {
   "cell_type": "code",
   "execution_count": 4,
   "metadata": {
    "collapsed": false
   },
   "outputs": [
    {
     "data": {
      "text/plain": [
       "0.0174538283735313"
      ]
     },
     "execution_count": 4,
     "metadata": {},
     "output_type": "execute_result"
    }
   ],
   "source": [
    "v(eta[1])"
   ]
  },
  {
   "cell_type": "code",
   "execution_count": 5,
   "metadata": {
    "collapsed": false
   },
   "outputs": [],
   "source": [
    "a = lambda i,j: delta_t*rho*sigma/(4.0*delta_xi*delta_eta)*v(eta[j])*S(xi[i])/(dSdxi(xi[i]) * dvdeta(eta[j]))\n",
    "b = lambda i,j: sigma**2 * delta_t/(2.0*delta_eta**2)*v(eta[j])/dvdeta(eta[i])**2 - \\\n",
    "                delta_t/(2.0*delta_eta)*(kappa*(theta-v(eta[j]))/dvdeta(eta[j]) - 0.5*sigma**2*v(eta[j])*d2vdeta2(eta[j])/dvdeta(eta[j])**3)\n",
    "c = lambda i,j: delta_t/delta_xi**2*v(eta[j])*S(xi[i])**2/dSdxi(xi[i])**2 - \\\n",
    "                delta_t/(2.0*delta_xi)*((r-q)*S(xi[i])/dSdxi(xi[i]) - 0.5*v(eta[j])*S(xi[i])**2*d2Sdxi2(xi[i])/dSdxi(xi[i])**3)\n",
    "d = lambda i,j: 1+r*delta_t+delta_t/delta_xi**2*v(eta[j])*S(xi[i])**2/dSdxi(xi[i])**2+sigma**2*delta_t/delta_eta**2*v(eta[j])/dvdeta(eta[i])**2\n",
    "e = lambda i,j: delta_t/delta_xi**2*v(eta[j])*S(xi[i])**2/dSdxi(xi[i])**2 + \\\n",
    "                delta_t/(2*delta_xi)*((r-q)*S(xi[i])/dSdxi(xi[i]) - 0.5*v(eta[j])*S(xi[i])**2*d2Sdxi2(xi[i])/dSdxi(xi[i])**3)\n",
    "f = lambda i,j: sigma**2*delta_t/(2*delta_eta**2)*v(eta[j])/dvdeta(eta[i])**2 + \\\n",
    "                delta_t/(2.0*delta_eta)*(kappa*(theta - v(eta[j]))/dvdeta(eta[j]) - 0.5*sigma**2*v(eta[j])*d2vdeta2(eta[j])/dvdeta(eta[j])**3)\n",
    "A = numpy.zeros([M*N, M*N])"
   ]
  },
  {
   "cell_type": "code",
   "execution_count": 6,
   "metadata": {
    "collapsed": false
   },
   "outputs": [
    {
     "data": {
      "text/plain": [
       "1.0046771506991434"
      ]
     },
     "execution_count": 6,
     "metadata": {},
     "output_type": "execute_result"
    }
   ],
   "source": [
    "d(1,1)"
   ]
  },
  {
   "cell_type": "code",
   "execution_count": 7,
   "metadata": {
    "collapsed": false
   },
   "outputs": [],
   "source": [
    "for irow in range(M*N):\n",
    "    # U_hat[irow] == U_interior[i,j]\n",
    "    i = irow/M\n",
    "    j = numpy.mod(irow, N)\n",
    "\n",
    "    if( i == 0 ):\n",
    "        if (j == 0):\n",
    "            A[irow, irow + M] = -f(i,j)\n",
    "            A[irow, irow + M + 1] = -a(i,j)\n",
    "            A[irow, irow] = d(i,j)\n",
    "            A[irow, irow + 1] = e(i,j)\n",
    "        elif (j == M-1):\n",
    "            A[irow, irow + M - 1] = a(i,j)\n",
    "            A[irow, irow + M] = -f(i,j)\n",
    "            A[irow, irow - 1] = -c(i,j)\n",
    "            A[irow, irow]     = d(i,j)\n",
    "        else:\n",
    "            A[irow, irow + M - 1] = a(i,j)\n",
    "            A[irow, irow + M] = -f(i,j)\n",
    "            A[irow, irow + M + 1] = -a(i,j)\n",
    "            A[irow, irow - 1] = -c(i,j)\n",
    "            A[irow, irow]     = d(i,j)\n",
    "            A[irow, irow + 1] = e(i,j)\n",
    "    elif (i == N-1):\n",
    "        if (j == 0):\n",
    "            A[irow, irow - M ]    = -b(i,j)\n",
    "            A[irow, irow - M + 1] = a(i,j)\n",
    "            A[irow, irow]     = d(i,j)\n",
    "            A[irow, irow + 1] = e(i,j)\n",
    "        elif (j == M-1):\n",
    "            A[irow, irow - M - 1] = -a(i,j) \n",
    "            A[irow, irow - M ]    = -b(i,j)\n",
    "            A[irow, irow - 1] = -c(i,j)\n",
    "            A[irow, irow]     = d(i,j)\n",
    "        else:\n",
    "            A[irow, irow - M - 1] = -a(i,j) \n",
    "            A[irow, irow - M ]    = -b(i,j)\n",
    "            A[irow, irow - M + 1] = a(i,j)\n",
    "            A[irow, irow - 1] = -c(i,j)\n",
    "            A[irow, irow]     = d(i,j)\n",
    "            A[irow, irow + 1] = e(i,j)\n",
    "    else:\n",
    "        if (j == 0): \n",
    "            A[irow, irow - M ]    = -b(i,j)\n",
    "            A[irow, irow - M + 1] = a(i,j)\n",
    "            A[irow, irow]     = d(i,j)\n",
    "            A[irow, irow + 1] = e(i,j)\n",
    "            A[irow, irow + M]     = -f(i,j)\n",
    "            A[irow, irow + M + 1] = -a(i,j)\n",
    "        elif (j == M-1):\n",
    "            A[irow, irow - M - 1] = -a(i,j) \n",
    "            A[irow, irow - M ]    = -b(i,j)\n",
    "            A[irow, irow - 1] = -c(i,j)\n",
    "            A[irow, irow]     = d(i,j)\n",
    "            A[irow, irow + M - 1] = a(i,j)\n",
    "            A[irow, irow + M]     = -f(i,j)\n",
    "        else:\n",
    "            A[irow, irow - M - 1] = -a(i,j) \n",
    "            A[irow, irow - M ]    = -b(i,j)\n",
    "            A[irow, irow - M + 1] = a(i,j)\n",
    "            A[irow, irow - 1] = -c(i,j)\n",
    "            A[irow, irow]     = d(i,j)\n",
    "            A[irow, irow + 1] = e(i,j)\n",
    "            A[irow, irow + M - 1] = a(i,j)\n",
    "            A[irow, irow + M]     = -f(i,j)\n",
    "            A[irow, irow + M + 1] = -a(i,j)"
   ]
  },
  {
   "cell_type": "code",
   "execution_count": 12,
   "metadata": {
    "collapsed": false
   },
   "outputs": [
    {
     "data": {
      "text/plain": [
       "<matplotlib.image.AxesImage at 0x1598cc850>"
      ]
     },
     "execution_count": 12,
     "metadata": {},
     "output_type": "execute_result"
    },
    {
     "data": {
      "image/png": "[encoded data removed]",
      "text/plain": [
       "<matplotlib.figure.Figure at 0x159604050>"
      ]
     },
     "metadata": {},
     "output_type": "display_data"
    }
   ],
   "source": [
    "fig = plt.figure()\n",
    "plt.spy(A[0:200,0:200])"
   ]
  },
  {
   "cell_type": "code",
   "execution_count": null,
   "metadata": {
    "collapsed": true
   },
   "outputs": [],
   "source": []
  }
 ],
 "metadata": {
  "kernelspec": {
   "display_name": "Python 2",
   "language": "python",
   "name": "python2"
  },
  "language_info": {
   "codemirror_mode": {
    "name": "ipython",
    "version": 2
   },
   "file_extension": ".py",
   "mimetype": "text/x-python",
   "name": "python",
   "nbconvert_exporter": "python",
   "pygments_lexer": "ipython2",
   "version": "2.7.11"
  }
 },
 "nbformat": 4,
 "nbformat_minor": 0
}
