{
 "cells": [
  {
   "cell_type": "code",
   "execution_count": 13,
   "metadata": {
    "collapsed": true
   },
   "outputs": [],
   "source": [
    "%matplotlib inline\n",
    "%precision 16\n",
    "import numpy\n",
    "import scipy.sparse as sparse\n",
    "import scipy.sparse.linalg as linalg\n",
    "import matplotlib.pyplot as plt"
   ]
  },
  {
   "cell_type": "markdown",
   "metadata": {},
   "source": [
    "# The Alternative Directiron Implicit(ADI) Scheme\n",
    "\n",
    "In previous implementations, large number of iterations are needed in each time steps, thus decrease the efficiency of computation. One alternative is to use a partially implicit method which preserves the tridiagonal structure of the matrix for the implicit terms. This construction is called the alternative direction implicit (ADI) scheme.\n",
    "\n",
    "Similarly, the fully implicit scheme is based on the finite difference methods of the Heston PDE:\n",
    "\n",
    "$$\\begin{aligned}\n",
    "\\frac{U^{n+1}_{i,j} - U^n_{i,j}}{\\Delta t} =& \\left[ S_i^2v_j \\frac{U^n_{i+1,j} - 2U^n_{i,j} + U_{i-1,j}}{2\\Delta S^2} + \\rho\\sigma S_iv_j \\frac{U^n_{i+1,j+1} + U^n_{i-1,j-1} - U^n_{i-1,j+1} - U_{i+1,j-1}}{4\\Delta S\\Delta v}\\right. \\\\\n",
    "&\\left. + \\sigma^2v_j\\frac{U^n_{i,j+1} - 2U_{i,j} + U_{i,j-1}}{2\\Delta v^2} + rS\\frac{U^n_{i+1,j} - U^n_{i-1,j}}{2\\Delta S} + \\kappa(\\theta - v_j)\\frac{U^n{i,j+1} - U^n_{i,j-1}}{2\\Delta v}-rU^n_{i,j}\\right]\n",
    "\\end{aligned}$$\n",
    "\n",
    "which can be re-written as:\n",
    "$$\n",
    "a_{i,j}U^{n+1}_{i,j} + c_{i,j}U^{n+1}_{i-1,j} + d_{i,j}U^{n+1}_{i+1,j} + e_{i,j}U^{n+1}_{i,j-1} + f_{i,j}U^{n+1}_{i,j+1} + b_{i,j}(U^{n+1}_{i-1,j-1} - U^{n+1}_{i-1,j+1} - U^{n+1}_{i+1,j-1} + U^{n+1}_{i+1,j+1}) = U^{n}_{i,j}\n",
    "$$"
   ]
  },
  {
   "cell_type": "code",
   "execution_count": 14,
   "metadata": {
    "collapsed": true
   },
   "outputs": [],
   "source": [
    "K = 100.0\n",
    "r = 0.03\n",
    "kappa = 2.0\n",
    "theta = 0.20\n",
    "sigma = 0.3\n",
    "rho = -0.5\n",
    "_lambda = 0.0\n",
    "\n",
    "S_min = 0\n",
    "S_max = 200\n",
    "\n",
    "V_min = 0.0\n",
    "V_max = 1.0\n",
    "\n",
    "t_0 = 0.0\n",
    "t_final = 1.0"
   ]
  },
  {
   "cell_type": "code",
   "execution_count": 15,
   "metadata": {
    "collapsed": false
   },
   "outputs": [
    {
     "name": "stdout",
     "output_type": "stream",
     "text": [
      "2.0\n",
      "0.01\n",
      "0.01\n"
     ]
    }
   ],
   "source": [
    "M = 100\n",
    "N = 100\n",
    "L = 100\n",
    "\n",
    "s  = numpy.linspace(S_min, S_max, N + 1) \n",
    "delta_s = s[1] - s[0]\n",
    "v = numpy.linspace(V_min, V_max, M + 1)\n",
    "delta_v = v[1] - v[0]\n",
    "t = numpy.linspace(t_0, t_final, L + 1)\n",
    "delta_t = t[1] - t[0]\n",
    "print delta_s\n",
    "print delta_v\n",
    "print delta_t"
   ]
  },
  {
   "cell_type": "code",
   "execution_count": 16,
   "metadata": {
    "collapsed": false
   },
   "outputs": [],
   "source": [
    "# construct Matrix A_0, A_1 and A_2\n",
    "from scipy.sparse import spdiags\n",
    "R_s = delta_t / delta_s\n",
    "R_v = delta_t / delta_v\n",
    "R_ss = delta_t / delta_s**2\n",
    "R_vv = delta_t / delta_v**2\n",
    "R_sv = delta_t / (delta_s * delta_v)\n",
    "\n",
    "# A1\n",
    "A_1 = numpy.zeros((N+1, N+1))\n",
    "A_11 = numpy.zeros((N+1, N+1))\n",
    "A_12 = numpy.zeros((N+1, N+1))\n",
    "# main diagonal entries\n",
    "diag1 = numpy.zeros(N+1)\n",
    "for i in xrange(N+1):\n",
    "    diag1[i] = - (s[0] + i * delta_s)**2 / delta_s**2\n",
    "# sub-diagonal entries\n",
    "sub1 = numpy.zeros(N+1)\n",
    "for i in xrange(N+1):\n",
    "    sub1[i] = (s[1] + i * delta_s)**2 / (2.0 * delta_s**2)\n",
    "sub2 = numpy.zeros(N+1)\n",
    "for i in xrange(2, N+1):\n",
    "    sub2[i] = (s[0] + (i-1) * delta_s)**2 / (2.0 * delta_s**2)\n",
    "    \n",
    "A_11 = sparse.spdiags([sub1, diag1, sub2], [-1, 0, 1], N + 1, N + 1)\n",
    "\n",
    "# main diagonal entries\n",
    "diag2 = - 0.5 * r * numpy.ones(N+1)\n",
    "# sub-diagonal entries\n",
    "_sub1 = numpy.zeros(N+1)\n",
    "for i in xrange(N+1):\n",
    "    _sub1[i] = - r * (s[1] + i * delta_s) / (2.0 * delta_s)\n",
    "_sub2 = numpy.zeros(N+1)\n",
    "for i in xrange(2,N+1):\n",
    "    _sub2[i] = r * (s[0] + (i-1) * delta_s) / (2.0 * delta_s)\n",
    "\n",
    "A_12 = sparse.spdiags([_sub1, diag2, _sub2], [-1, 0, 1], N + 1, N + 1)\n",
    "\n",
    "#A2\n",
    "A_2 = numpy.zeros((M+1, M+1))\n",
    "# main diagonal entries\n",
    "e = numpy.zeros(M+1)\n",
    "for i in xrange(1,M+1):\n",
    "    e[i] = - _lambda**2 * (v[0] + i * delta_v) / delta_v**2 - 0.5 * r\n",
    "d1 = numpy.zeros(M+1)\n",
    "for i in xrange(1,M+1):\n",
    "    d1[i] = - _lambda**2 * (v[1] + i * delta_v) / (2 * delta_v**2) - kappa * (theta - (v[1] + i * delta_v)) / (2.0 * delta_v)\n",
    "d2 = numpy.zeros(M+1)\n",
    "for i in xrange(2,M+1):\n",
    "    d2[i] = - _lambda**2 * (v[0] + (i-1) * delta_v) / (2 * delta_v**2) + kappa * (theta - (v[1] + i * delta_v)) / (2.0 * delta_v)\n",
    "    \n",
    "A_2 = sparse.spdiags([d1, e, d2], [-1, 0, 1], M + 1, M + 1)"
   ]
  },
  {
   "cell_type": "code",
   "execution_count": null,
   "metadata": {
    "collapsed": true
   },
   "outputs": [],
   "source": []
  }
 ],
 "metadata": {
  "kernelspec": {
   "display_name": "Python 2",
   "language": "python",
   "name": "python2"
  },
  "language_info": {
   "codemirror_mode": {
    "name": "ipython",
    "version": 2
   },
   "file_extension": ".py",
   "mimetype": "text/x-python",
   "name": "python",
   "nbconvert_exporter": "python",
   "pygments_lexer": "ipython2",
   "version": "2.7.11"
  }
 },
 "nbformat": 4,
 "nbformat_minor": 0
}
