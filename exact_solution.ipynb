{
 "cells": [
  {
   "cell_type": "code",
   "execution_count": 21,
   "metadata": {
    "collapsed": true
   },
   "outputs": [],
   "source": [
    "%matplotlib inline\n",
    "%precision 16\n",
    "import numpy\n",
    "import math\n",
    "import matplotlib.pyplot as plt\n",
    "import scipy.sparse as sparse\n",
    "import scipy.sparse.linalg as linalg\n",
    "import scipy.integrate as integrate"
   ]
  },
  {
   "cell_type": "code",
   "execution_count": null,
   "metadata": {
    "collapsed": true
   },
   "outputs": [],
   "source": [
    "# Solutions to Heston PDE using explicit scheme.\n",
    "def S_xi(K, alpha, xi, S_max, S_min):\n",
    "    c1 = numpy.arcsinh((S_max - K)/alpha)\n",
    "    c2 = numpy.arcsinh((S_min - K)/alpha)\n",
    "    \n",
    "    return K + alpha * numpy.sinh(c1 * xi + c2 * (1 - xi))\n",
    "\n",
    "def S_prime((K, alpha, xi, S_max, S_min):\n",
    "    c1 = numpy.arcsinh((S_max - K)/alpha)\n",
    "    c2 = numpy.arcsinh((S_min - K)/alpha)\n",
    "            \n",
    "    return alpha * (c1 - c2) * numpy.cosh(c2 * (xi - 1) - c1 * xi)\n",
    "\n",
    "def S_dbl_prime((K, alpha, xi, S_max, S_min):\n",
    "    c1 = numpy.arcsinh((S_max - K)/alpha)\n",
    "    c2 = numpy.arcsinh((S_min - K)/alpha)\n",
    "            \n",
    "    return - alpha * (c1 - c2)**2 * numpy.sinh(c2 * (xi - 1) - c1 * xi)\n",
    "            \n",
    "def V_eta(beta, eta, V_max):\n",
    "    d = numpy.arcsinh(V_max / beta)\n",
    "    \n",
    "    return beta * numpy.sinh(d * eta)\n",
    "                \n",
    "def V_prime(beta, eta, V_max):\n",
    "    d = numpy.arcsinh(V_max / beta)\n",
    "    \n",
    "    return beta * d * numpy.cosh(d * eta)\n",
    "\n",
    "def V_dbl_prime(beta, eta, V_max):\n",
    "    d = numpy.arcsinh(V_max / beta)\n",
    "    \n",
    "    return beta * d**2 * numpy.sinh(d * eta)\n",
    "                \n",
    "def Heston_Explicit(M, N, T, L):\n",
    "    \n",
    "    return S\n"
   ]
  },
  {
   "cell_type": "code",
   "execution_count": 87,
   "metadata": {
    "collapsed": false
   },
   "outputs": [],
   "source": [
    "#def Heston_Integral(f, x)\n",
    "   # return\n",
    "def Heston_Integral(phi, K, S, v, T, t, r, kappa, theta, sigma, rho, _lambda, j):\n",
    "    \n",
    "    u_1 = 1.0 / 2.0\n",
    "    u_2 = - 1.0 / 2.0\n",
    "    a = kappa * theta\n",
    "    rspi = rho * sigma * phi * 1j\n",
    "    tau = T - t\n",
    "    \n",
    "    b_1 = kappa + _lambda - rho * sigma\n",
    "    b_2 = kappa + _lambda\n",
    "    \n",
    "    d_1 = numpy.sqrt((rspi - b_1)**2 - sigma**2 * (2.0 * u_1 * phi * 1j - phi**2))\n",
    "    d_2 = numpy.sqrt((rho * sigma * phi * 1j - b_2)**2 - sigma**2 * (2.0 * u_2 * phi * 1j - phi**2))\n",
    "    \n",
    "    g_1 = (b_1 - rspi + d_1) / (b_1 - rspi - d_1)\n",
    "    g_2 = (b_2 - rspi + d_2) / (b_2 - rspi - d_2)\n",
    "   \n",
    "    D_1 = (b_1 - rspi + d_1) / sigma**2 * ((1.0 - numpy.exp(d_1 * tau)) / (1.0 - g_1 * numpy.exp(d_1 * r)))\n",
    "    D_2 = (b_2 - rspi + d_2) / sigma**2 * ((1.0 - numpy.exp(d_2 * tau)) / (1.0 - g_2 * numpy.exp(d_2 * r)))\n",
    "    \n",
    "    C_1 = r * phi * 1j * tau + a / sigma**2 * ((b_1 - rspi + d_1) * tau - 2.0 * numpy.log((1.0 - g_1 * numpy.exp(d_1 * tau))/(1.0 - g_1)))\n",
    "    C_2 = r * phi * 1j * tau + a / sigma**2 * ((b_2 - rspi + d_2) * tau - 2.0 * numpy.log((1.0 - g_2 * numpy.exp(d_2 * tau))/(1.0 - g_2)))   \n",
    "    \n",
    "    f_1 = numpy.exp(C_1 + D_1 * v + 1j * phi * numpy.log(S))\n",
    "    f_2 = numpy.exp(C_2 + D_2 * v + 1j * phi * numpy.log(S))\n",
    "    \n",
    "    if(j==1):\n",
    "        return numpy.real((numpy.exp(-1j * phi * numpy.log(K)) * f_1)/(1j * phi))\n",
    "    elif(j==2):\n",
    "        return numpy.real((numpy.exp(-1j * phi * numpy.log(K)) * f_2)/(1j * phi))"
   ]
  },
  {
   "cell_type": "code",
   "execution_count": 155,
   "metadata": {
    "collapsed": true
   },
   "outputs": [],
   "source": [
    "# The closed-form solution for Heston PDE\n",
    "from scipy.integrate import quad\n",
    "def Exact_Solution(K, S, v, T, t, r, kappa, theta, sigma, rho, _lambda):\n",
    "    \n",
    "    P_1 = 0.5 + 1.0 / numpy.pi * quad(Heston_Integral, 0, 1000, args=(K, S, v, T, t, r, kappa, theta, sigma, rho, _lambda, 1))[0]\n",
    "    P_2 = 0.5 + 1.0 / numpy.pi * quad(Heston_Integral, 0, 1000, args=(K, S, v, T, t, r, kappa, theta, sigma, rho, _lambda, 2))[0]\n",
    "    \n",
    "    Call = S * P_1 - K * numpy.exp(- r * (T - t)) * P_2\n",
    "    return Call"
   ]
  },
  {
   "cell_type": "code",
   "execution_count": 212,
   "metadata": {
    "collapsed": false
   },
   "outputs": [
    {
     "name": "stderr",
     "output_type": "stream",
     "text": [
      "/Users/Francis.Chen/anaconda/lib/python2.7/site-packages/ipykernel/__main__.py:26: RuntimeWarning: divide by zero encountered in log\n",
      "/Users/Francis.Chen/anaconda/lib/python2.7/site-packages/ipykernel/__main__.py:27: RuntimeWarning: divide by zero encountered in log\n"
     ]
    },
    {
     "data": {
      "image/png": "[encoded data removed]",
      "text/plain": [
       "<matplotlib.figure.Figure at 0x103dba350>"
      ]
     },
     "metadata": {},
     "output_type": "display_data"
    }
   ],
   "source": [
    "from mpl_toolkits.mplot3d import Axes3D\n",
    "from matplotlib import cm\n",
    "from matplotlib.ticker import LinearLocator, FormatStrFormatter\n",
    "import matplotlib.pyplot as plt\n",
    "import numpy as np\n",
    "\n",
    "K = 1200.0\n",
    "T = 0.125\n",
    "t = 0.0\n",
    "r = 0.01\n",
    "kappa = 0.02\n",
    "theta = 0.04\n",
    "sigma = 0.01\n",
    "rho = 0.5\n",
    "_lambda = 0.0\n",
    "\n",
    "\n",
    "fig = plt.figure()\n",
    "ax = fig.gca(projection='3d')\n",
    "v = np.arange(0, 1.5, 0.1)\n",
    "s = np.arange(0, 2000, 100)\n",
    "V, S = np.meshgrid(v, s)\n",
    "\n",
    "z = np.array([Exact_Solution(K, s, v, T, t, r, kappa, theta, sigma, rho, _lambda) for v, s in zip(np.ravel(V), np.ravel(S))])\n",
    "Z = z.reshape(V.shape)\n",
    "\n",
    "ax.plot_surface(V, S, Z)\n",
    "ax.set_zlim(0, 800)\n",
    "ax.set_xlim(1.2, 0.0)\n",
    "ax.set_ylim(0, 2000)\n",
    "plt.show()\n"
   ]
  },
  {
   "cell_type": "code",
   "execution_count": 236,
   "metadata": {
    "collapsed": false
   },
   "outputs": [
    {
     "name": "stdout",
     "output_type": "stream",
     "text": [
      "6.1956088359\n"
     ]
    }
   ],
   "source": [
    "K = 100.0\n",
    "S = 100.0\n",
    "V = 0.02\n",
    "T = 0.5\n",
    "t = 0.0\n",
    "r = 0.01\n",
    "kappa = 0.4\n",
    "theta = 0.2\n",
    "sigma = 0.2\n",
    "rho = 0.5\n",
    "_lambda = 0.0\n",
    "print Exact_Solution(K, S, V, T, t, r, kappa, theta, sigma, rho, _lambda)"
   ]
  }
 ],
 "metadata": {
  "kernelspec": {
   "display_name": "Python 2",
   "language": "python",
   "name": "python2"
  },
  "language_info": {
   "codemirror_mode": {
    "name": "ipython",
    "version": 2
   },
   "file_extension": ".py",
   "mimetype": "text/x-python",
   "name": "python",
   "nbconvert_exporter": "python",
   "pygments_lexer": "ipython2",
   "version": "2.7.11"
  }
 },
 "nbformat": 4,
 "nbformat_minor": 0
}
