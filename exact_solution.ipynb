{
 "cells": [
  {
   "cell_type": "code",
   "execution_count": 1,
   "metadata": {
    "collapsed": true
   },
   "outputs": [],
   "source": [
    "%matplotlib inline\n",
    "%precision 16\n",
    "import numpy\n",
    "import matplotlib.pyplot as plt\n",
    "import scipy.sparse as sparse\n",
    "import scipy.sparse.linalg as linalg\n",
    "from scipy.integrate import quad"
   ]
  },
  {
   "cell_type": "code",
   "execution_count": 2,
   "metadata": {
    "collapsed": true
   },
   "outputs": [],
   "source": [
    "K = 1200.0\n",
    "T = 0.125\n",
    "t = 0.0\n",
    "r = 0.03\n",
    "kappa = 2\n",
    "theta = 0.05\n",
    "sigma = 0.01\n",
    "rho = -0.5\n",
    "_lambda = 0.0"
   ]
  },
  {
   "cell_type": "code",
   "execution_count": 3,
   "metadata": {
    "collapsed": false
   },
   "outputs": [],
   "source": [
    "#def Heston_Integral(f, x)\n",
    "   # return\n",
    "def Heston_Integral(phi, K, S, v, T, t, r, kappa, theta, sigma, rho, _lambda, j):\n",
    "    \n",
    "    u_1 = 1.0 / 2.0\n",
    "    u_2 = - 1.0 / 2.0\n",
    "    a = kappa * theta\n",
    "    rspi = rho * sigma * phi * 1j\n",
    "    tau = T - t\n",
    "    \n",
    "    b_1 = kappa + _lambda - rho * sigma\n",
    "    b_2 = kappa + _lambda\n",
    "    \n",
    "    d_1 = numpy.sqrt((rspi - b_1)**2 - sigma**2 * (2.0 * u_1 * phi * 1j - phi**2))\n",
    "    d_2 = numpy.sqrt((rho * sigma * phi * 1j - b_2)**2 - sigma**2 * (2.0 * u_2 * phi * 1j - phi**2))\n",
    "    \n",
    "    g_1 = (b_1 - rspi + d_1) / (b_1 - rspi - d_1)\n",
    "    g_2 = (b_2 - rspi + d_2) / (b_2 - rspi - d_2)\n",
    "   \n",
    "    D_1 = (b_1 - rspi + d_1) / sigma**2 * ((1.0 - numpy.exp(d_1 * tau)) / (1.0 - g_1 * numpy.exp(d_1 * r)))\n",
    "    D_2 = (b_2 - rspi + d_2) / sigma**2 * ((1.0 - numpy.exp(d_2 * tau)) / (1.0 - g_2 * numpy.exp(d_2 * r)))\n",
    "    \n",
    "    C_1 = r * phi * 1j * tau + a / sigma**2 * ((b_1 - rspi + d_1) * tau - 2.0 * numpy.log((1.0 - g_1 * numpy.exp(d_1 * tau))/(1.0 - g_1)))\n",
    "    C_2 = r * phi * 1j * tau + a / sigma**2 * ((b_2 - rspi + d_2) * tau - 2.0 * numpy.log((1.0 - g_2 * numpy.exp(d_2 * tau))/(1.0 - g_2)))   \n",
    "    \n",
    "    f_1 = numpy.exp(C_1 + D_1 * v + 1j * phi * numpy.log(S))\n",
    "    f_2 = numpy.exp(C_2 + D_2 * v + 1j * phi * numpy.log(S))\n",
    "    \n",
    "    if(j==1):\n",
    "        return numpy.real((numpy.exp(-1j * phi * numpy.log(K)) * f_1)/(1j * phi))\n",
    "    elif(j==2):\n",
    "        return numpy.real((numpy.exp(-1j * phi * numpy.log(K)) * f_2)/(1j * phi))"
   ]
  },
  {
   "cell_type": "code",
   "execution_count": 4,
   "metadata": {
    "collapsed": true
   },
   "outputs": [],
   "source": [
    "# The closed-form solution for Heston PDE\n",
    "def Exact_Solution(S, v): \n",
    "    P_1 = 0.5 + 1.0 / numpy.pi * \\\n",
    "          quad(Heston_Integral, 0, 1000, args=(K, S, v, T, t, r, kappa, theta, sigma, rho, _lambda, 1))[0]\n",
    "    P_2 = 0.5 + 1.0 / numpy.pi * \\\n",
    "          quad(Heston_Integral, 0, 1000, args=(K, S, v, T, t, r, kappa, theta, sigma, rho, _lambda, 2))[0]\n",
    "    \n",
    "    Call = S * P_1 - K * numpy.exp(- r * (T - t)) * P_2\n",
    "    return Call"
   ]
  },
  {
   "cell_type": "code",
   "execution_count": 9,
   "metadata": {
    "collapsed": false
   },
   "outputs": [
    {
     "name": "stdout",
     "output_type": "stream",
     "text": [
      "nan\n"
     ]
    },
    {
     "name": "stderr",
     "output_type": "stream",
     "text": [
      "/Users/yuhsuan/anaconda/lib/python2.7/site-packages/ipykernel/__main__.py:26: RuntimeWarning: divide by zero encountered in log\n",
      "/Users/yuhsuan/anaconda/lib/python2.7/site-packages/ipykernel/__main__.py:27: RuntimeWarning: divide by zero encountered in log\n",
      "/Users/yuhsuan/anaconda/lib/python2.7/site-packages/scipy/integrate/quadpack.py:352: IntegrationWarning: The occurrence of roundoff error is detected, which prevents \n",
      "  the requested tolerance from being achieved.  The error may be \n",
      "  underestimated.\n",
      "  warnings.warn(msg, IntegrationWarning)\n"
     ]
    }
   ],
   "source": [
    "print Exact_Solution(0, 0)"
   ]
  },
  {
   "cell_type": "code",
   "execution_count": null,
   "metadata": {
    "collapsed": true
   },
   "outputs": [],
   "source": []
  }
 ],
 "metadata": {
  "kernelspec": {
   "display_name": "Python 2",
   "language": "python",
   "name": "python2"
  },
  "language_info": {
   "codemirror_mode": {
    "name": "ipython",
    "version": 2
   },
   "file_extension": ".py",
   "mimetype": "text/x-python",
   "name": "python",
   "nbconvert_exporter": "python",
   "pygments_lexer": "ipython2",
   "version": "2.7.11"
  }
 },
 "nbformat": 4,
 "nbformat_minor": 0
}
