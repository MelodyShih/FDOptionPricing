{
 "cells": [
  {
   "cell_type": "code",
   "execution_count": 1,
   "metadata": {
    "collapsed": true
   },
   "outputs": [],
   "source": [
    "%matplotlib inline\n",
    "%precision 16\n",
    "import numpy\n",
    "import scipy.sparse as sparse\n",
    "import scipy.sparse.linalg as linalg\n",
    "import matplotlib.pyplot as plt\n",
    "from scipy.integrate import quad"
   ]
  },
  {
   "cell_type": "markdown",
   "metadata": {},
   "source": [
    "## Test for backward euler method"
   ]
  },
  {
   "cell_type": "markdown",
   "metadata": {},
   "source": [
    "Set variables related to change of variables: $(S,v)\\rightarrow(\\xi, \\eta)$"
   ]
  },
  {
   "cell_type": "code",
   "execution_count": 2,
   "metadata": {
    "collapsed": false
   },
   "outputs": [],
   "source": [
    "K     = 1200.0\n",
    "\n",
    "# Stock spatial space\n",
    "S_max = 2000.0\n",
    "S_min = 400.0\n",
    "alpha = S_max - S_min\n",
    "\n",
    "# Variance space\n",
    "v_max = 0.002\n",
    "v_min = 0.0\n",
    "beta  = v_max - v_min\n",
    "\n",
    "c1    = numpy.arcsinh( (S_max - K)/alpha )\n",
    "c2    = numpy.arcsinh( (S_min - K)/alpha )\n",
    "d1    = numpy.arcsinh( v_max/beta )"
   ]
  },
  {
   "cell_type": "markdown",
   "metadata": {},
   "source": [
    "Set coefficients of heston pde"
   ]
  },
  {
   "cell_type": "code",
   "execution_count": 3,
   "metadata": {
    "collapsed": false
   },
   "outputs": [],
   "source": [
    "rho   = -0.5\n",
    "sigma = 0.01\n",
    "r     = 0.01\n",
    "q     = 0.0\n",
    "kappa = 0.02\n",
    "theta = 0.04"
   ]
  },
  {
   "cell_type": "markdown",
   "metadata": {
    "collapsed": false
   },
   "source": [
    "Set grid"
   ]
  },
  {
   "cell_type": "code",
   "execution_count": 4,
   "metadata": {
    "collapsed": false
   },
   "outputs": [
    {
     "name": "stdout",
     "output_type": "stream",
     "text": [
      "0.047619047619\n",
      "0.0909090909091\n",
      "0.01\n"
     ]
    }
   ],
   "source": [
    "t_final = 0.02\n",
    "N = 20\n",
    "M = 10\n",
    "L = 3\n",
    "\n",
    "xi  = numpy.linspace(0, 1, N+2) \n",
    "eta = numpy.linspace(0, 1, M+2)\n",
    "t   = numpy.linspace(0, t_final, L)\n",
    "\n",
    "# Interior points\n",
    "#xi  =  xi[1:-1] \n",
    "#eta = eta[1:-1]\n",
    "\n",
    "delta_xi  =  xi[1] -  xi[0]\n",
    "delta_eta = eta[1] - eta[0]\n",
    "delta_t   =   t[1] -   t[0]\n",
    "\n",
    "print delta_xi\n",
    "print delta_eta\n",
    "print delta_t"
   ]
  },
  {
   "cell_type": "markdown",
   "metadata": {},
   "source": [
    "Common function that needs during entire run time"
   ]
  },
  {
   "cell_type": "code",
   "execution_count": 5,
   "metadata": {
    "collapsed": false
   },
   "outputs": [],
   "source": [
    "S         = lambda xi: K + alpha * numpy.sinh( c1*xi + c2*(1-xi) )\n",
    "dSdxi     = lambda xi: alpha * numpy.cosh( c1*xi + c2*(1-xi) ) * (c1 - c2)\n",
    "d2Sdxi2   = lambda xi: alpha * numpy.sinh( c1*xi + c2*(1-xi) ) * (c1 - c2)**2\n",
    "\n",
    "v         = lambda eta: beta*numpy.sinh( d1*eta )\n",
    "dvdeta    = lambda eta: numpy.cosh( d1*eta ) * d1 * beta\n",
    "d2vdeta2  = lambda eta: numpy.sinh( d1*eta ) * d1**2 * beta"
   ]
  },
  {
   "cell_type": "markdown",
   "metadata": {},
   "source": [
    "Allocate solution vector U"
   ]
  },
  {
   "cell_type": "code",
   "execution_count": 6,
   "metadata": {
    "collapsed": false
   },
   "outputs": [],
   "source": [
    "U = numpy.empty([N+2, M+2])\n",
    "U_interior_old = numpy.zeros(N*M)\n",
    "U_interior_new = numpy.zeros(N*M)"
   ]
  },
  {
   "cell_type": "code",
   "execution_count": null,
   "metadata": {
    "collapsed": true
   },
   "outputs": [],
   "source": [
    "def Heston_Integral(phi, K, S, v, T, t, r, kappa, theta, sigma, rho, _lambda, j):\n",
    "    \n",
    "    u_1 = 1.0 / 2.0\n",
    "    u_2 = - 1.0 / 2.0\n",
    "    a = kappa * theta\n",
    "    rspi = rho * sigma * phi * 1j\n",
    "    tau = T - t\n",
    "    \n",
    "    b_1 = kappa + _lambda - rho * sigma\n",
    "    b_2 = kappa + _lambda\n",
    "    \n",
    "    d_1 = numpy.sqrt((rspi - b_1)**2 - sigma**2 * (2.0 * u_1 * phi * 1j - phi**2))\n",
    "    d_2 = numpy.sqrt((rho * sigma * phi * 1j - b_2)**2 - sigma**2 * (2.0 * u_2 * phi * 1j - phi**2))\n",
    "    \n",
    "    g_1 = (b_1 - rspi + d_1) / (b_1 - rspi - d_1)\n",
    "    g_2 = (b_2 - rspi + d_2) / (b_2 - rspi - d_2)\n",
    "   \n",
    "    D_1 = (b_1 - rspi + d_1) / sigma**2 * ((1.0 - numpy.exp(d_1 * tau)) / (1.0 - g_1 * numpy.exp(d_1 * r)))\n",
    "    D_2 = (b_2 - rspi + d_2) / sigma**2 * ((1.0 - numpy.exp(d_2 * tau)) / (1.0 - g_2 * numpy.exp(d_2 * r)))\n",
    "    \n",
    "    C_1 = r * phi * 1j * tau + a / sigma**2 * ((b_1 - rspi + d_1) * tau - 2.0 * numpy.log((1.0 - g_1 * numpy.exp(d_1 * tau))/(1.0 - g_1)))\n",
    "    C_2 = r * phi * 1j * tau + a / sigma**2 * ((b_2 - rspi + d_2) * tau - 2.0 * numpy.log((1.0 - g_2 * numpy.exp(d_2 * tau))/(1.0 - g_2)))   \n",
    "    \n",
    "    f_1 = numpy.exp(C_1 + D_1 * v + 1j * phi * numpy.log(S))\n",
    "    f_2 = numpy.exp(C_2 + D_2 * v + 1j * phi * numpy.log(S))\n",
    "    \n",
    "    if(j==1):\n",
    "        return numpy.real((numpy.exp(-1j * phi * numpy.log(K)) * f_1)/(1j * phi))\n",
    "    elif(j==2):\n",
    "        return numpy.real((numpy.exp(-1j * phi * numpy.log(K)) * f_2)/(1j * phi))"
   ]
  },
  {
   "cell_type": "code",
   "execution_count": null,
   "metadata": {
    "collapsed": true
   },
   "outputs": [],
   "source": [
    "def Exact_Solution(K, S, v, T, t, r, kappa, theta, sigma, rho, _lambda):\n",
    "    \n",
    "    P_1 = 0.5 + 1.0 / numpy.pi * quad(Heston_Integral, 0, 1000, args=(K, S, v, T, t, r, kappa, theta, sigma, rho, _lambda, 1))[0]\n",
    "    P_2 = 0.5 + 1.0 / numpy.pi * quad(Heston_Integral, 0, 1000, args=(K, S, v, T, t, r, kappa, theta, sigma, rho, _lambda, 2))[0]\n",
    "    \n",
    "    Call = S * P_1 - K * numpy.exp(- r * (T - t)) * P_2\n",
    "    return Call"
   ]
  },
  {
   "cell_type": "markdown",
   "metadata": {},
   "source": [
    "Set function to construct matrix A"
   ]
  },
  {
   "cell_type": "code",
   "execution_count": 7,
   "metadata": {
    "collapsed": false
   },
   "outputs": [],
   "source": [
    "a = lambda i,j: delta_t*rho*sigma/(4.0*delta_xi*delta_eta)*v(eta[j])*S(xi[i])/(dSdxi(xi[i]) * dvdeta(eta[j]))\n",
    "b = lambda i,j: sigma**2 * delta_t/(2.0*delta_eta**2)*v(eta[j])/dvdeta(eta[j])**2 - \\\n",
    "                delta_t/(2.0*delta_eta)*(kappa*(theta-v(eta[j]))/dvdeta(eta[j]) - \\\n",
    "                0.5*sigma**2*v(eta[j])*d2vdeta2(eta[j])/dvdeta(eta[j])**3)\n",
    "c = lambda i,j: delta_t/delta_xi**2*v(eta[j])*S(xi[i])**2/dSdxi(xi[i])**2 - \\\n",
    "                delta_t/(2.0*delta_xi)*((r-q)*S(xi[i])/dSdxi(xi[i]) - 0.5*v(eta[j])*S(xi[i])**2*d2Sdxi2(xi[i])/dSdxi(xi[i])**3)\n",
    "d = lambda i,j: 1 + r*delta_t + delta_t/delta_xi**2 * v(eta[j])*S(xi[i])**2/dSdxi(xi[i])**2 + \\\n",
    "                sigma**2*delta_t/delta_eta**2*v(eta[j])/dvdeta(eta[j])**2\n",
    "e = lambda i,j: delta_t/delta_xi**2*v(eta[j])*S(xi[i])**2/dSdxi(xi[i])**2 + \\\n",
    "                delta_t/(2*delta_xi)*((r-q)*S(xi[i])/dSdxi(xi[i]) - 0.5*v(eta[j])*S(xi[i])**2*d2Sdxi2(xi[i])/dSdxi(xi[i])**3)\n",
    "f = lambda i,j: sigma**2*delta_t/(2*delta_eta**2)*v(eta[j])/dvdeta(eta[j])**2 + \\\n",
    "                delta_t/(2.0*delta_eta)*(kappa*(theta - v(eta[j]))/dvdeta(eta[j]) - 0.5*sigma**2*v(eta[j])*d2vdeta2(eta[j])/dvdeta(eta[j])**3)"
   ]
  },
  {
   "cell_type": "markdown",
   "metadata": {
    "collapsed": true
   },
   "source": [
    "Allocate memory"
   ]
  },
  {
   "cell_type": "code",
   "execution_count": 8,
   "metadata": {
    "collapsed": true
   },
   "outputs": [],
   "source": [
    "A = numpy.zeros([M*N, M*N])\n",
    "rhs = numpy.zeros(N*M)"
   ]
  },
  {
   "cell_type": "markdown",
   "metadata": {},
   "source": [
    "Variables for boundary condition"
   ]
  },
  {
   "cell_type": "code",
   "execution_count": 9,
   "metadata": {
    "collapsed": false
   },
   "outputs": [],
   "source": [
    "# For bottom bc xi = 0 \n",
    "_l = 2.0 * dSdxi(xi[0]) / ( dSdxi(xi[0]) + 0.5 * delta_xi * d2Sdxi2(xi[0]) )\n",
    "l_ = - ( dSdxi(xi[0]) - 0.5* delta_xi * d2Sdxi2(xi[0]) ) / ( dSdxi(xi[0]) + 0.5* delta_xi* d2Sdxi2(xi[0]) )\n",
    "\n",
    "# For upper bc xi = 1\n",
    "_r = - ( dSdxi(xi[-1]) + 0.5 * delta_xi * d2Sdxi2(xi[-1]) ) / ( dSdxi(xi[-1]) - 0.5 * delta_xi * d2Sdxi2(xi[-1]) )\n",
    "r_ = 2.0 * dSdxi(xi[-1]) / ( dSdxi(xi[-1]) - 0.5 * delta_xi * d2Sdxi2(xi[-1]) )"
   ]
  },
  {
   "cell_type": "markdown",
   "metadata": {},
   "source": [
    "Construct matrix A"
   ]
  },
  {
   "cell_type": "code",
   "execution_count": 10,
   "metadata": {
    "collapsed": false
   },
   "outputs": [],
   "source": [
    "for irow in range(M*N):\n",
    "    # U_hat[irow] == U_interior[i,j]\n",
    "    i = irow/M\n",
    "    j = numpy.mod(irow, M)\n",
    "    \n",
    "    if( i == 0 ):\n",
    "        if (j == 0):\n",
    "            A[irow, irow]         =  d(i,j)\n",
    "            A[irow, irow + 1]     = -f(i,j)\n",
    "            A[irow, irow + M]     = -e(i,j)\n",
    "            A[irow, irow + M + 1] = -a(i,j)\n",
    "        elif (j == M-1):\n",
    "            A[irow, irow - 1]     = -b(i,j) - a(i,j)*_l\n",
    "            A[irow, irow]         =  d(i,j) - c(i,j)*_l\n",
    "            A[irow, irow + M - 1] =  a(i,j) - a(i,j)*l_\n",
    "            A[irow, irow + M]     = -e(i,j) - c(i,j)*l_\n",
    "            rhs[irow] = -a(i,j)*S(0) + f(i,j)*S(xi[i]) + a(i,j)*S(xi[i+1])\n",
    "        else: # Add term for bc condition\n",
    "            A[irow, irow - 1]     = -b(i,j) - a(i,j)*_l\n",
    "            A[irow, irow]         =  d(i,j) - c(i,j)*_l\n",
    "            A[irow, irow + 1]     = -f(i,j) + a(i,j)*_l\n",
    "            A[irow, irow + M - 1] =  a(i,j) - a(i,j)*l_\n",
    "            A[irow, irow + M]     = -e(i,j) - c(i,j)*l_\n",
    "            A[irow, irow + M + 1] = -a(i,j) + a(i,j)*l_\n",
    "    elif (i == N-1):\n",
    "        if (j == 0):\n",
    "            A[irow, irow - M ]    = -c(i,j) - e(i,j)*_r\n",
    "            A[irow, irow - M + 1] =  a(i,j) - a(i,j)*_r\n",
    "            A[irow, irow]         =  d(i,j) - e(i,j)*r_\n",
    "            A[irow, irow + 1]     = -f(i,j) - a(i,j)*r_\n",
    "        elif (j == M-1):\n",
    "            A[irow, irow - M - 1] = -a(i,j) + a(i,j)*_r\n",
    "            A[irow, irow - M ]    = -c(i,j) - e(i,j)*_r\n",
    "            A[irow, irow - 1]     = -b(i,j) + a(i,j)*r_\n",
    "            A[irow, irow]         =  d(i,j) - e(i,j)*r_\n",
    "            rhs[irow] = -a(i,j)*S(xi[i-1]) + f(i,j)*S(xi[i]) + a(i,j)*S(1)\n",
    "        else:\n",
    "            A[irow, irow - M - 1] = -a(i,j) + a(i,j)*_r\n",
    "            A[irow, irow - M ]    = -c(i,j) - e(i,j)*_r\n",
    "            A[irow, irow - M + 1] =  a(i,j) - a(i,j)*_r\n",
    "            A[irow, irow - 1]     = -b(i,j) + a(i,j)*r_\n",
    "            A[irow, irow]         =  d(i,j) - e(i,j)*r_\n",
    "            A[irow, irow + 1]     = -f(i,j) - a(i,j)*r_\n",
    "    else:\n",
    "        if (j == 0):   \n",
    "            A[irow, irow - M ]    = -c(i,j)\n",
    "            A[irow, irow - M + 1] = -a(i,j)\n",
    "            A[irow, irow]         =  d(i,j)\n",
    "            A[irow, irow + 1]     = -f(i,j)\n",
    "            A[irow, irow + M]     = -e(i,j)\n",
    "            A[irow, irow + M + 1] =  a(i,j)\n",
    "        elif (j == M-1):\n",
    "            A[irow, irow - M - 1] = -a(i,j) \n",
    "            A[irow, irow - M ]    = -c(i,j)\n",
    "            A[irow, irow - 1]     = -b(i,j)\n",
    "            A[irow, irow]         =  d(i,j)\n",
    "            A[irow, irow + M - 1] =  a(i,j)\n",
    "            A[irow, irow + M]     = -e(i,j)\n",
    "            rhs[irow] = -a(i,j)*S(xi[i-1]) + f(i,j)*S(xi[i]) + a(i,j)*S(xi[i+1])\n",
    "        else:\n",
    "            A[irow, irow - M - 1] = -a(i,j) \n",
    "            A[irow, irow - M ]    = -c(i,j)\n",
    "            A[irow, irow - M + 1] =  a(i,j)\n",
    "            A[irow, irow - 1]     = -b(i,j)\n",
    "            A[irow, irow]         =  d(i,j)\n",
    "            A[irow, irow + 1]     = -f(i,j)\n",
    "            A[irow, irow + M - 1] =  a(i,j)\n",
    "            A[irow, irow + M]     = -e(i,j)\n",
    "            A[irow, irow + M + 1] = -a(i,j)\n",
    "# sA = sparse.csr_matrix(A)"
   ]
  },
  {
   "cell_type": "code",
   "execution_count": 11,
   "metadata": {
    "collapsed": false
   },
   "outputs": [
    {
     "name": "stdout",
     "output_type": "stream",
     "text": [
      "1.04891595804\n",
      "-0.0376309627527\n",
      "322.728849638\n"
     ]
    },
    {
     "data": {
      "image/png": "[encoded data removed]",
      "text/plain": [
       "<matplotlib.figure.Figure at 0x1066b6b50>"
      ]
     },
     "metadata": {},
     "output_type": "display_data"
    }
   ],
   "source": [
    "fig = plt.figure()\n",
    "plt.spy(A[0:60, 0:60])\n",
    "print numpy.max(A)\n",
    "print numpy.min(A)\n",
    "\n",
    "E, X = numpy.meshgrid(numpy.linspace(0,1,N*M), numpy.linspace(0,1,N*M))\n",
    "# Plot solution\n",
    "# fig = plt.figure()\n",
    "# axes = fig.add_subplot(1, 1, 1)\n",
    "# sol_plot = axes.pcolor(E, X, A)\n",
    "# axes.set_title(\"Element of A\")\n",
    "# axes.set_xlabel(\"eta\")\n",
    "# axes.set_ylabel(\"xi\")\n",
    "# cbar = fig.colorbar(sol_plot, ax=axes)\n",
    "# plt.show\n",
    "print numpy.linalg.det(A)"
   ]
  },
  {
   "cell_type": "markdown",
   "metadata": {},
   "source": [
    "Construct A_bc"
   ]
  },
  {
   "cell_type": "code",
   "execution_count": 12,
   "metadata": {
    "collapsed": false
   },
   "outputs": [
    {
     "name": "stdout",
     "output_type": "stream",
     "text": [
      "1.00020646892\n"
     ]
    },
    {
     "data": {
      "text/plain": [
       "[<matplotlib.lines.Line2D at 0x10732ac50>]"
      ]
     },
     "execution_count": 12,
     "metadata": {},
     "output_type": "execute_result"
    },
    {
     "data": {
      "image/png": "[encoded data removed]",
      "text/plain": [
       "<matplotlib.figure.Figure at 0x10723d190>"
      ]
     },
     "metadata": {},
     "output_type": "display_data"
    }
   ],
   "source": [
    "# For each time step, we need to first solve the pde for lower boundary condition\n",
    "# lower bc\n",
    "# Construct matrix A_bc for boundary condition\n",
    "alpha_bc = (r-q) * delta_t/(2.0 * delta_xi) * S(xi)/dSdxi(xi)\n",
    "beta_bc = kappa*theta*delta_t / ( 2*delta_eta*dvdeta(0) )\n",
    "\n",
    "maindiag = numpy.ones(N)*(1 + r*delta_t)\n",
    "maindiag[0] += alpha_bc[0] * _l\n",
    "maindiag[-1] -= alpha_bc[-1] * r_\n",
    "\n",
    "upperdiag = numpy.zeros(N)\n",
    "upperdiag[1:] = -alpha_bc[:-1]\n",
    "upperdiag[1] += alpha_bc[0] * l_\n",
    "\n",
    "lowerdiag = numpy.zeros(N)\n",
    "lowerdiag[:-1] = alpha_bc[1:]\n",
    "lowerdiag[-2] -= alpha_bc[-1]*_r\n",
    "\n",
    "A_bc = sparse.spdiags([lowerdiag, maindiag, upperdiag], [-1, 0, 1], N, N).tocsr()\n",
    "print numpy.linalg.det(A_bc.todense())\n",
    "\n",
    "#initialize U_bc vector\n",
    "U_bc = numpy.zeros(N)\n",
    "U_bc = numpy.maximum(0, S(xi) - K)\n",
    "\n",
    "fig = plt.figure()\n",
    "axes = fig.add_subplot(1, 1, 1)\n",
    "axes.plot(range(N), U_bc, 'o')"
   ]
  },
  {
   "cell_type": "markdown",
   "metadata": {},
   "source": [
    "Do backward Euler, $AU^{n+1} = U^{n} + rhs$"
   ]
  },
  {
   "cell_type": "markdown",
   "metadata": {},
   "source": [
    "Initialize U vector"
   ]
  },
  {
   "cell_type": "code",
   "execution_count": 13,
   "metadata": {
    "collapsed": false
   },
   "outputs": [],
   "source": [
    "for i in range(N):\n",
    "    U_interior_old[i*M: (i+1)*M] = numpy.maximum(numpy.ones(M) * S(xi[i]) - K , 0.0)\n",
    "# Add for test\n",
    "U_init = numpy.copy(U_interior_old)"
   ]
  },
  {
   "cell_type": "code",
   "execution_count": 14,
   "metadata": {
    "collapsed": false
   },
   "outputs": [
    {
     "data": {
      "image/png": "[encoded data removed]",
      "text/plain": [
       "<matplotlib.figure.Figure at 0x107390f90>"
      ]
     },
     "metadata": {},
     "output_type": "display_data"
    },
    {
     "data": {
      "image/png": "[encoded data removed]",
      "text/plain": [
       "<matplotlib.figure.Figure at 0x107604b10>"
      ]
     },
     "metadata": {},
     "output_type": "display_data"
    },
    {
     "data": {
      "image/png": "[encoded data removed]",
      "text/plain": [
       "<matplotlib.figure.Figure at 0x107681410>"
      ]
     },
     "metadata": {},
     "output_type": "display_data"
    },
    {
     "data": {
      "image/png": "[encoded data removed]",
      "text/plain": [
       "<matplotlib.figure.Figure at 0x107904910>"
      ]
     },
     "metadata": {},
     "output_type": "display_data"
    },
    {
     "data": {
      "image/png": "[encoded data removed]",
      "text/plain": [
       "<matplotlib.figure.Figure at 0x107938410>"
      ]
     },
     "metadata": {},
     "output_type": "display_data"
    },
    {
     "data": {
      "image/png": "[encoded data removed]",
      "text/plain": [
       "<matplotlib.figure.Figure at 0x1079da390>"
      ]
     },
     "metadata": {},
     "output_type": "display_data"
    }
   ],
   "source": [
    "for timestep in t:\n",
    "    E, X = numpy.meshgrid(v(eta), S(xi))\n",
    "    fig = plt.figure()\n",
    "    axes = fig.add_subplot(1, 1, 1)\n",
    "    sol_plot = axes.pcolor(E, X, numpy.reshape(U_interior_old, [N, M]), cmap=plt.get_cmap('RdBu_r'))\n",
    "    axes.set_title(\"Solution U(v,S), at time =%f\"%(timestep))\n",
    "    axes.set_xlabel(\"v\")\n",
    "    axes.set_ylabel(\"S\")\n",
    "    cbar = fig.colorbar(sol_plot, ax=axes)\n",
    "\n",
    "    #rhs (Need U vector in previous time step)\n",
    "    rhs_bc = numpy.zeros(N)\n",
    "    for i in range(len(rhs_bc)):\n",
    "        rhs_bc[i] = (-3.0*beta_bc+1)*U_bc[i] + 4.0*beta_bc*U_interior_old[i*M] - beta_bc*U_interior_old[i*M+1]\n",
    "    U_bc = linalg.spsolve(A_bc, rhs_bc)\n",
    "    \n",
    "    fig = plt.figure()\n",
    "    axes = fig.add_subplot(1, 1, 1)\n",
    "    axes.plot(range(N), U_bc, 'o')\n",
    "    \n",
    "    # After solve the lower boundary condition, update the corresponding rhs\n",
    "    for i in range(N):\n",
    "        if i==0:\n",
    "            rhs[i*M] = a(i,0)*( U_bc[i+1]*l_ + U_bc[i]*_l ) + b(i,0)*U_bc[i] - a(i,0)*U_bc[i+1]\n",
    "        elif i==N-1:\n",
    "            rhs[i*M] = a(i,0)*U_bc[i-1] + b(i,0)*U_bc[i] - a(i,0)*( U_bc[i-1]*_r + U_bc[i]*r_ )\n",
    "        else:\n",
    "            rhs[i*M] = a(i,0)*U_bc[i-1] + b(i,0)*U_bc[i] - a(i,0)*U_bc[i+1]\n",
    "    U_interior_new = numpy.linalg.solve(A, U_interior_old)\n",
    "#    U_interior_new = numpy.linalg.solve(A, U_interior_old + rhs)\n",
    "#     U_interior_new = linalg.spsolve(sA, U_interior_old + rhs)\n",
    "    U_interior_old = numpy.copy(U_interior_new)\n",
    "    "
   ]
  },
  {
   "cell_type": "code",
   "execution_count": 15,
   "metadata": {
    "collapsed": false
   },
   "outputs": [],
   "source": [
    "# for i in xrange(1,N):\n",
    "#     if i==N-1:\n",
    "#         print A_bc[i,i-1], alpha_bc[i]\n",
    "#     else:\n",
    "#         print A_bc[i,i-1], A_bc[i,i+1], alpha_bc[i]\n",
    "# print alpha_bc[0] * l_"
   ]
  },
  {
   "cell_type": "markdown",
   "metadata": {},
   "source": [
    "Reshape the U vector"
   ]
  },
  {
   "cell_type": "code",
   "execution_count": 16,
   "metadata": {
    "collapsed": false
   },
   "outputs": [
    {
     "name": "stdout",
     "output_type": "stream",
     "text": [
      "(20, 10)\n"
     ]
    }
   ],
   "source": [
    "U_interior = numpy.reshape(U_interior_new, [N, M])\n",
    "print U_interior.shape"
   ]
  },
  {
   "cell_type": "code",
   "execution_count": 17,
   "metadata": {
    "collapsed": false,
    "scrolled": true
   },
   "outputs": [
    {
     "data": {
      "image/png": "[encoded data removed]",
      "text/plain": [
       "<matplotlib.figure.Figure at 0x107368590>"
      ]
     },
     "metadata": {},
     "output_type": "display_data"
    },
    {
     "data": {
      "image/png": "[encoded data removed]",
      "text/plain": [
       "<matplotlib.figure.Figure at 0x1089f9a50>"
      ]
     },
     "metadata": {},
     "output_type": "display_data"
    },
    {
     "name": "stdout",
     "output_type": "stream",
     "text": [
      "0.00177955350148 1918.82893423\n",
      "637.341333975\n"
     ]
    }
   ],
   "source": [
    "E, X = numpy.meshgrid(v(eta), S(xi))\n",
    "#E, X = numpy.meshgrid(eta, xi)\n",
    "# fig = plt.figure()\n",
    "# # Plot right boundary condition\n",
    "# axes = fig.add_subplot(1, 1, 1)\n",
    "# axes.plot(xi, S(xi), 'o')\n",
    "\n",
    "# fig = plt.figure()\n",
    "# axes = fig.add_subplot(1, 1, 1)\n",
    "# axes.plot(eta, v(eta), 'o')\n",
    "# Plot solution\n",
    "fig = plt.figure()\n",
    "axes = fig.add_subplot(1, 1, 1)\n",
    "sol_plot = axes.pcolor(E, X, U_interior, cmap=plt.get_cmap('RdBu_r'))\n",
    "axes.set_title(\"Solution U(v,S)\")\n",
    "axes.set_xlabel(\"v\")\n",
    "axes.set_ylabel(\"S\")\n",
    "cbar = fig.colorbar(sol_plot, ax=axes)\n",
    "# Plot initial data\n",
    "fig = plt.figure()\n",
    "axes = fig.add_subplot(1, 1, 1)\n",
    "sol_plot = axes.pcolor(E, X, numpy.reshape(U_init, [N, M]), cmap=plt.get_cmap('RdBu_r'))\n",
    "axes.set_title(\"Solution U(v,S)\")\n",
    "axes.set_xlabel(\"v\")\n",
    "axes.set_ylabel(\"S\")\n",
    "cbar = fig.colorbar(sol_plot, ax=axes)\n",
    "plt.show()\n",
    "\n",
    "print v(eta[-1]), S(xi[-1])\n",
    "print U_interior[-1,-1]"
   ]
  },
  {
   "cell_type": "code",
   "execution_count": null,
   "metadata": {
    "collapsed": true
   },
   "outputs": [],
   "source": []
  }
 ],
 "metadata": {
  "kernelspec": {
   "display_name": "Python 2",
   "language": "python",
   "name": "python2"
  },
  "language_info": {
   "codemirror_mode": {
    "name": "ipython",
    "version": 2
   },
   "file_extension": ".py",
   "mimetype": "text/x-python",
   "name": "python",
   "nbconvert_exporter": "python",
   "pygments_lexer": "ipython2",
   "version": "2.7.11"
  }
 },
 "nbformat": 4,
 "nbformat_minor": 0
}
