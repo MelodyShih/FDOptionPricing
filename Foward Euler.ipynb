{
 "cells": [
  {
   "cell_type": "code",
   "execution_count": 1,
   "metadata": {
    "collapsed": true
   },
   "outputs": [],
   "source": [
    "%matplotlib inline\n",
    "%precision 16\n",
    "import numpy\n",
    "import scipy.sparse as sparse\n",
    "import scipy.sparse.linalg as linalg\n",
    "import matplotlib.pyplot as plt\n",
    "from scipy.integrate import quad"
   ]
  },
  {
   "cell_type": "markdown",
   "metadata": {},
   "source": [
    "Numerical method: Forward Euler (Explicit)"
   ]
  },
  {
   "cell_type": "markdown",
   "metadata": {},
   "source": [
    "# Heston PDE"
   ]
  },
  {
   "cell_type": "markdown",
   "metadata": {},
   "source": [
    "$$\n",
    "\\frac{\\partial U}{\\partial t}(S,v,t) = \\frac 1 2 vS^2\\frac{\\partial^2 U}{\\partial S^2 } + \\rho\\sigma vS \\frac{\\partial^2 U}{\\partial S\\partial v} + \\frac 1 2 \\sigma^2v \\frac{\\partial^2U}{\\partial v^2} + rS\\frac{\\partial U}{\\partial S} + \\kappa(\\theta - v)\\frac{\\partial U}{\\partial v}-rU\n",
    "$$\n",
    "Initial condition:\n",
    "$$\n",
    "    U(S, v, 0) = max(0,S - K)\n",
    "$$\n",
    "Boundary condition:\n",
    "$$\n",
    "\\begin{align}\n",
    "    U(0,v,t) &=& 0\\\\\n",
    "    \\lim_{S\\to\\infty} \\frac{\\partial U}{\\partial s}(S,v,t) &=& 0\\\\\n",
    "    rS\\frac{\\partial U}{\\partial S}(S,0,t) + \\kappa\\theta\\frac{\\partial U}{\\partial v}(S,0,t) - rU(S,0,t)+\\frac{\\partial U}{\\partial t}(S,0,t) &=& 0\\\\\n",
    "    \\lim_{v\\to\\infty}U(S,v,t) &=& S\n",
    "\\end{align}\n",
    "$$"
   ]
  },
  {
   "cell_type": "markdown",
   "metadata": {},
   "source": [
    "# Discretization"
   ]
  },
  {
   "cell_type": "markdown",
   "metadata": {},
   "source": [
    "* For the first and second derivatives $\\rightarrow$ Use the central finite difference approximations\n",
    "* For the cross derivatives $\\rightarrow$ Use the second order approximation in both $S$ and $v$\n",
    "\n",
    "$$\n",
    "\\begin{align}\n",
    "\\left(\\frac{\\partial U}{\\partial S}\\right)_{i,j} &\\approx \\frac{U_{i+1, j} - U_{i-1,j}}{2\\Delta S}\\\\\n",
    "\\left(\\frac{\\partial U}{\\partial v}\\right)_{i,j} &\\approx \\frac{U_{i, j+1} - U_{i,j-1}}{2\\Delta v}\\\\\n",
    "\\left(\\frac{\\partial^2 U}{\\partial S^2}\\right)_{i,j} &\\approx \\frac{U_{i+1, j} - 2U_{i,j} + U_{i-1,j}}{\\Delta S^2}\\\\\n",
    "\\left(\\frac{\\partial^2 U}{\\partial v^2}\\right)_{i,j} &\\approx \\frac{U_{i, j+1} - 2U_{i,j} + U_{i,j-1}}{\\Delta v^2}\\\\\n",
    "\\left(\\frac{\\partial^2 U}{\\partial S\\partial v}\\right)_{i,j} &\\approx \\frac{U_{i+1, j+1} - U_{i-1,j+1} - U_{i+1,j-1}+U_{i-1,j-1}}{4\\Delta s\\Delta v}\n",
    "\\end{align}\n",
    "$$\n",
    "\n",
    "$$\n",
    "\\begin{align}\n",
    "\\frac{dU_{i,j}}{dt} &= (S_i)^2v_j\\frac{U_{i+1, j} - 2U_{i,j} + U_{i-1,j}}{2\\Delta S^2}\\\\\n",
    "&+ \\rho\\sigma S_iv_j\\frac{U_{i+1, j+1} - U_{i-1,j} - U_{i,j-1}+U_{i-1,j-1}}{4\\Delta s\\Delta v}\\\\ \n",
    "&+ \\sigma^2v_j\\frac{U_{i, j+1} - 2U_{i,j} + U_{i,j-1}}{\\Delta v^2}\\\\\n",
    "&+rS_i\\frac{U_{i+1, j} - U_{i-1,j}}{2\\Delta S}\\\\\n",
    "&+\\kappa(\\theta-v_j)\\frac{U_{i, j+1} - U_{i,j-1}}{2\\Delta v}-rU_{i,j}\n",
    "\\end{align}\n",
    "$$"
   ]
  },
  {
   "cell_type": "markdown",
   "metadata": {},
   "source": [
    "# Foward Euler method"
   ]
  },
  {
   "cell_type": "markdown",
   "metadata": {},
   "source": [
    "Here, we use forward euler method to discretize the time derivative:\n",
    "$$\n",
    "    U^{n+1}_{i,j} = U^{n}_{i,j} + \\Delta t \\left((S_i)^2v_j\\frac{U_{i+1, j} - 2U_{i,j} + U_{i-1,j}}{2\\left(\\Delta S\\right)^2}\n",
    "+ \\rho\\sigma S_iv_j\\frac{U_{i+1, j+1} - U_{i-1,j+1} - U_{i+1,j-1}+U_{i-1,j-1}}{4\\Delta s\\Delta v} \n",
    "+ \\sigma^2v_j\\frac{U_{i, j+1} - 2U_{i,j} + U_{i,j-1}}{2\\left(\\Delta v\\right)^2}\n",
    "+rS_i\\frac{U_{i+1, j} - U_{i-1,j}}{2\\Delta S}\n",
    "+\\kappa(\\theta-v_j)\\frac{U_{i, j+1} - U_{i,j-1}}{2\\Delta v}-rU_{i,j}\\right)\n",
    "$$\n",
    "The explicit finite difference scheme becomes:\n",
    "$$\n",
    "    U^{n+1}_{i,j} = a_{i,j} U^n_{i-1,j-1}+ b_{i,j} U^n_{i-1,j} + c_{i,j} U^n_{i-1, j+1} + d_{i,j} U^n_{i, j-1} + e_{i,j} U^n_{i, j} + f_{i,j} U^n_{i, j+1} + g_{i,j} U^n_{i+1, j-1} + h_{i,j} U^n_{i+1, j} + k_{i,j} U^n_{i+1, j+1}\n",
    "$$"
   ]
  },
  {
   "cell_type": "markdown",
   "metadata": {},
   "source": [
    "Where\n",
    "$$\n",
    "\\begin{align}\n",
    "    a_{i,j} &= -c_{i,j} = -g_{i,j} = k_{i,j} = \\frac{\\rho\\sigma\\Delta t}{4\\Delta S\\Delta v} S_i v_j\\\\\n",
    "    b_{i,j} &= \\Delta t\\left(\\frac{(S_i)^2v_j}{2\\left(\\Delta S\\right)^2} - \\frac{rS_i}{2\\Delta S}\\right)\\\\\n",
    "    d_{i,j} &= \\Delta t\\left(\\frac{\\sigma^2v_j}{2\\left(\\Delta v\\right)^2} - \\frac{\\kappa(\\theta - v_j)}{2\\Delta v}\\right)\\\\\n",
    "    e_{i,j} &= 1 - \\Delta t\\left(r + \\frac{S_i^2v_j}{\\left(\\Delta S\\right)^2} + \\frac{\\sigma^2v_j}{\\left(\\Delta v\\right)^2}\\right)\\\\\n",
    "    f_{i,j} &= \\Delta t\\left(\\frac{\\sigma^2v_j}{2\\left(\\Delta v\\right)^2} + \\frac{\\kappa(\\theta - v_j)}{2\\Delta v}\\right)\\\\\n",
    "    h_{i,j} &= \\Delta t\\left(\\frac{(S_i)^2v_j}{2\\left(\\Delta S\\right)^2} + \\frac{rS_i}{2\\Delta S}\\right)\\\\\n",
    "\\end{align}\n",
    "$$"
   ]
  },
  {
   "cell_type": "markdown",
   "metadata": {},
   "source": [
    "## Code Implementation"
   ]
  },
  {
   "cell_type": "code",
   "execution_count": 21,
   "metadata": {
    "collapsed": true
   },
   "outputs": [],
   "source": [
    "# Set coefficient\n",
    "rho   = 0.8\n",
    "sigma = 0.3\n",
    "r     = 0.03\n",
    "kappa = 2.0\n",
    "theta = 0.2\n",
    "\n",
    "K = 100.0"
   ]
  },
  {
   "cell_type": "code",
   "execution_count": 22,
   "metadata": {
    "collapsed": true
   },
   "outputs": [],
   "source": [
    "# Set domain: [0,S] x [0,V] x [0,T]\n",
    "S = 200.0\n",
    "V = 1.0\n",
    "T = 0.5"
   ]
  },
  {
   "cell_type": "code",
   "execution_count": 23,
   "metadata": {
    "collapsed": false
   },
   "outputs": [],
   "source": [
    "# Discretize domain\n",
    "M = 20\n",
    "N = 40\n",
    "L = 3999\n",
    "\n",
    "s = numpy.linspace(0.0, S, N)\n",
    "v = numpy.linspace(0.0, V, M)\n",
    "t = numpy.linspace(0.0, T, L)\n",
    "\n",
    "delta_s = s[1] - s[0]\n",
    "delta_v = v[1] - v[0]\n",
    "delta_t = t[1] - t[0]"
   ]
  },
  {
   "cell_type": "code",
   "execution_count": 24,
   "metadata": {
    "collapsed": true
   },
   "outputs": [],
   "source": [
    "A = numpy.zeros([M*N, M*N])\n",
    "rhs = numpy.zeros(M*N)"
   ]
  },
  {
   "cell_type": "markdown",
   "metadata": {},
   "source": [
    "From this setting, we can further reduce the discretization scheme to ($S_i = i\\Delta S;~v_j = j\\Delta v$):\n",
    "$$\n",
    "\\begin{align}\n",
    "    a_{i,j} &= -c_{i,j} = -g_{i,j} = k_{i,j} = \\frac{\\rho\\sigma\\Delta t}{4} ij\\\\\n",
    "    b_{i,j} &= \\Delta t\\left(\\frac{i^2v_j}{2} - \\frac{ri}{2}\\right)\\\\\n",
    "    d_{i,j} &= \\Delta t\\left(\\frac{\\sigma^2j}{2\\Delta v} - \\frac{\\kappa(\\theta - v_j)}{2\\Delta v}\\right)\\\\\n",
    "    e_{i,j} &= 1 - \\Delta t\\left(r + i^2v_j+ \\frac{\\sigma^2j}{\\Delta v}\\right)\\\\\n",
    "    f_{i,j} &= \\Delta t\\left(\\frac{\\sigma^2j}{2\\Delta v} + \\frac{\\kappa(\\theta - v_j)}{2\\Delta v}\\right)\\\\\n",
    "    h_{i,j} &= \\Delta t\\left(\\frac{i^2v_j}{2} + \\frac{ri}{2}\\right)\\\\\n",
    "\\end{align}\n",
    "$$"
   ]
  },
  {
   "cell_type": "code",
   "execution_count": 25,
   "metadata": {
    "collapsed": false
   },
   "outputs": [],
   "source": [
    "# Construct matrix A\n",
    "# U_hat[irow] == U_interior[i,j]\n",
    "for irow in range(M*N):\n",
    "    i = irow/M\n",
    "    j = numpy.mod(irow, M)\n",
    "\n",
    "    if( i == 0 ):\n",
    "        A[irow, irow] = 1.0\n",
    "    elif (i == N-1):\n",
    "        A[irow, irow-1] = 1.0\n",
    "    else:\n",
    "        if (j == M-1):\n",
    "            rhs[irow] = s[i]\n",
    "        else:\n",
    "            temp = rho*sigma*i*j*delta_t/4.0\n",
    "            A[irow, irow - M - 1] = temp #a \n",
    "            A[irow, irow - M ]    = 0.5 * delta_t * (i**2 * v[j] - r*i) #b\n",
    "            A[irow, irow - M + 1] = -temp #c\n",
    "            A[irow, irow - 1]     = 0.5 * delta_t/delta_v * (sigma**2 * j - kappa*(theta - v[j])) #d\n",
    "            A[irow, irow]         = 1 - delta_t * (r + i**2 * v[j] + sigma**2 * j/delta_v) #e\n",
    "            A[irow, irow + 1]     = 0.5 * delta_t/delta_v * (sigma**2 * j + kappa*(theta - v[j])) #f\n",
    "            A[irow, irow + M - 1] = -temp #g\n",
    "            A[irow, irow + M]     = 0.5 * delta_t * (i**2 * v[j] + r*i) #h\n",
    "            A[irow, irow + M + 1] = temp #k"
   ]
  },
  {
   "cell_type": "code",
   "execution_count": 26,
   "metadata": {
    "collapsed": true
   },
   "outputs": [],
   "source": [
    "U_old = numpy.zeros(M*N)\n",
    "U_new = numpy.zeros(M*N)\n",
    "# Initialize U vector\n",
    "for i in range(N):\n",
    "    U_old[i*M: (i+1)*M] = numpy.maximum(numpy.ones(M) * s[i] - K , 0.0)"
   ]
  },
  {
   "cell_type": "code",
   "execution_count": 27,
   "metadata": {
    "collapsed": false
   },
   "outputs": [],
   "source": [
    "for timestep in t:\n",
    "    U_new = numpy.dot(A, U_old) + rhs\n",
    "    for i in xrange(N):\n",
    "        U_new[i*M]=(U_old[i*M]-r*i*delta_t*U_new[(i-1)*M] + kappa*theta*delta_t*U_new[i*M + 1]/delta_v)\\\n",
    "                   / ( 1 - r*i*delta_t + kappa*theta*delta_t/delta_v + r*delta_t)\n",
    "    U_old = numpy.copy(U_new)"
   ]
  },
  {
   "cell_type": "code",
   "execution_count": 28,
   "metadata": {
    "collapsed": false
   },
   "outputs": [
    {
     "data": {
      "image/png": "[encoded data removed]",
      "text/plain": [
       "<matplotlib.figure.Figure at 0x108673fd0>"
      ]
     },
     "metadata": {},
     "output_type": "display_data"
    }
   ],
   "source": [
    "U_sol = numpy.reshape(U_new, [N, M])\n",
    "E, X = numpy.meshgrid(v, s)\n",
    "\n",
    "fig = plt.figure()\n",
    "axes = fig.add_subplot(1, 1, 1)\n",
    "sol_plot = axes.pcolor(E, X, U_sol, cmap=plt.get_cmap('RdBu_r'))\n",
    "axes.set_title(\"Solution U(v,S)\")\n",
    "axes.set_xlabel(\"v\")\n",
    "axes.set_ylabel(\"S\")\n",
    "cbar = fig.colorbar(sol_plot, ax=axes)\n"
   ]
  },
  {
   "cell_type": "code",
   "execution_count": 32,
   "metadata": {
    "collapsed": false
   },
   "outputs": [
    {
     "name": "stdout",
     "output_type": "stream",
     "text": [
      "0.947368421053 200.0 101.480677839\n"
     ]
    }
   ],
   "source": [
    "print v[-2], s[-1], U_sol[-1,-1]"
   ]
  },
  {
   "cell_type": "code",
   "execution_count": 10,
   "metadata": {
    "collapsed": false
   },
   "outputs": [],
   "source": [
    "_lambda = 0.0\n",
    "def Heston_Integral(phi, K, S, v, T, r, kappa, theta, sigma, rho, _lambda, j): \n",
    "    u_1 = 1.0 / 2.0\n",
    "    u_2 = - 1.0 / 2.0\n",
    "    a = kappa * theta\n",
    "    rspi = rho * sigma * phi * 1j\n",
    "    tau = T\n",
    "    \n",
    "    b_1 = kappa + _lambda - rho * sigma\n",
    "    b_2 = kappa + _lambda\n",
    "    \n",
    "    d_1 = numpy.sqrt((rspi - b_1)**2 - sigma**2 * (2.0 * u_1 * phi * 1j - phi**2))\n",
    "    d_2 = numpy.sqrt((rho * sigma * phi * 1j - b_2)**2 - sigma**2 * (2.0 * u_2 * phi * 1j - phi**2))\n",
    "    \n",
    "    g_1 = (b_1 - rspi + d_1) / (b_1 - rspi - d_1)\n",
    "    g_2 = (b_2 - rspi + d_2) / (b_2 - rspi - d_2)\n",
    "   \n",
    "    D_1 = (b_1 - rspi + d_1) / sigma**2 * ((1.0 - numpy.exp(d_1 * tau)) / (1.0 - g_1 * numpy.exp(d_1 * r)))\n",
    "    D_2 = (b_2 - rspi + d_2) / sigma**2 * ((1.0 - numpy.exp(d_2 * tau)) / (1.0 - g_2 * numpy.exp(d_2 * r)))\n",
    "    \n",
    "    C_1 = r * phi * 1j * tau + a / sigma**2 * ((b_1 - rspi + d_1) * tau - 2.0 * numpy.log((1.0 - g_1 * numpy.exp(d_1 * tau))/(1.0 - g_1)))\n",
    "    C_2 = r * phi * 1j * tau + a / sigma**2 * ((b_2 - rspi + d_2) * tau - 2.0 * numpy.log((1.0 - g_2 * numpy.exp(d_2 * tau))/(1.0 - g_2)))   \n",
    "    \n",
    "    f_1 = numpy.exp(C_1 + D_1 * v + 1j * phi * numpy.log(S))\n",
    "    f_2 = numpy.exp(C_2 + D_2 * v + 1j * phi * numpy.log(S))\n",
    "    \n",
    "    if(j==1):\n",
    "        return numpy.real((numpy.exp(-1j * phi * numpy.log(K)) * f_1)/(1j * phi))\n",
    "    elif(j==2):\n",
    "        return numpy.real((numpy.exp(-1j * phi * numpy.log(K)) * f_2)/(1j * phi))"
   ]
  },
  {
   "cell_type": "code",
   "execution_count": 15,
   "metadata": {
    "collapsed": false
   },
   "outputs": [],
   "source": [
    "def Exact_Solution(S, v): \n",
    "    print K\n",
    "    P_1 = 0.5 + 1.0 / numpy.pi * \\\n",
    "          quad(Heston_Integral, 0, 1000, args=(K, S, v, T, r, kappa, theta, sigma, rho, _lambda, 1))[0]\n",
    "    P_2 = 0.5 + 1.0 / numpy.pi * \\\n",
    "          quad(Heston_Integral, 0, 1000, args=(K, S, v, T, r, kappa, theta, sigma, rho, _lambda, 2))[0]\n",
    "    \n",
    "    Call = S * P_1 - K * numpy.exp(- r * (T - 0.0)) * P_2\n",
    "    return Call"
   ]
  },
  {
   "cell_type": "code",
   "execution_count": 13,
   "metadata": {
    "collapsed": false
   },
   "outputs": [
    {
     "name": "stderr",
     "output_type": "stream",
     "text": [
      "/Users/yuhsuan/anaconda/lib/python2.7/site-packages/ipykernel/__main__.py:24: RuntimeWarning: divide by zero encountered in log\n",
      "/Users/yuhsuan/anaconda/lib/python2.7/site-packages/ipykernel/__main__.py:25: RuntimeWarning: divide by zero encountered in log\n",
      "/Users/yuhsuan/anaconda/lib/python2.7/site-packages/scipy/integrate/quadpack.py:352: IntegrationWarning: The occurrence of roundoff error is detected, which prevents \n",
      "  the requested tolerance from being achieved.  The error may be \n",
      "  underestimated.\n",
      "  warnings.warn(msg, IntegrationWarning)\n",
      "/Users/yuhsuan/anaconda/lib/python2.7/site-packages/ipykernel/__main__.py:24: RuntimeWarning: overflow encountered in exp\n",
      "/Users/yuhsuan/anaconda/lib/python2.7/site-packages/ipykernel/__main__.py:28: RuntimeWarning: invalid value encountered in cdouble_scalars\n",
      "/Users/yuhsuan/anaconda/lib/python2.7/site-packages/ipykernel/__main__.py:25: RuntimeWarning: overflow encountered in exp\n",
      "/Users/yuhsuan/anaconda/lib/python2.7/site-packages/ipykernel/__main__.py:30: RuntimeWarning: invalid value encountered in cdouble_scalars\n",
      "/Users/yuhsuan/anaconda/lib/python2.7/site-packages/ipykernel/__main__.py:30: RuntimeWarning: overflow encountered in cdouble_scalars\n",
      "/Users/yuhsuan/anaconda/lib/python2.7/site-packages/scipy/integrate/quadpack.py:352: IntegrationWarning: The maximum number of subdivisions (50) has been achieved.\n",
      "  If increasing the limit yields no improvement it is advised to analyze \n",
      "  the integrand in order to determine the difficulties.  If the position of a \n",
      "  local difficulty can be determined (singularity, discontinuity) one will \n",
      "  probably gain from splitting up the interval and calling the integrator \n",
      "  on the subranges.  Perhaps a special-purpose integrator should be used.\n",
      "  warnings.warn(msg, IntegrationWarning)\n"
     ]
    },
    {
     "ename": "KeyboardInterrupt",
     "evalue": "",
     "output_type": "error",
     "traceback": [
      "\u001b[0;31m---------------------------------------------------------------------------\u001b[0m",
      "\u001b[0;31mKeyboardInterrupt\u001b[0m                         Traceback (most recent call last)",
      "\u001b[0;32m<ipython-input-13-54e48de9426c>\u001b[0m in \u001b[0;36m<module>\u001b[0;34m()\u001b[0m\n\u001b[1;32m      2\u001b[0m \u001b[0;32mfor\u001b[0m \u001b[0mi\u001b[0m \u001b[0;32min\u001b[0m \u001b[0mrange\u001b[0m\u001b[0;34m(\u001b[0m\u001b[0mN\u001b[0m\u001b[0;34m)\u001b[0m\u001b[0;34m:\u001b[0m\u001b[0;34m\u001b[0m\u001b[0m\n\u001b[1;32m      3\u001b[0m     \u001b[0;32mfor\u001b[0m \u001b[0mj\u001b[0m \u001b[0;32min\u001b[0m \u001b[0mrange\u001b[0m\u001b[0;34m(\u001b[0m\u001b[0mM\u001b[0m\u001b[0;34m)\u001b[0m\u001b[0;34m:\u001b[0m\u001b[0;34m\u001b[0m\u001b[0m\n\u001b[0;32m----> 4\u001b[0;31m         \u001b[0mU_true\u001b[0m\u001b[0;34m[\u001b[0m\u001b[0mi\u001b[0m\u001b[0;34m,\u001b[0m\u001b[0mj\u001b[0m\u001b[0;34m]\u001b[0m \u001b[0;34m=\u001b[0m \u001b[0mExact_Solution\u001b[0m\u001b[0;34m(\u001b[0m\u001b[0ms\u001b[0m\u001b[0;34m[\u001b[0m\u001b[0mi\u001b[0m\u001b[0;34m]\u001b[0m\u001b[0;34m,\u001b[0m \u001b[0mv\u001b[0m\u001b[0;34m[\u001b[0m\u001b[0mj\u001b[0m\u001b[0;34m]\u001b[0m\u001b[0;34m)\u001b[0m\u001b[0;34m\u001b[0m\u001b[0m\n\u001b[0m",
      "\u001b[0;32m<ipython-input-11-37ce92a2ff2a>\u001b[0m in \u001b[0;36mExact_Solution\u001b[0;34m(S, v)\u001b[0m\n\u001b[1;32m      1\u001b[0m \u001b[0;32mdef\u001b[0m \u001b[0mExact_Solution\u001b[0m\u001b[0;34m(\u001b[0m\u001b[0mS\u001b[0m\u001b[0;34m,\u001b[0m \u001b[0mv\u001b[0m\u001b[0;34m)\u001b[0m\u001b[0;34m:\u001b[0m\u001b[0;34m\u001b[0m\u001b[0m\n\u001b[1;32m      2\u001b[0m     \u001b[0mP_1\u001b[0m \u001b[0;34m=\u001b[0m \u001b[0;36m0.5\u001b[0m \u001b[0;34m+\u001b[0m \u001b[0;36m1.0\u001b[0m \u001b[0;34m/\u001b[0m \u001b[0mnumpy\u001b[0m\u001b[0;34m.\u001b[0m\u001b[0mpi\u001b[0m \u001b[0;34m*\u001b[0m           \u001b[0mquad\u001b[0m\u001b[0;34m(\u001b[0m\u001b[0mHeston_Integral\u001b[0m\u001b[0;34m,\u001b[0m \u001b[0;36m0\u001b[0m\u001b[0;34m,\u001b[0m \u001b[0;36m1000\u001b[0m\u001b[0;34m,\u001b[0m \u001b[0margs\u001b[0m\u001b[0;34m=\u001b[0m\u001b[0;34m(\u001b[0m\u001b[0mK\u001b[0m\u001b[0;34m,\u001b[0m \u001b[0mS\u001b[0m\u001b[0;34m,\u001b[0m \u001b[0mv\u001b[0m\u001b[0;34m,\u001b[0m \u001b[0mT\u001b[0m\u001b[0;34m,\u001b[0m \u001b[0mr\u001b[0m\u001b[0;34m,\u001b[0m \u001b[0mkappa\u001b[0m\u001b[0;34m,\u001b[0m \u001b[0mtheta\u001b[0m\u001b[0;34m,\u001b[0m \u001b[0msigma\u001b[0m\u001b[0;34m,\u001b[0m \u001b[0mrho\u001b[0m\u001b[0;34m,\u001b[0m \u001b[0m_lambda\u001b[0m\u001b[0;34m,\u001b[0m \u001b[0;36m1\u001b[0m\u001b[0;34m)\u001b[0m\u001b[0;34m)\u001b[0m\u001b[0;34m[\u001b[0m\u001b[0;36m0\u001b[0m\u001b[0;34m]\u001b[0m\u001b[0;34m\u001b[0m\u001b[0m\n\u001b[0;32m----> 3\u001b[0;31m     \u001b[0mP_2\u001b[0m \u001b[0;34m=\u001b[0m \u001b[0;36m0.5\u001b[0m \u001b[0;34m+\u001b[0m \u001b[0;36m1.0\u001b[0m \u001b[0;34m/\u001b[0m \u001b[0mnumpy\u001b[0m\u001b[0;34m.\u001b[0m\u001b[0mpi\u001b[0m \u001b[0;34m*\u001b[0m           \u001b[0mquad\u001b[0m\u001b[0;34m(\u001b[0m\u001b[0mHeston_Integral\u001b[0m\u001b[0;34m,\u001b[0m \u001b[0;36m0\u001b[0m\u001b[0;34m,\u001b[0m \u001b[0;36m1000\u001b[0m\u001b[0;34m,\u001b[0m \u001b[0margs\u001b[0m\u001b[0;34m=\u001b[0m\u001b[0;34m(\u001b[0m\u001b[0mK\u001b[0m\u001b[0;34m,\u001b[0m \u001b[0mS\u001b[0m\u001b[0;34m,\u001b[0m \u001b[0mv\u001b[0m\u001b[0;34m,\u001b[0m \u001b[0mT\u001b[0m\u001b[0;34m,\u001b[0m \u001b[0mr\u001b[0m\u001b[0;34m,\u001b[0m \u001b[0mkappa\u001b[0m\u001b[0;34m,\u001b[0m \u001b[0mtheta\u001b[0m\u001b[0;34m,\u001b[0m \u001b[0msigma\u001b[0m\u001b[0;34m,\u001b[0m \u001b[0mrho\u001b[0m\u001b[0;34m,\u001b[0m \u001b[0m_lambda\u001b[0m\u001b[0;34m,\u001b[0m \u001b[0;36m2\u001b[0m\u001b[0;34m)\u001b[0m\u001b[0;34m)\u001b[0m\u001b[0;34m[\u001b[0m\u001b[0;36m0\u001b[0m\u001b[0;34m]\u001b[0m\u001b[0;34m\u001b[0m\u001b[0m\n\u001b[0m\u001b[1;32m      4\u001b[0m \u001b[0;34m\u001b[0m\u001b[0m\n\u001b[1;32m      5\u001b[0m     \u001b[0mCall\u001b[0m \u001b[0;34m=\u001b[0m \u001b[0mS\u001b[0m \u001b[0;34m*\u001b[0m \u001b[0mP_1\u001b[0m \u001b[0;34m-\u001b[0m \u001b[0mK\u001b[0m \u001b[0;34m*\u001b[0m \u001b[0mnumpy\u001b[0m\u001b[0;34m.\u001b[0m\u001b[0mexp\u001b[0m\u001b[0;34m(\u001b[0m\u001b[0;34m-\u001b[0m \u001b[0mr\u001b[0m \u001b[0;34m*\u001b[0m \u001b[0;34m(\u001b[0m\u001b[0mT\u001b[0m \u001b[0;34m-\u001b[0m \u001b[0;36m0.0\u001b[0m\u001b[0;34m)\u001b[0m\u001b[0;34m)\u001b[0m \u001b[0;34m*\u001b[0m \u001b[0mP_2\u001b[0m\u001b[0;34m\u001b[0m\u001b[0m\n",
      "\u001b[0;32m/Users/yuhsuan/anaconda/lib/python2.7/site-packages/scipy/integrate/quadpack.pyc\u001b[0m in \u001b[0;36mquad\u001b[0;34m(func, a, b, args, full_output, epsabs, epsrel, limit, points, weight, wvar, wopts, maxp1, limlst)\u001b[0m\n\u001b[1;32m    309\u001b[0m     \u001b[0;32mif\u001b[0m \u001b[0;34m(\u001b[0m\u001b[0mweight\u001b[0m \u001b[0;32mis\u001b[0m \u001b[0mNone\u001b[0m\u001b[0;34m)\u001b[0m\u001b[0;34m:\u001b[0m\u001b[0;34m\u001b[0m\u001b[0m\n\u001b[1;32m    310\u001b[0m         retval = _quad(func, a, b, args, full_output, epsabs, epsrel, limit,\n\u001b[0;32m--> 311\u001b[0;31m                        points)\n\u001b[0m\u001b[1;32m    312\u001b[0m     \u001b[0;32melse\u001b[0m\u001b[0;34m:\u001b[0m\u001b[0;34m\u001b[0m\u001b[0m\n\u001b[1;32m    313\u001b[0m         retval = _quad_weight(func, a, b, args, full_output, epsabs, epsrel,\n",
      "\u001b[0;32m/Users/yuhsuan/anaconda/lib/python2.7/site-packages/scipy/integrate/quadpack.pyc\u001b[0m in \u001b[0;36m_quad\u001b[0;34m(func, a, b, args, full_output, epsabs, epsrel, limit, points)\u001b[0m\n\u001b[1;32m    374\u001b[0m     \u001b[0;32mif\u001b[0m \u001b[0mpoints\u001b[0m \u001b[0;32mis\u001b[0m \u001b[0mNone\u001b[0m\u001b[0;34m:\u001b[0m\u001b[0;34m\u001b[0m\u001b[0m\n\u001b[1;32m    375\u001b[0m         \u001b[0;32mif\u001b[0m \u001b[0minfbounds\u001b[0m \u001b[0;34m==\u001b[0m \u001b[0;36m0\u001b[0m\u001b[0;34m:\u001b[0m\u001b[0;34m\u001b[0m\u001b[0m\n\u001b[0;32m--> 376\u001b[0;31m             \u001b[0;32mreturn\u001b[0m \u001b[0m_quadpack\u001b[0m\u001b[0;34m.\u001b[0m\u001b[0m_qagse\u001b[0m\u001b[0;34m(\u001b[0m\u001b[0mfunc\u001b[0m\u001b[0;34m,\u001b[0m\u001b[0ma\u001b[0m\u001b[0;34m,\u001b[0m\u001b[0mb\u001b[0m\u001b[0;34m,\u001b[0m\u001b[0margs\u001b[0m\u001b[0;34m,\u001b[0m\u001b[0mfull_output\u001b[0m\u001b[0;34m,\u001b[0m\u001b[0mepsabs\u001b[0m\u001b[0;34m,\u001b[0m\u001b[0mepsrel\u001b[0m\u001b[0;34m,\u001b[0m\u001b[0mlimit\u001b[0m\u001b[0;34m)\u001b[0m\u001b[0;34m\u001b[0m\u001b[0m\n\u001b[0m\u001b[1;32m    377\u001b[0m         \u001b[0;32melse\u001b[0m\u001b[0;34m:\u001b[0m\u001b[0;34m\u001b[0m\u001b[0m\n\u001b[1;32m    378\u001b[0m             \u001b[0;32mreturn\u001b[0m \u001b[0m_quadpack\u001b[0m\u001b[0;34m.\u001b[0m\u001b[0m_qagie\u001b[0m\u001b[0;34m(\u001b[0m\u001b[0mfunc\u001b[0m\u001b[0;34m,\u001b[0m\u001b[0mbound\u001b[0m\u001b[0;34m,\u001b[0m\u001b[0minfbounds\u001b[0m\u001b[0;34m,\u001b[0m\u001b[0margs\u001b[0m\u001b[0;34m,\u001b[0m\u001b[0mfull_output\u001b[0m\u001b[0;34m,\u001b[0m\u001b[0mepsabs\u001b[0m\u001b[0;34m,\u001b[0m\u001b[0mepsrel\u001b[0m\u001b[0;34m,\u001b[0m\u001b[0mlimit\u001b[0m\u001b[0;34m)\u001b[0m\u001b[0;34m\u001b[0m\u001b[0m\n",
      "\u001b[0;32m<ipython-input-10-72136a4e74a5>\u001b[0m in \u001b[0;36mHeston_Integral\u001b[0;34m(phi, K, S, v, T, r, kappa, theta, sigma, rho, _lambda, j)\u001b[0m\n\u001b[1;32m     20\u001b[0m \u001b[0;34m\u001b[0m\u001b[0m\n\u001b[1;32m     21\u001b[0m     \u001b[0mC_1\u001b[0m \u001b[0;34m=\u001b[0m \u001b[0mr\u001b[0m \u001b[0;34m*\u001b[0m \u001b[0mphi\u001b[0m \u001b[0;34m*\u001b[0m \u001b[0;36m1j\u001b[0m \u001b[0;34m*\u001b[0m \u001b[0mtau\u001b[0m \u001b[0;34m+\u001b[0m \u001b[0ma\u001b[0m \u001b[0;34m/\u001b[0m \u001b[0msigma\u001b[0m\u001b[0;34m**\u001b[0m\u001b[0;36m2\u001b[0m \u001b[0;34m*\u001b[0m \u001b[0;34m(\u001b[0m\u001b[0;34m(\u001b[0m\u001b[0mb_1\u001b[0m \u001b[0;34m-\u001b[0m \u001b[0mrspi\u001b[0m \u001b[0;34m+\u001b[0m \u001b[0md_1\u001b[0m\u001b[0;34m)\u001b[0m \u001b[0;34m*\u001b[0m \u001b[0mtau\u001b[0m \u001b[0;34m-\u001b[0m \u001b[0;36m2.0\u001b[0m \u001b[0;34m*\u001b[0m \u001b[0mnumpy\u001b[0m\u001b[0;34m.\u001b[0m\u001b[0mlog\u001b[0m\u001b[0;34m(\u001b[0m\u001b[0;34m(\u001b[0m\u001b[0;36m1.0\u001b[0m \u001b[0;34m-\u001b[0m \u001b[0mg_1\u001b[0m \u001b[0;34m*\u001b[0m \u001b[0mnumpy\u001b[0m\u001b[0;34m.\u001b[0m\u001b[0mexp\u001b[0m\u001b[0;34m(\u001b[0m\u001b[0md_1\u001b[0m \u001b[0;34m*\u001b[0m \u001b[0mtau\u001b[0m\u001b[0;34m)\u001b[0m\u001b[0;34m)\u001b[0m\u001b[0;34m/\u001b[0m\u001b[0;34m(\u001b[0m\u001b[0;36m1.0\u001b[0m \u001b[0;34m-\u001b[0m \u001b[0mg_1\u001b[0m\u001b[0;34m)\u001b[0m\u001b[0;34m)\u001b[0m\u001b[0;34m)\u001b[0m\u001b[0;34m\u001b[0m\u001b[0m\n\u001b[0;32m---> 22\u001b[0;31m     \u001b[0mC_2\u001b[0m \u001b[0;34m=\u001b[0m \u001b[0mr\u001b[0m \u001b[0;34m*\u001b[0m \u001b[0mphi\u001b[0m \u001b[0;34m*\u001b[0m \u001b[0;36m1j\u001b[0m \u001b[0;34m*\u001b[0m \u001b[0mtau\u001b[0m \u001b[0;34m+\u001b[0m \u001b[0ma\u001b[0m \u001b[0;34m/\u001b[0m \u001b[0msigma\u001b[0m\u001b[0;34m**\u001b[0m\u001b[0;36m2\u001b[0m \u001b[0;34m*\u001b[0m \u001b[0;34m(\u001b[0m\u001b[0;34m(\u001b[0m\u001b[0mb_2\u001b[0m \u001b[0;34m-\u001b[0m \u001b[0mrspi\u001b[0m \u001b[0;34m+\u001b[0m \u001b[0md_2\u001b[0m\u001b[0;34m)\u001b[0m \u001b[0;34m*\u001b[0m \u001b[0mtau\u001b[0m \u001b[0;34m-\u001b[0m \u001b[0;36m2.0\u001b[0m \u001b[0;34m*\u001b[0m \u001b[0mnumpy\u001b[0m\u001b[0;34m.\u001b[0m\u001b[0mlog\u001b[0m\u001b[0;34m(\u001b[0m\u001b[0;34m(\u001b[0m\u001b[0;36m1.0\u001b[0m \u001b[0;34m-\u001b[0m \u001b[0mg_2\u001b[0m \u001b[0;34m*\u001b[0m \u001b[0mnumpy\u001b[0m\u001b[0;34m.\u001b[0m\u001b[0mexp\u001b[0m\u001b[0;34m(\u001b[0m\u001b[0md_2\u001b[0m \u001b[0;34m*\u001b[0m \u001b[0mtau\u001b[0m\u001b[0;34m)\u001b[0m\u001b[0;34m)\u001b[0m\u001b[0;34m/\u001b[0m\u001b[0;34m(\u001b[0m\u001b[0;36m1.0\u001b[0m \u001b[0;34m-\u001b[0m \u001b[0mg_2\u001b[0m\u001b[0;34m)\u001b[0m\u001b[0;34m)\u001b[0m\u001b[0;34m)\u001b[0m\u001b[0;34m\u001b[0m\u001b[0m\n\u001b[0m\u001b[1;32m     23\u001b[0m \u001b[0;34m\u001b[0m\u001b[0m\n\u001b[1;32m     24\u001b[0m     \u001b[0mf_1\u001b[0m \u001b[0;34m=\u001b[0m \u001b[0mnumpy\u001b[0m\u001b[0;34m.\u001b[0m\u001b[0mexp\u001b[0m\u001b[0;34m(\u001b[0m\u001b[0mC_1\u001b[0m \u001b[0;34m+\u001b[0m \u001b[0mD_1\u001b[0m \u001b[0;34m*\u001b[0m \u001b[0mv\u001b[0m \u001b[0;34m+\u001b[0m \u001b[0;36m1j\u001b[0m \u001b[0;34m*\u001b[0m \u001b[0mphi\u001b[0m \u001b[0;34m*\u001b[0m \u001b[0mnumpy\u001b[0m\u001b[0;34m.\u001b[0m\u001b[0mlog\u001b[0m\u001b[0;34m(\u001b[0m\u001b[0mS\u001b[0m\u001b[0;34m)\u001b[0m\u001b[0;34m)\u001b[0m\u001b[0;34m\u001b[0m\u001b[0m\n",
      "\u001b[0;31mKeyboardInterrupt\u001b[0m: "
     ]
    }
   ],
   "source": [
    "U_true = numpy.empty([N,M])\n",
    "for i in range(N):\n",
    "    for j in range(M):\n",
    "        U_true[i,j] = Exact_Solution(s[i], v[j])"
   ]
  },
  {
   "cell_type": "code",
   "execution_count": 18,
   "metadata": {
    "collapsed": false
   },
   "outputs": [
    {
     "name": "stdout",
     "output_type": "stream",
     "text": [
      "100.0\n",
      "nan\n"
     ]
    },
    {
     "name": "stderr",
     "output_type": "stream",
     "text": [
      "/Users/yuhsuan/anaconda/lib/python2.7/site-packages/ipykernel/__main__.py:24: RuntimeWarning: overflow encountered in exp\n",
      "/Users/yuhsuan/anaconda/lib/python2.7/site-packages/ipykernel/__main__.py:28: RuntimeWarning: invalid value encountered in cdouble_scalars\n",
      "/Users/yuhsuan/anaconda/lib/python2.7/site-packages/ipykernel/__main__.py:25: RuntimeWarning: overflow encountered in exp\n",
      "/Users/yuhsuan/anaconda/lib/python2.7/site-packages/ipykernel/__main__.py:30: RuntimeWarning: invalid value encountered in cdouble_scalars\n"
     ]
    }
   ],
   "source": [
    "print Exact_Solution(s[-1], v[-1])"
   ]
  },
  {
   "cell_type": "code",
   "execution_count": null,
   "metadata": {
    "collapsed": true
   },
   "outputs": [],
   "source": []
  }
 ],
 "metadata": {
  "kernelspec": {
   "display_name": "Python 2",
   "language": "python",
   "name": "python2"
  },
  "language_info": {
   "codemirror_mode": {
    "name": "ipython",
    "version": 2
   },
   "file_extension": ".py",
   "mimetype": "text/x-python",
   "name": "python",
   "nbconvert_exporter": "python",
   "pygments_lexer": "ipython2",
   "version": "2.7.11"
  }
 },
 "nbformat": 4,
 "nbformat_minor": 0
}
