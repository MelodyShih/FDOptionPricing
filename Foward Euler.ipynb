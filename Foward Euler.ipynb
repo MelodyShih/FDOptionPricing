{
 "cells": [
  {
   "cell_type": "code",
   "execution_count": 1,
   "metadata": {
    "collapsed": true
   },
   "outputs": [],
   "source": [
    "%matplotlib inline\n",
    "%precision 16\n",
    "import numpy\n",
    "import scipy.sparse as sparse\n",
    "import scipy.sparse.linalg as linalg\n",
    "import matplotlib.pyplot as plt\n",
    "from scipy.integrate import quad"
   ]
  },
  {
   "cell_type": "markdown",
   "metadata": {},
   "source": [
    "Numerical method: Forward Euler (Explicit)"
   ]
  },
  {
   "cell_type": "markdown",
   "metadata": {},
   "source": [
    "# Heston PDE"
   ]
  },
  {
   "cell_type": "markdown",
   "metadata": {},
   "source": [
    "$$\n",
    "\\frac{\\partial U}{\\partial t}(S,v,t) = \\frac 1 2 vS^2\\frac{\\partial^2 U}{\\partial S^2 } + \\rho\\sigma vS \\frac{\\partial^2 U}{\\partial S\\partial v} + \\frac 1 2 \\sigma^2v \\frac{\\partial^2U}{\\partial v^2} + rS\\frac{\\partial U}{\\partial S} + \\kappa(\\theta - v)\\frac{\\partial U}{\\partial v}-rU\n",
    "$$\n",
    "Initial condition:\n",
    "$$\n",
    "    U(S, v, 0) = max(0,S - K)\n",
    "$$\n",
    "Boundary condition:\n",
    "$$\n",
    "\\begin{align}\n",
    "    U(0,v,t) &=& 0\\\\\n",
    "    \\lim_{S\\to\\infty} \\frac{\\partial U}{\\partial s}(S,v,t) &=& 0\\\\\n",
    "    rS\\frac{\\partial U}{\\partial S}(S,0,t) + \\kappa\\theta\\frac{\\partial U}{\\partial v}(S,0,t) - rU(S,0,t)+\\frac{\\partial U}{\\partial t}(S,0,t) &=& 0\\\\\n",
    "    \\lim_{v\\to\\infty}U(S,v,t) &=& S\n",
    "\\end{align}\n",
    "$$"
   ]
  },
  {
   "cell_type": "markdown",
   "metadata": {},
   "source": [
    "# Discretization"
   ]
  },
  {
   "cell_type": "markdown",
   "metadata": {},
   "source": [
    "## PDE"
   ]
  },
  {
   "cell_type": "markdown",
   "metadata": {},
   "source": [
    "* For the first and second derivatives $\\rightarrow$ Use the central finite difference approximations\n",
    "* For the cross derivatives $\\rightarrow$ Use the second order approximation in both $S$ and $v$\n",
    "\n",
    "$$\n",
    "\\begin{align}\n",
    "\\left(\\frac{\\partial U}{\\partial S}\\right)_{i,j} &\\approx \\frac{U_{i+1, j} - U_{i-1,j}}{2\\Delta S}\\\\\n",
    "\\left(\\frac{\\partial U}{\\partial v}\\right)_{i,j} &\\approx \\frac{U_{i, j+1} - U_{i,j-1}}{2\\Delta v}\\\\\n",
    "\\left(\\frac{\\partial^2 U}{\\partial S^2}\\right)_{i,j} &\\approx \\frac{U_{i+1, j} - 2U_{i,j} + U_{i-1,j}}{\\Delta S^2}\\\\\n",
    "\\left(\\frac{\\partial^2 U}{\\partial v^2}\\right)_{i,j} &\\approx \\frac{U_{i, j+1} - 2U_{i,j} + U_{i,j-1}}{\\Delta v^2}\\\\\n",
    "\\left(\\frac{\\partial^2 U}{\\partial S\\partial v}\\right)_{i,j} &\\approx \\frac{U_{i+1, j+1} - U_{i-1,j+1} - U_{i+1,j-1}+U_{i-1,j-1}}{4\\Delta s\\Delta v}\n",
    "\\end{align}\n",
    "$$\n",
    "\n",
    "$$\n",
    "\\begin{align}\n",
    "\\frac{dU_{i,j}}{dt} &= (S_i)^2v_j\\frac{U_{i+1, j} - 2U_{i,j} + U_{i-1,j}}{2\\Delta S^2}\\\\\n",
    "&+ \\rho\\sigma S_iv_j\\frac{U_{i+1, j+1} - U_{i-1,j} - U_{i,j-1}+U_{i-1,j-1}}{4\\Delta s\\Delta v}\\\\ \n",
    "&+ \\sigma^2v_j\\frac{U_{i, j+1} - 2U_{i,j} + U_{i,j-1}}{\\Delta v^2}\\\\\n",
    "&+rS_i\\frac{U_{i+1, j} - U_{i-1,j}}{2\\Delta S}\\\\\n",
    "&+\\kappa(\\theta-v_j)\\frac{U_{i, j+1} - U_{i,j-1}}{2\\Delta v}-rU_{i,j}\n",
    "\\end{align}\n",
    "$$"
   ]
  },
  {
   "cell_type": "markdown",
   "metadata": {},
   "source": [
    "## Foward Euler method"
   ]
  },
  {
   "cell_type": "markdown",
   "metadata": {},
   "source": [
    "Here, we use forward euler method to discretize the time derivative:\n",
    "$$\n",
    "    U^{n+1}_{i,j} = U^{n}_{i,j} + \\Delta t \\left((S_i)^2v_j\\frac{U_{i+1, j} - 2U_{i,j} + U_{i-1,j}}{2\\left(\\Delta S\\right)^2}\n",
    "+ \\rho\\sigma S_iv_j\\frac{U_{i+1, j+1} - U_{i-1,j+1} - U_{i+1,j-1}+U_{i-1,j-1}}{4\\Delta s\\Delta v} \n",
    "+ \\sigma^2v_j\\frac{U_{i, j+1} - 2U_{i,j} + U_{i,j-1}}{2\\left(\\Delta v\\right)^2}\n",
    "+rS_i\\frac{U_{i+1, j} - U_{i-1,j}}{2\\Delta S}\n",
    "+\\kappa(\\theta-v_j)\\frac{U_{i, j+1} - U_{i,j-1}}{2\\Delta v}-rU_{i,j}\\right)\n",
    "$$\n",
    "The explicit finite difference scheme becomes:\n",
    "$$\n",
    "    U^{n+1}_{i,j} = a_{i,j} U^n_{i-1,j-1}+ b_{i,j} U^n_{i-1,j} + c_{i,j} U^n_{i-1, j+1} + d_{i,j} U^n_{i, j-1} + e_{i,j} U^n_{i, j} + f_{i,j} U^n_{i, j+1} + g_{i,j} U^n_{i+1, j-1} + h_{i,j} U^n_{i+1, j} + k_{i,j} U^n_{i+1, j+1}\n",
    "$$"
   ]
  },
  {
   "cell_type": "markdown",
   "metadata": {},
   "source": [
    "Where\n",
    "$$\n",
    "\\begin{align}\n",
    "    a_{i,j} &= -c_{i,j} = -g_{i,j} = k_{i,j} = \\frac{\\rho\\sigma\\Delta t}{4\\Delta S\\Delta v} S_i v_j\\\\\n",
    "    b_{i,j} &= \\Delta t\\left(\\frac{(S_i)^2v_j}{2\\left(\\Delta S\\right)^2} - \\frac{rS_i}{2\\Delta S}\\right)\\\\\n",
    "    d_{i,j} &= \\Delta t\\left(\\frac{\\sigma^2v_j}{2\\left(\\Delta v\\right)^2} - \\frac{\\kappa(\\theta - v_j)}{2\\Delta v}\\right)\\\\\n",
    "    e_{i,j} &= 1 - \\Delta t\\left(r + \\frac{S_i^2v_j}{\\left(\\Delta S\\right)^2} + \\frac{\\sigma^2v_j}{\\left(\\Delta v\\right)^2}\\right)\\\\\n",
    "    f_{i,j} &= \\Delta t\\left(\\frac{\\sigma^2v_j}{2\\left(\\Delta v\\right)^2} + \\frac{\\kappa(\\theta - v_j)}{2\\Delta v}\\right)\\\\\n",
    "    h_{i,j} &= \\Delta t\\left(\\frac{(S_i)^2v_j}{2\\left(\\Delta S\\right)^2} + \\frac{rS_i}{2\\Delta S}\\right)\\\\\n",
    "\\end{align}\n",
    "$$"
   ]
  },
  {
   "cell_type": "markdown",
   "metadata": {},
   "source": [
    "## Boundary condition"
   ]
  },
  {
   "cell_type": "markdown",
   "metadata": {},
   "source": [
    "## Code Implementation"
   ]
  },
  {
   "cell_type": "code",
   "execution_count": 2,
   "metadata": {
    "collapsed": true
   },
   "outputs": [],
   "source": [
    "# Set coefficient\n",
    "rho   = 0.8\n",
    "sigma = 0.3\n",
    "r     = 0.03\n",
    "kappa = 2.0\n",
    "theta = 0.2\n",
    "\n",
    "K = 100.0"
   ]
  },
  {
   "cell_type": "code",
   "execution_count": 3,
   "metadata": {
    "collapsed": true
   },
   "outputs": [],
   "source": [
    "# Set domain: [0,S] x [0,V] x [0,T]\n",
    "S = 200.0\n",
    "V = 1.0\n",
    "T = 1.0"
   ]
  },
  {
   "cell_type": "code",
   "execution_count": 4,
   "metadata": {
    "collapsed": false
   },
   "outputs": [],
   "source": [
    "# Discretize domain\n",
    "M = 50\n",
    "N = 50\n",
    "L = 3999\n",
    "\n",
    "s = numpy.linspace(0.0, S*1.2, N)\n",
    "v = numpy.linspace(0.0, V*1.3, M)\n",
    "t = numpy.linspace(0.0, T, L)\n",
    "\n",
    "delta_s = s[1] - s[0]\n",
    "delta_v = v[1] - v[0]\n",
    "delta_t = t[1] - t[0]"
   ]
  },
  {
   "cell_type": "code",
   "execution_count": 5,
   "metadata": {
    "collapsed": true
   },
   "outputs": [],
   "source": [
    "A = numpy.zeros([M*N, M*N])\n",
    "rhs = numpy.zeros(M*N)"
   ]
  },
  {
   "cell_type": "markdown",
   "metadata": {},
   "source": [
    "From this setting, we can further reduce the discretization scheme to ($S_i = i\\Delta S;~v_j = j\\Delta v$):\n",
    "$$\n",
    "\\begin{align}\n",
    "    a_{i,j} &= -c_{i,j} = -g_{i,j} = k_{i,j} = \\frac{\\rho\\sigma\\Delta t}{4} ij\\\\\n",
    "    b_{i,j} &= \\Delta t\\left(\\frac{i^2v_j}{2} - \\frac{ri}{2}\\right)\\\\\n",
    "    d_{i,j} &= \\Delta t\\left(\\frac{\\sigma^2j}{2\\Delta v} - \\frac{\\kappa(\\theta - v_j)}{2\\Delta v}\\right)\\\\\n",
    "    e_{i,j} &= 1 - \\Delta t\\left(r + i^2v_j+ \\frac{\\sigma^2j}{\\Delta v}\\right)\\\\\n",
    "    f_{i,j} &= \\Delta t\\left(\\frac{\\sigma^2j}{2\\Delta v} + \\frac{\\kappa(\\theta - v_j)}{2\\Delta v}\\right)\\\\\n",
    "    h_{i,j} &= \\Delta t\\left(\\frac{i^2v_j}{2} + \\frac{ri}{2}\\right)\\\\\n",
    "\\end{align}\n",
    "$$"
   ]
  },
  {
   "cell_type": "code",
   "execution_count": 6,
   "metadata": {
    "collapsed": false
   },
   "outputs": [],
   "source": [
    "# Construct matrix A\n",
    "# U_hat[irow] == U_interior[i,j]\n",
    "for irow in range(M*N):\n",
    "    i = irow/M\n",
    "    j = numpy.mod(irow, M)\n",
    "\n",
    "    if( i == 0 ):\n",
    "        continue\n",
    "    elif (i == N-1):\n",
    "        continue\n",
    "    else:\n",
    "        if(j == 0):\n",
    "            continue\n",
    "        elif (j == M-1):\n",
    "            rhs[irow] = s[i]\n",
    "        else:\n",
    "            temp = rho*sigma*i*j*delta_t/4.0\n",
    "            A[irow, irow - M - 1] = temp #a \n",
    "            A[irow, irow - M ]    = 0.5 * delta_t * (i**2 * v[j] - r*i) #b\n",
    "            A[irow, irow - M + 1] = -temp #c\n",
    "            A[irow, irow - 1]     = 0.5 * delta_t/delta_v * (sigma**2 * j - kappa*(theta - v[j])) #d\n",
    "            A[irow, irow]         = 1 - delta_t * (r + i**2 * v[j] + sigma**2 * j/delta_v) #e\n",
    "            A[irow, irow + 1]     = 0.5 * delta_t/delta_v * (sigma**2 * j + kappa*(theta - v[j])) #f\n",
    "            A[irow, irow + M - 1] = -temp #g\n",
    "            A[irow, irow + M]     = 0.5 * delta_t * (i**2 * v[j] + r*i) #h\n",
    "            A[irow, irow + M + 1] = temp #k"
   ]
  },
  {
   "cell_type": "code",
   "execution_count": 7,
   "metadata": {
    "collapsed": false
   },
   "outputs": [
    {
     "data": {
      "text/plain": [
       "<matplotlib.image.AxesImage at 0x109776fd0>"
      ]
     },
     "execution_count": 7,
     "metadata": {},
     "output_type": "execute_result"
    },
    {
     "data": {
      "image/png": "[encoded data removed]",
      "text/plain": [
       "<matplotlib.figure.Figure at 0x103edb250>"
      ]
     },
     "metadata": {},
     "output_type": "display_data"
    }
   ],
   "source": [
    "plt.spy(A)"
   ]
  },
  {
   "cell_type": "code",
   "execution_count": 8,
   "metadata": {
    "collapsed": true
   },
   "outputs": [],
   "source": [
    "U_old = numpy.zeros(M*N)\n",
    "U_new = numpy.zeros(M*N)\n",
    "# Initialize U vector\n",
    "for i in range(N):\n",
    "    U_old[i*M: (i+1)*M] = numpy.maximum(numpy.ones(M) * s[i] - K , 0.0)"
   ]
  },
  {
   "cell_type": "code",
   "execution_count": 9,
   "metadata": {
    "collapsed": false
   },
   "outputs": [],
   "source": [
    "for timestep in t:\n",
    "    U_new = numpy.dot(A, U_old)+ rhs\n",
    "    U_new[(N-1)*M: N*M] = (2*delta_s + 4.0*U_new[(N-2)*M: (N-1)*M]-U_new[(N-3)*M: (N-2)*M])/3.0\n",
    "    for i in xrange(N):\n",
    "        U_new[i*M]=(U_old[i*M]-r*i*delta_t*U_new[(i-1)*M] + kappa*theta*delta_t*U_new[i*M + 1]/delta_v)\\\n",
    "                   / ( 1 - r*i*delta_t + kappa*theta*delta_t/delta_v + r*delta_t)\n",
    "    U_old = numpy.copy(U_new)"
   ]
  },
  {
   "cell_type": "code",
   "execution_count": 10,
   "metadata": {
    "collapsed": false
   },
   "outputs": [
    {
     "data": {
      "image/png": "[encoded data removed]",
      "text/plain": [
       "<matplotlib.figure.Figure at 0x10dad2190>"
      ]
     },
     "metadata": {},
     "output_type": "display_data"
    }
   ],
   "source": [
    "U_sol = numpy.reshape(U_new, [N, M])\n",
    "E, X = numpy.meshgrid(v[:-5], s[:-7])\n",
    "\n",
    "fig = plt.figure()\n",
    "axes = fig.add_subplot(1, 1, 1)\n",
    "sol_plot = axes.pcolor(E, X, U_sol[:-7,:-5], cmap=plt.get_cmap('RdBu_r'))\n",
    "axes.set_title(\"Solution U(v,S)\")\n",
    "axes.set_xlabel(\"v\")\n",
    "axes.set_ylabel(\"S\")\n",
    "cbar = fig.colorbar(sol_plot, ax=axes)\n"
   ]
  },
  {
   "cell_type": "code",
   "execution_count": 11,
   "metadata": {
    "collapsed": false
   },
   "outputs": [
    {
     "name": "stdout",
     "output_type": "stream",
     "text": [
      "0.0\n",
      "(50, 50)\n",
      "108.720854177 127.408285922\n",
      "[ 235.1020408163265358    0.                    0.                    0.\n",
      "    0.                    0.                    0.                    0.\n",
      "    0.                    0.                    0.                    0.\n",
      "    0.                    0.                    0.                    0.\n",
      "    0.                    0.                    0.                    0.\n",
      "    0.                    0.                    0.                    0.\n",
      "    0.                    0.                    0.                    0.\n",
      "    0.                    0.                    0.                    0.\n",
      "    0.                    0.                    0.                    0.\n",
      "    0.                    0.                    0.                    0.\n",
      "    0.                    0.                    0.                    0.\n",
      "    0.                    0.                    0.                    0.\n",
      "    0.                    0.                ]\n",
      "[   0.                    4.8979591836734695    9.795918367346939\n",
      "   14.6938775510204085   19.591836734693878    24.4897959183673493\n",
      "   29.387755102040817    34.2857142857142847   39.183673469387756\n",
      "   44.0816326530612272   48.9795918367346985   53.8775510204081627\n",
      "   58.775510204081634    63.6734693877551052   68.5714285714285694\n",
      "   73.4693877551020478   78.3673469387755119   83.2653061224489761\n",
      "   88.1632653061224545   93.0612244897959187   97.959183673469397\n",
      "  102.8571428571428612  107.7551020408163254  112.6530612244898037\n",
      "  117.5510204081632679  122.4489795918367321  127.3469387755102105\n",
      "  132.2448979591836746  137.1428571428571388  142.040816326530603\n",
      "  146.9387755102040956  151.8367346938775597  156.7346938775510239\n",
      "  161.6326530612244881  166.5306122448979522  171.4285714285714448\n",
      "  176.326530612244909   181.2244897959183731  186.1224489795918373\n",
      "  191.0204081632653015  195.9183673469387941  200.8163265306122582\n",
      "  205.7142857142857224  210.6122448979591866  215.5102040816326507\n",
      "  220.4081632653061149  225.3061224489796075  230.2040816326530717\n",
      "  235.1020408163265358  240.                ]\n"
     ]
    }
   ],
   "source": [
    "print numpy.min(U_sol)\n",
    "print U_sol.shape\n",
    "print U_sol[-8,0], U_sol[-7,-5]\n",
    "print rhs[-M-1:-1]\n",
    "\n",
    "print s"
   ]
  },
  {
   "cell_type": "code",
   "execution_count": null,
   "metadata": {
    "collapsed": true
   },
   "outputs": [],
   "source": []
  }
 ],
 "metadata": {
  "kernelspec": {
   "display_name": "Python 2",
   "language": "python",
   "name": "python2"
  },
  "language_info": {
   "codemirror_mode": {
    "name": "ipython",
    "version": 2
   },
   "file_extension": ".py",
   "mimetype": "text/x-python",
   "name": "python",
   "nbconvert_exporter": "python",
   "pygments_lexer": "ipython2",
   "version": "2.7.11"
  }
 },
 "nbformat": 4,
 "nbformat_minor": 0
}
