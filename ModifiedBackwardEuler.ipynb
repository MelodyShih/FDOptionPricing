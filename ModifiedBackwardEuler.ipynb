{
 "cells": [
  {
   "cell_type": "code",
   "execution_count": 1,
   "metadata": {
    "collapsed": true
   },
   "outputs": [],
   "source": [
    "%matplotlib inline\n",
    "%precision 16\n",
    "import numpy\n",
    "import scipy.sparse as sparse\n",
    "import scipy.sparse.linalg as linalg\n",
    "import matplotlib.pyplot as plt\n",
    "from scipy.integrate import quad"
   ]
  },
  {
   "cell_type": "markdown",
   "metadata": {},
   "source": [
    "## Time \n",
    "### Modified backward Euler method\n",
    "\n",
    "The word modified comes from the way that we deal with the boundary condition, which makes this implementation not fully implicit. \n",
    "\n",
    "To explain the algorithm, we can categorize our grid points into three different classes:\n",
    "* Boundary points (Orange circle)\n",
    "* Interior point whose nine points stencil involve boundary points (Green circle)\n",
    "* Interior point whose nine points stencil does not involve boundary points (Red circle)\n",
    "\n",
    "<img src=\"https://docs.google.com/a/columbia.edu/drawings/d/1mze__LmZaa6K9cJD-Mdf1Jk7upz0hjN4NnZ71HQ-sZ4/pub?w=285&h=238\">"
   ]
  },
  {
   "cell_type": "markdown",
   "metadata": {},
   "source": [
    "#### Case 1:\n",
    "For the interior point whose nine points stencil doesn't involve boundary points, i.e. $U_{i,j}$, $i=2,\\dots, N-3$, $j=2,\\dots, M-3$,we use traditional backward euler method, which approximate the time derivative with the value of the function at the point we are at $t_{n+1}$:\n",
    "$$\n",
    "    U^{n+1}_{i,j} = U^{n}_{i,j} + \\Delta t \\left((S_i)^2v_j\\frac{U^{n+1}_{i+1, j} - 2U^{n+1}_{i,j} + U^{n+1}_{i-1,j}}{2\\left(\\Delta S\\right)^2}\n",
    "+ \\rho\\sigma S_iv_j\\frac{U^{n+1}_{i+1, j+1} - U^{n+1}_{i-1,j+1} - U^{n+1}_{i+1,j-1}+U^{n+1}_{i-1,j-1}}{4\\Delta s\\Delta v} \n",
    "+ \\sigma^2v_j\\frac{U^{n+1}_{i, j+1} - 2U^{n+1}_{i,j} + U^{n+1}_{i,j-1}}{2\\left(\\Delta v\\right)^2}\n",
    "+rS_i\\frac{U^{n+1}_{i+1, j} - U^{n+1}_{i-1,j}}{2\\Delta S}\n",
    "+\\kappa(\\theta-v_j)\\frac{U^{n+1}_{i, j+1} - U^{n+1}_{i,j-1}}{2\\Delta v}-rU^{n+1}_{i,j}\\right)\n",
    "$$\n",
    "The implicit finite difference scheme becomes:\n",
    "$$\n",
    "    a_{i,j} U^{n+1}_{i-1,j-1}+ b_{i,j} U^{n+1}_{i-1,j} + c_{i,j} U^{n+1}_{i-1, j+1} + d_{i,j} U^{n+1}_{i, j-1} + e_{i,j} U^{n+1}_{i, j} + f_{i,j} U^{n+1}_{i, j+1} + g_{i,j} U^{n+1}_{i+1, j-1} + h_{i,j} U^{n+1}_{i+1, j} + k_{i,j} U^{n+1}_{i+1, j+1} = U^{n}_{i,j}\n",
    "$$"
   ]
  },
  {
   "cell_type": "markdown",
   "metadata": {},
   "source": [
    "Where\n",
    "$$\n",
    "\\begin{align}\n",
    "    a_{i,j} &= -c_{i,j} = -g_{i,j} = k_{i,j} = -\\frac{\\rho\\sigma\\Delta t}{4\\Delta S\\Delta v} S_i v_j\\\\\n",
    "    b_{i,j} &= -\\Delta t\\left(\\frac{(S_i)^2v_j}{2\\left(\\Delta S\\right)^2} - \\frac{rS_i}{2\\Delta S}\\right)\\\\\n",
    "    d_{i,j} &= -\\Delta t\\left(\\frac{\\sigma^2v_j}{2\\left(\\Delta v\\right)^2} - \\frac{\\kappa(\\theta - v_j)}{2\\Delta v}\\right)\\\\\n",
    "    e_{i,j} &= 1 + \\Delta t\\left(r + \\frac{S_i^2v_j}{\\left(\\Delta S\\right)^2} + \\frac{\\sigma^2v_j}{\\left(\\Delta v\\right)^2}\\right)\\\\\n",
    "    f_{i,j} &= -\\Delta t\\left(\\frac{\\sigma^2v_j}{2\\left(\\Delta v\\right)^2} + \\frac{\\kappa(\\theta - v_j)}{2\\Delta v}\\right)\\\\\n",
    "    h_{i,j} &= -\\Delta t\\left(\\frac{(S_i)^2v_j}{2\\left(\\Delta S\\right)^2} + \\frac{rS_i}{2\\Delta S}\\right)\\\\\n",
    "\\end{align}\n",
    "$$"
   ]
  },
  {
   "cell_type": "markdown",
   "metadata": {},
   "source": [
    "#### Case 2 :\n",
    "Here is the place that things get tricky. In this method, we **update the interior points and boundary points seperately**, which allows us to treat the boundary condition as a dirichlet type and the boundary points' value we are using is actually coming from previous time step.\n",
    "\n",
    "Take $U_{1,1}$ as an example (where U_{0,0}, U_{0,1}, U_{0,2}, U_{1,0}, U_{2,0} are boundary points), its updating rule becomes:\n",
    "$$\n",
    "    a_{1,1} U^{n}_{0,0}+ b_{1,1} U^{n}_{0,1} + c_{1,1} U^{n}_{0, 2} + d_{1,1} U^{n}_{1, 0} + e_{1,1} U^{n+1}_{1, 1} + f_{1,1} U^{n+1}_{1, 2} + g_{1,1} U^{n}_{2, 0} + h_{1,1} U^{n+1}_{2, 1} + k_{1,1} U^{n+1}_{2, 2} = U^{n}_{1,1}\n",
    "- (1)$$ \n",
    "Since we treat the bounday condition as dirichlet type, we have\n",
    "$$\n",
    "    U^{n+1}_{i,j} = U^{n}_{i,j} -(2)\n",
    "$$\n",
    "for $U^{n}_{i,j}$ at boundary.\n",
    "\n",
    "By substituing (2) to (1), we get back to the same updating rule as **Case 1**!"
   ]
  },
  {
   "cell_type": "markdown",
   "metadata": {},
   "source": [
    "#### Case 3:\n",
    "As said in case 2, we seperate the update of interior points and boundary points. We first updates the interior points and then the boundary points, which uses the value of interior points just updated. \n",
    "\n",
    "With this setting, a nice point is that we can use the same updating rule for boundary points discussed in forward euler method. i.e.\n",
    "\n",
    "For $v = 0$,\n",
    "$$\n",
    "    U^{n+1}_{i,0} = \\frac{U^{n}_{i,0} - rS_i\\frac{\\Delta t}{\\Delta s} U^{n+1}_{i-1,j} + \\kappa\\theta\\frac{\\Delta t}{\\Delta v}U^{n+1}_{i,1})}{\\left( 1 - rS_i\\frac{\\Delta t}{\\Delta S} + \\kappa\\theta\\frac{\\Delta t}{\\Delta v} + r\\Delta t\\right)}\n",
    "$$\n",
    "\n",
    "For $S \\rightarrow \\infty$\n",
    "$$\n",
    "  U^{n+1}_{N-1,j} = \\frac{2\\Delta s + 4U^{n+1}_{N-2,j} - U^{n+1}_{N-3,j}}{3}\n",
    "$$\n",
    "\n",
    "For $S=0, v\\rightarrow \\infty$, since this two boundary condition are dirichlet type. They are constant in time."
   ]
  },
  {
   "cell_type": "markdown",
   "metadata": {},
   "source": [
    "### Matrix A\n",
    "The matrix A, where $AU^{n+1} = U^{n}$ is only slightly different from the one in forward euler method:\n",
    "$$\n",
    "A_{ii} = 1.0 \\text{ when } U[i] \\text{ a boundary point}\n",
    "$$"
   ]
  },
  {
   "cell_type": "markdown",
   "metadata": {},
   "source": [
    "# Code Implementation"
   ]
  },
  {
   "cell_type": "code",
   "execution_count": 2,
   "metadata": {
    "collapsed": true
   },
   "outputs": [],
   "source": [
    "# Set coefficient\n",
    "rho   = 0.8\n",
    "sigma = 0.3\n",
    "r     = 0.03\n",
    "kappa = 2.0\n",
    "theta = 0.2\n",
    "\n",
    "K = 100.0"
   ]
  },
  {
   "cell_type": "code",
   "execution_count": 3,
   "metadata": {
    "collapsed": true
   },
   "outputs": [],
   "source": [
    "# Set domain: [0,S] x [0,V] x [0,T]\n",
    "S = 200.0\n",
    "V = 1.0\n",
    "T = 1.0"
   ]
  },
  {
   "cell_type": "code",
   "execution_count": 4,
   "metadata": {
    "collapsed": false
   },
   "outputs": [],
   "source": [
    "# Discretize domain\n",
    "M = 50\n",
    "N = 50\n",
    "L = 200\n",
    "\n",
    "s = numpy.linspace(0.0, S*1.2, N)\n",
    "v = numpy.linspace(0.0, V*1.3, M)\n",
    "t = numpy.linspace(0.0, T, L)\n",
    "\n",
    "delta_s = s[1] - s[0]\n",
    "delta_v = v[1] - v[0]\n",
    "delta_t = t[1] - t[0]"
   ]
  },
  {
   "cell_type": "code",
   "execution_count": 5,
   "metadata": {
    "collapsed": true
   },
   "outputs": [],
   "source": [
    "A = numpy.zeros([M*N, M*N])\n",
    "rhs = numpy.zeros(M*N)"
   ]
  },
  {
   "cell_type": "markdown",
   "metadata": {},
   "source": [
    "Similarly in forward euler method, we can reduce the discretization scheme to ($S_i = i\\Delta S;~v_j = j\\Delta v$):\n",
    "$$\n",
    "\\begin{align}\n",
    "    A_{i,j} &= -C_{i,j} = -G_{i,j} = K_{i,j} = -\\frac{\\rho\\sigma\\Delta t}{4} ij\\\\\n",
    "    B_{i,j} &= -\\Delta t\\left(\\frac{i^2v_j}{2} - \\frac{ri}{2}\\right)\\\\\n",
    "    D_{i,j} &= -\\Delta t\\left(\\frac{\\sigma^2j}{2\\Delta v} - \\frac{\\kappa(\\theta - v_j)}{2\\Delta v}\\right)\\\\\n",
    "    E_{i,j} &= 1 + \\Delta t\\left(r + i^2v_j+ \\frac{\\sigma^2j}{\\Delta v}\\right)\\\\\n",
    "    F_{i,j} &= -\\Delta t\\left(\\frac{\\sigma^2j}{2\\Delta v} + \\frac{\\kappa(\\theta - v_j)}{2\\Delta v}\\right)\\\\\n",
    "    H_{i,j} &= -\\Delta t\\left(\\frac{i^2v_j}{2} + \\frac{ri}{2}\\right)\\\\\n",
    "\\end{align}\n",
    "$$"
   ]
  },
  {
   "cell_type": "code",
   "execution_count": 6,
   "metadata": {
    "collapsed": false
   },
   "outputs": [],
   "source": [
    "# Construct matrix A\n",
    "for irow in range(M*N):\n",
    "    i = irow/M\n",
    "    j = numpy.mod(irow, M)\n",
    "    \n",
    "    temp = rho*sigma*i*j*delta_t/4.0\n",
    "    a = -temp\n",
    "    k = -temp\n",
    "    c = temp\n",
    "    g = temp\n",
    "    b = -0.5 * delta_t * (i**2 * v[j] - r*i)\n",
    "    d = -0.5 * delta_t/delta_v * (sigma**2 * j - kappa*(theta - v[j]))\n",
    "    e = 1 + delta_t * (r + i**2 * v[j] + sigma**2 * j/delta_v)\n",
    "    f = -0.5 * delta_t/delta_v * (sigma**2 * j + kappa*(theta - v[j]))\n",
    "    h = -0.5 * delta_t * (i**2 * v[j] + r*i)\n",
    "    \n",
    "    if( i == 0 or i == N-1 or j == 0 ):\n",
    "        A[irow, irow] = 1.0\n",
    "    elif (j == M-1):\n",
    "        A[irow, irow] = 1.0\n",
    "        rhs[irow] = s[i]\n",
    "    else:\n",
    "        A[irow, irow - M - 1] = a  \n",
    "        A[irow, irow - M ]    = b\n",
    "        A[irow, irow - M + 1] = c\n",
    "        A[irow, irow - 1]     = d\n",
    "        A[irow, irow]         = e\n",
    "        A[irow, irow + 1]     = f\n",
    "        A[irow, irow + M - 1] = g\n",
    "        A[irow, irow + M]     = h\n",
    "        A[irow, irow + M + 1] = k"
   ]
  },
  {
   "cell_type": "code",
   "execution_count": 7,
   "metadata": {
    "collapsed": true
   },
   "outputs": [],
   "source": [
    "U_old = numpy.zeros(M*N)\n",
    "U_new = numpy.zeros(M*N)\n",
    "# Initialize U vector\n",
    "for i in range(N):\n",
    "    U_old[i*M: (i+1)*M] = numpy.maximum(numpy.ones(M) * s[i] - K , 0.0)"
   ]
  },
  {
   "cell_type": "code",
   "execution_count": 8,
   "metadata": {
    "collapsed": false
   },
   "outputs": [],
   "source": [
    "for timestep in t:\n",
    "    ## Step 1: Update the interior points\n",
    "    U_new = numpy.linalg.solve(A, U_old+rhs)\n",
    "    \n",
    "    ## Step 2: Update the boundary points\n",
    "    \n",
    "    # Upper BC: S at infinity (Max value of S)\n",
    "    U_new[(N-1)*M: N*M] = (2*delta_s + 4.0*U_new[(N-2)*M: (N-1)*M] - U_new[(N-3)*M: (N-2)*M])/3.0\n",
    "    \n",
    "    # Left BC: v = 0\n",
    "    for i in xrange(N):\n",
    "        if i == 0:\n",
    "            continue\n",
    "        U_new[i*M] = ( U_new[i*M] - r*i*delta_t*U_new[(i-1)*M] + kappa*theta*delta_t*U_new[i*M + 1] / delta_v )\\\n",
    "                    / ( 1 - r*i*delta_t + kappa*theta*delta_t/delta_v + r*delta_t )\n",
    "    U_old = numpy.copy(U_new)"
   ]
  },
  {
   "cell_type": "code",
   "execution_count": 9,
   "metadata": {
    "collapsed": false
   },
   "outputs": [
    {
     "data": {
      "image/png": "[encoded data removed]",
      "text/plain": [
       "<matplotlib.figure.Figure at 0x10667c7d0>"
      ]
     },
     "metadata": {},
     "output_type": "display_data"
    }
   ],
   "source": [
    "U_sol = numpy.reshape(U_new, [N, M])\n",
    "E, X = numpy.meshgrid(v[:-12], s[:-10])\n",
    "\n",
    "fig = plt.figure()\n",
    "axes = fig.add_subplot(1, 1, 1)\n",
    "sol_plot = axes.pcolor(E, X, U_sol[:-10,:-12], cmap=plt.get_cmap('RdBu_r'))\n",
    "axes.set_title(\"Solution U(v,S)\")\n",
    "axes.set_xlabel(\"v\")\n",
    "axes.set_ylabel(\"S\")\n",
    "cbar = fig.colorbar(sol_plot, ax=axes)"
   ]
  },
  {
   "cell_type": "code",
   "execution_count": null,
   "metadata": {
    "collapsed": true
   },
   "outputs": [],
   "source": []
  }
 ],
 "metadata": {
  "kernelspec": {
   "display_name": "Python 2",
   "language": "python",
   "name": "python2"
  },
  "language_info": {
   "codemirror_mode": {
    "name": "ipython",
    "version": 2
   },
   "file_extension": ".py",
   "mimetype": "text/x-python",
   "name": "python",
   "nbconvert_exporter": "python",
   "pygments_lexer": "ipython2",
   "version": "2.7.11"
  }
 },
 "nbformat": 4,
 "nbformat_minor": 0
}
