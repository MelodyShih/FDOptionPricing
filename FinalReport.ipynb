{
 "cells": [
  {
   "cell_type": "markdown",
   "metadata": {},
   "source": [
    "<h1 align=\"center\">Numerical Methods for</h1>\n",
    "<h1 align=\"center\">Heston Model in Option Pricing</h1>"
   ]
  },
  {
   "cell_type": "markdown",
   "metadata": {},
   "source": [
    "<h3 align=\"center\">YuHsuan Shih, ys2898  | Francis Chen, hc2857 </h3> "
   ]
  },
  {
   "cell_type": "markdown",
   "metadata": {},
   "source": [
    "## 1. Introduction"
   ]
  },
  {
   "cell_type": "markdown",
   "metadata": {},
   "source": [
    "The Heston Model in Finance, named after Steven Heston [1], is a stochastic mathematical model, describing the evolution of volatility and price of an underlying asset, which extends the famous Black-Scholes model by allowing volatility to follow a mean reverting stochastic process. Heston model is commonly used in option pricing, especially for European option, which can only be exercised at the maturity. \n",
    "\n",
    "For better understanding, we'd like to introduce some basic logics about the financial derivative: option. \"A call option gives the holder the right to buy the underlying asset\n",
    "by a certain date for a certain price. A put option gives the holder the right to sell the underlying asset by a certain date for a certain price.\" [2]\n",
    "\n",
    "The payoff of an European call and put option is given by:\n",
    "\n",
    "$$\n",
    "\\text{Call Option Payoff } = (S_T - K)^+ \\qquad \\text{Put Option Payoff } = (K - S_T)^+\n",
    "$$\n",
    "\n",
    "The option price is the certain fee that the buyer should pay for entering the contract. Because the expected return of an option is always non-negative, by the fundamental theorem of asset pricing, the arbitrage-free condition must be satisfied. Simply speaking, no \"free lunch\" could exist in the market. Including the option price, the profit and loss curve is shown as follows [2]:\n",
    "\n",
    "![Option P&L](./images/payoff.jpg)\n",
    "\n",
    "Generally, we are interested in applying numerical methods to solve the Heston model and find the fair price of a given European option. "
   ]
  },
  {
   "cell_type": "markdown",
   "metadata": {},
   "source": [
    "### 1.1 Mathematical Model\n",
    "In Heston Model, the stock price and volatility are assumed to follow two different stochastic processes [1]:\n",
    "\n",
    "$$\n",
    "\\text{Stock Price: }\\quad dS_t = \\mu S_t\\, dt + \\sqrt{V_t}S\\, dW^1_t\n",
    "$$\n",
    "\n",
    "$$\n",
    "\\text{Volatility: }\\quad dV_t = \\kappa(\\theta - V_t)\\, dt + \\sigma\\sqrt{V_t}\\, dW^2_t\n",
    "$$\n",
    "\n",
    "where $W^1$ and $W^2$ are two correlated Wiener Processes(continuous Brownian Motion), with correlation $\\rho$: $dW^1\\, dW^2 = \\rho\\, dt$. \n",
    "\n",
    "By derivation (under risk-neutral measure), the stochastic model can be generated to a Partial Differential Equation for the function of option price, volatility of the stock, ant the time to maturity $U(S,v,t)$ [3]:\n",
    "\n",
    "$$\n",
    "\\frac{\\partial U}{\\partial t} = \\frac 1 2 v S^2 \\frac{\\partial^2 U}{\\partial S^2} + \\rho\\sigma v S \\frac{\\partial^2 U}{\\partial U\\partial v} + \\frac 1 2 \\sigma^2v\\frac{\\partial^2 U}{\\partial v^2} + (r-q)S\\frac{\\partial U}{\\partial S} + \\kappa(\\theta - v)\\frac{\\partial U}{\\partial v} - rU\n",
    "$$\n",
    "\n",
    "where,\n",
    "$$\\begin{aligned}\n",
    "&t: \\text{time to maturity}\\\\\n",
    "&v: \\text{variance/volatility of the stock}\\\\\n",
    "&S: \\text{stock price}\\\\\n",
    "&\\rho : \\text{correlation between two Brownian Motions}\\\\\n",
    "&\\sigma: \\text{the volatility of } v\\\\\n",
    "&r: \\text{interest rate}\\\\\n",
    "&q: \\text{continuously compounded dividend rate}\\\\\n",
    "&\\kappa: \\text{mean reverting rate of } v\\\\\n",
    "&\\theta: \\text{long run mean of } v\\\\\n",
    "&2\\kappa\\theta > \\sigma^2: \\text{to assure positive } v\n",
    "\\end{aligned}$$\n",
    "\n",
    "For European call option, Heston PDE is subject to the following boundary conditions:\n",
    "\n",
    "$$\\begin{aligned}\n",
    "U(S,v,0) &= (S-K)^+ \\\\\n",
    "U(0,v,t) &=0 \\\\\n",
    "\\lim_{S\\to\\infty} \\frac{\\partial U}{\\partial s}(S,v,t) &= 1\\\\\n",
    "(r-q)S\\frac{\\partial U}{\\partial S}(S,0,t) + \\kappa\\theta\\frac{\\partial U}{\\partial v}(S,0,t) - rU(S,0,t) - \\frac{\\partial U}{\\partial t}(S,0,t) &= 0\\\\\n",
    "\\lim_{v\\rightarrow\\infty} U(S,v,t) & = S\n",
    "\\end{aligned}$$\n",
    "\n",
    "where $K$ is the pre-determined strike price."
   ]
  },
  {
   "cell_type": "markdown",
   "metadata": {},
   "source": [
    "### 1.2 Closed form solution\n",
    "Heson(1993) provided a closed form solution for this PDE in pricing European call option:\n",
    "$$\n",
    "U(S,v,t) = Se^{-qt} P_1 - Ke^{-rt}P_2\n",
    "$$\n",
    "\n",
    "where $U(S,v,t)$ is the call option price at current time, and $t$ is the time to maturity. \n",
    "\n",
    "For $j=1,2$:\n",
    "$$\n",
    "P_j = \\frac 1 2 + \\frac 1 \\pi \\int_0^{\\infty} Re\\left( \\frac{e^{-i\\phi\\ln(K)} f_j}{i\\phi}\\right) d\\phi \\\\\n",
    "$$\n",
    "\n",
    "$$\n",
    "f_j = \\exp \\left( A_j+B_jv+i\\phi\\ln(S)\\right)\n",
    "$$\n",
    "\n",
    "$$\n",
    "A_j = r\\phi i\\tau + \\frac{\\kappa\\theta}{\\sigma^2}\\left[ (b_j-\\rho\\sigma\\phi i+d)\\tau-2\\ln\\left( \\frac{1-g_je^{dr}}{1-g_j}\\right) \\right]\n",
    "$$\n",
    "\n",
    "$$\n",
    "B_j = \\frac{b_j-\\rho\\sigma\\phi i+d_j}{\\sigma^2} \\left(\\frac{1-e^{d_j\\tau}}{1-g_je^{d_j\\tau}} \\right) \\\\\n",
    "$$\n",
    "\n",
    "$$\n",
    "g_j = \\frac{b_j-\\rho\\sigma\\phi i+d_j}{b_j-\\rho\\sigma\\phi i-d_j}\\\\\n",
    "$$\n",
    "\n",
    "$$\n",
    "d_j = \\sqrt{( \\rho\\sigma\\phi i-b_j)^2-\\sigma^2(2\\mu_j\\phi i-\\phi^2)}\n",
    "$$\n",
    "\n",
    "where,\n",
    "$$\n",
    "\\tau=t,\\ \\ u_1 = \\frac 1 2, \\ \\ u_2 = -\\frac 1 2, \\ \\ b_1 = \\kappa-\\rho\\sigma,\\ \\ b_2=\\kappa\n",
    "$$"
   ]
  },
  {
   "cell_type": "markdown",
   "metadata": {},
   "source": [
    "** Code Implementation**"
   ]
  },
  {
   "cell_type": "code",
   "execution_count": 1,
   "metadata": {
    "collapsed": true
   },
   "outputs": [],
   "source": [
    "%matplotlib inline\n",
    "%precision 16\n",
    "import numpy \n",
    "import matplotlib.pyplot as plt\n",
    "import scipy.sparse as sparse\n",
    "import scipy.sparse.linalg as linalg\n",
    "# Integration\n",
    "from scipy.integrate import quad\n",
    "# 3D plot\n",
    "from mpl_toolkits.mplot3d import Axes3D\n",
    "from matplotlib import cm\n",
    "from matplotlib.ticker import LinearLocator, FormatStrFormatter\n",
    "# Monte Carlo\n",
    "import numpy.random as rnd"
   ]
  },
  {
   "cell_type": "code",
   "execution_count": 2,
   "metadata": {
    "collapsed": true
   },
   "outputs": [],
   "source": [
    "def Heston_Integral(phi, rho, sigma, r, kappa, theta, _lambda, v, S, tau, K, j):\n",
    "\n",
    "    u_1 = 0.5\n",
    "    u_2 = - 0.5\n",
    "    a = kappa * theta\n",
    "    rspi = rho * sigma * phi * 1j\n",
    "    \n",
    "    b_1 = kappa + _lambda - rho * sigma\n",
    "    b_2 = kappa + _lambda\n",
    "    \n",
    "    d_1 = numpy.sqrt((rspi - b_1)**2 - sigma**2 * (2.0 * u_1 * phi * 1j - phi**2))\n",
    "    d_2 = numpy.sqrt((rspi - b_2)**2 - sigma**2 * (2.0 * u_2 * phi * 1j - phi**2))\n",
    "    \n",
    "    g_1 = (b_1 - rspi + d_1) / (b_1 - rspi - d_1)\n",
    "    g_2 = (b_2 - rspi + d_2) / (b_2 - rspi - d_2)\n",
    "   \n",
    "    D_1 = (b_1 - rspi + d_1) / sigma**2 * ((1.0 - numpy.exp(d_1 * tau)) / (1.0 - g_1 * numpy.exp(d_1 * tau)))\n",
    "    D_2 = (b_2 - rspi + d_2) / sigma**2 * ((1.0 - numpy.exp(d_2 * tau)) / (1.0 - g_2 * numpy.exp(d_2 * tau)))\n",
    "    \n",
    "    C_1 = r * phi * 1j * tau + a / sigma**2 * ((b_1 - rspi + d_1) * tau - 2.0 * numpy.log((1.0 - g_1 * numpy.exp(d_1 * tau))/(1.0 - g_1)))\n",
    "    C_2 = r * phi * 1j * tau + a / sigma**2 * ((b_2 - rspi + d_2) * tau - 2.0 * numpy.log((1.0 - g_2 * numpy.exp(d_2 * tau))/(1.0 - g_2)))   \n",
    "    \n",
    "    if(S > 0):\n",
    "        f_1 = numpy.exp(C_1 + D_1 * v + 1j * phi * numpy.log(S))\n",
    "        f_2 = numpy.exp(C_2 + D_2 * v + 1j * phi * numpy.log(S))\n",
    "    elif(S == 0):\n",
    "        f_1 = 0.0\n",
    "        f_2 = 0.0\n",
    "    elif(S < 0):\n",
    "            raise NotImplementedError()\n",
    "    \n",
    "    if(j==1):\n",
    "        return numpy.real((numpy.exp(-1j * phi * numpy.log(K)) * f_1)/(1j * phi))\n",
    "    elif(j==2):\n",
    "        return numpy.real((numpy.exp(-1j * phi * numpy.log(K)) * f_2)/(1j * phi))\n",
    "\n",
    "# The closed-form solution for Heston PDE\n",
    "def Heston_ExactSolution(rho, sigma, r, kappa, theta, _lambda, V, S, T, K):\n",
    "    \n",
    "    if(S < 0):\n",
    "        raise NotImplementedError()\n",
    "    elif(S == 0): \n",
    "        Call = 0.0\n",
    "    elif(S > 0):\n",
    "        P_1 = 0.5 + 1.0 / numpy.pi * quad(Heston_Integral, 0, 100, args=(rho, sigma, r, kappa, theta, _lambda, V, S, T, K, 1))[0]\n",
    "        P_2 = 0.5 + 1.0 / numpy.pi * quad(Heston_Integral, 0, 100, args=(rho, sigma, r, kappa, theta, _lambda, V, S, T, K, 2))[0]\n",
    "        Call = S * P_1 - K * numpy.exp(- r * T) * P_2\n",
    "    return Call"
   ]
  },
  {
   "cell_type": "markdown",
   "metadata": {},
   "source": [
    "**Test**"
   ]
  },
  {
   "cell_type": "code",
   "execution_count": 3,
   "metadata": {
    "collapsed": false
   },
   "outputs": [
    {
     "name": "stdout",
     "output_type": "stream",
     "text": [
      "Test call option price:  5.74042230856\n"
     ]
    }
   ],
   "source": [
    "K = 100.0\n",
    "S = 100.0\n",
    "V = 0.04\n",
    "T = 0.25\n",
    "r = 0.03\n",
    "kappa = 2.0\n",
    "theta = 0.20\n",
    "sigma = 0.3\n",
    "rho = -0.5\n",
    "_lambda = 0.02\n",
    "print \"Test call option price: \", Heston_ExactSolution(rho, sigma, r, kappa, theta, _lambda, V, S, T, K)"
   ]
  },
  {
   "cell_type": "markdown",
   "metadata": {},
   "source": [
    "**Solution Plot**"
   ]
  },
  {
   "cell_type": "code",
   "execution_count": 4,
   "metadata": {
    "collapsed": false
   },
   "outputs": [
    {
     "data": {
      "image/png": "[encoded data removed]",
      "text/plain": [
       "<matplotlib.figure.Figure at 0x103fe9550>"
      ]
     },
     "metadata": {},
     "output_type": "display_data"
    }
   ],
   "source": [
    "K = 100.0; rho = 0.8; sigma = 0.3; r = 0.03; kappa = 2.0; theta = 0.2; _lambda = 0.00\n",
    "T = 1.0; t = 0.0\n",
    "\n",
    "v = numpy.linspace(0, 1.0, 20)\n",
    "s = numpy.linspace(0, 200.0, 20)\n",
    "\n",
    "X, Y = numpy.meshgrid(v, s)\n",
    "\n",
    "z = numpy.array([Heston_ExactSolution(rho, sigma, r, kappa, theta, _lambda, v, s, T, K)\\\n",
    "                 for v, s in zip(numpy.ravel(X), numpy.ravel(Y))])\n",
    "U_exact = z.reshape([20,20])\n",
    "\n",
    "fig = plt.figure()\n",
    "axes = fig.add_subplot(1, 1, 1)\n",
    "sol_plot = axes.pcolor(X, Y, U_exact, cmap=plt.get_cmap('RdBu_r'))\n",
    "axes.set_title(\"Solution U(v,S)\")\n",
    "axes.set_xlabel(\"v\")\n",
    "axes.set_ylabel(\"S\")\n",
    "cbar = fig.colorbar(sol_plot, ax=axes)"
   ]
  },
  {
   "cell_type": "markdown",
   "metadata": {},
   "source": [
    "## 2. Numerical Methods"
   ]
  },
  {
   "cell_type": "markdown",
   "metadata": {},
   "source": [
    "### 2.1 Method of lines\n",
    "#### Discretization: Space\n",
    "\n",
    "* For the first and second derivatives $\\rightarrow$ Use the central finite difference approximations\n",
    "* For the cross derivatives $\\rightarrow$ Use the second order approximation in both $S$ and $v$\n",
    "\n",
    "$$\n",
    "\\begin{align}\n",
    "\\left(\\frac{\\partial U}{\\partial S}\\right)_{i,j} &\\approx \\frac{U_{i+1, j} - U_{i-1,j}}{2\\Delta S}\\\\\n",
    "\\left(\\frac{\\partial U}{\\partial v}\\right)_{i,j} &\\approx \\frac{U_{i, j+1} - U_{i,j-1}}{2\\Delta v}\\\\\n",
    "\\left(\\frac{\\partial^2 U}{\\partial S^2}\\right)_{i,j} &\\approx \\frac{U_{i+1, j} - 2U_{i,j} + U_{i-1,j}}{\\Delta S^2}\\\\\n",
    "\\left(\\frac{\\partial^2 U}{\\partial v^2}\\right)_{i,j} &\\approx \\frac{U_{i, j+1} - 2U_{i,j} + U_{i,j-1}}{\\Delta v^2}\\\\\n",
    "\\left(\\frac{\\partial^2 U}{\\partial S\\partial v}\\right)_{i,j} &\\approx \\frac{U_{i+1, j+1} - U_{i-1,j+1} - U_{i+1,j-1}+U_{i-1,j-1}}{4\\Delta s\\Delta v}\n",
    "\\end{align}\n",
    "$$\n",
    "\n",
    "$$\n",
    "\\begin{align}\n",
    "\\frac{dU_{i,j}}{dt} &= (S_i)^2v_j\\frac{U_{i+1, j} - 2U_{i,j} + U_{i-1,j}}{2\\Delta S^2}+ \\rho\\sigma S_iv_j\\frac{U_{i+1, j+1} - U_{i-1,j} - U_{i,j-1}+U_{i-1,j-1}}{4\\Delta s\\Delta v}\\\\ \n",
    "&+ \\sigma^2v_j\\frac{U_{i, j+1} - 2U_{i,j} + U_{i,j-1}}{\\Delta v^2}+rS_i\\frac{U_{i+1, j} - U_{i-1,j}}{2\\Delta S}+\\kappa(\\theta-v_j)\\frac{U_{i, j+1} - U_{i,j-1}}{2\\Delta v}-rU_{i,j}\n",
    "\\end{align}\n",
    "$$\n",
    "\n",
    "Note that there is a mixed derivative term in this PDE, we are using a **9-point stencil**. If written in a matrix form, the sparsity of the matrix should be like this:\n",
    "\n",
    "<img src=\"./images/9-point_stencil.png\" style=\"max-width:100%; width: 25%\">"
   ]
  },
  {
   "cell_type": "markdown",
   "metadata": {},
   "source": [
    "#### Discretization: Time \n",
    "For time discretization, we have implemented three different schemes.\n",
    "\n",
    "### 2.1.1 Explicit Scheme (Forward Euler method)\n",
    "#### Update formula\n",
    "$$\n",
    "    U^{n+1}=AU^{n}+rhs\n",
    "$$\n",
    "\n",
    "In forward euler method, the value of the function which is used to approximate the time derivative is evaluated at time $t_n$:\n",
    "\n",
    "$$\\begin{aligned}\n",
    "    U^{n+1}_{i,j} = & \\ U^{n}_{i,j} + \\Delta t \\left\\{ (S_i)^2v_j\\frac{U^n_{i+1, j} - 2U^n_{i,j} + U^n_{i-1,j}}{2\\left(\\Delta S\\right)^2} \\right.\\\\\n",
    "    & \\qquad\\qquad + \\rho\\sigma S_iv_j\\frac{U^n_{i+1, j+1} - U^n_{i-1,j+1} - U^n_{i+1,j-1}+U^n_{i-1,j-1}}{4\\Delta s\\Delta v}  \\\\\n",
    "    & \\qquad\\qquad + \\sigma^2v_j\\frac{U^n_{i, j+1} - 2U^n_{i,j} + U^n_{i,j-1}}{2\\left(\\Delta v\\right)^2}\\\\\n",
    "    & \\qquad\\qquad + rS_i\\frac{U^n_{i+1, j} - U^n_{i-1,j}}{2\\Delta S} \\\\\n",
    "    & \\qquad\\qquad + \\left. \\kappa(\\theta-v_j)\\frac{U^n_{i, j+1} - U^n_{i,j-1}}{2\\Delta v}-rU^n_{i,j} \\right\\}\n",
    "\\end{aligned}$$\n",
    "\n",
    "Then we can write this explicit finite difference scheme as:\n",
    "\n",
    "$$\n",
    "    U^{n+1}_{i,j} = a_{i,j} U^n_{i-1,j-1}+ b_{i,j} U^n_{i-1,j} + c_{i,j} U^n_{i-1, j+1} + d_{i,j} U^n_{i, j-1} + e_{i,j} U^n_{i, j} + f_{i,j} U^n_{i, j+1} + g_{i,j} U^n_{i+1, j-1} + h_{i,j} U^n_{i+1, j} + k_{i,j} U^n_{i+1, j+1}\n",
    "$$\n",
    "\n",
    ", where\n",
    "$$\n",
    "\\begin{align}\n",
    "    a_{i,j} &= -c_{i,j} = -g_{i,j} = k_{i,j} = \\frac{\\rho\\sigma\\Delta t}{4\\Delta S\\Delta v} S_i v_j\\\\\n",
    "    b_{i,j} &= \\Delta t\\left(\\frac{(S_i)^2v_j}{2\\left(\\Delta S\\right)^2} - \\frac{rS_i}{2\\Delta S}\\right)\\\\\n",
    "    d_{i,j} &= \\Delta t\\left(\\frac{\\sigma^2v_j}{2\\left(\\Delta v\\right)^2} - \\frac{\\kappa(\\theta - v_j)}{2\\Delta v}\\right)\\\\\n",
    "    e_{i,j} &= 1 - \\Delta t\\left(r + \\frac{S_i^2v_j}{\\left(\\Delta S\\right)^2} + \\frac{\\sigma^2v_j}{\\left(\\Delta v\\right)^2}\\right)\\\\\n",
    "    f_{i,j} &= \\Delta t\\left(\\frac{\\sigma^2v_j}{2\\left(\\Delta v\\right)^2} + \\frac{\\kappa(\\theta - v_j)}{2\\Delta v}\\right)\\\\\n",
    "    h_{i,j} &= \\Delta t\\left(\\frac{(S_i)^2v_j}{2\\left(\\Delta S\\right)^2} + \\frac{rS_i}{2\\Delta S}\\right)\\\\\n",
    "\\end{align}\n",
    "$$\n",
    "\n",
    "#### Boundary condition\n",
    "Let the grid be $U_{i,j}$, $i=0,\\dots, N-1$, $j=0,\\dots, M-1$\n",
    "* **Lower BC**: $S = 0$, $U(0,v,t) = 0$\n",
    "$$U_{0,j} = 0$$\n",
    "\n",
    "* **Upper BC**: $S \\to \\infty$, $\\lim_{S\\to\\infty} \\frac{\\partial U}{\\partial s}(S,v,t) = 1$\n",
    "  \n",
    "  Use one sided second ordered approximation: \n",
    "  $$\n",
    "    \\frac{3U_{N-1,j} -4U_{N-2, j} + U_{N-3,j}}{2\\Delta S} = 1\n",
    "  $$\n",
    "  \n",
    "  Get, \n",
    "  $$\n",
    "    U_{N-1,j} = \\frac{2\\Delta s + 4U_{N-2,j} - U_{N-3,j}}{3}\n",
    "  $$\n",
    "* **Left BC**: $v = 0$, $rS\\frac{\\partial U}{\\partial S}(S,0,t) + \\kappa\\theta\\frac{\\partial U}{\\partial v}(S,0,t) - rU(S,0,t)-\\frac{\\partial U}{\\partial t}(S,0,t) = 0$\n",
    "  \n",
    "  This boundary condition is the most complicated one. Here, we use **implicit scheme** and **first order approximation of spatial derivative** to discretize it:\n",
    "  \n",
    "  $$U^{n+1}_{i,0} = U^n_{i,0} + \\Delta t\\left(rS_0\\frac{U^{n+1}_{i,j} + U^{n+1}_{i-1,j}}{\\Delta S} - \\kappa\\theta\\frac{U^{n+1}_{i,1} - U^{n+1}_{i,0}}{\\Delta v} - rU^{n+1}_{i,0}\\right)\\\\\n",
    "\\Rightarrow\\left( 1 - rS_i\\frac{\\Delta t}{\\Delta S} + \\kappa\\theta\\frac{\\Delta t}{\\Delta v} + r\\Delta t\\right)U^{n+1}_{i,0} = U^n_{i,0} - rS_i\\frac{\\Delta t}{\\Delta s} U^{n+1}_{i-1,0} + \\kappa\\theta\\frac{\\Delta t}{\\Delta v}U^{n+1}_{i,1}\n",
    "  $$\n",
    "* **Right BC**: $v \\to \\infty$, $\\lim_{v\\to\\infty}U(S,v,t) = S$\n",
    "  $$U_{i,M-1} = S_i\n",
    "  $$"
   ]
  },
  {
   "cell_type": "markdown",
   "metadata": {},
   "source": [
    "**Code Implementation**"
   ]
  },
  {
   "cell_type": "markdown",
   "metadata": {},
   "source": [
    "To make our life easier, we restrict ourself to have a domain whose lower boundary variables are all 0, i.e. $U(S,v,t):[0,S]\\times[0,v]\\times[0,T]\\rightarrow \\mathbb{R}$. Therefore, we can further reduce the value of the element in our matrix by $S_i = i\\Delta S,~v_j = j\\Delta v$:\n",
    "$$\n",
    "\\begin{align}\n",
    "    a_{i,j} &= -c_{i,j} = -g_{i,j} = k_{i,j} = \\frac{\\rho\\sigma\\Delta t}{4} ij\\\\\n",
    "    b_{i,j} &= \\Delta t\\left(\\frac{i^2v_j}{2} - \\frac{ri}{2}\\right)\\\\\n",
    "    d_{i,j} &= \\Delta t\\left(\\frac{\\sigma^2j}{2\\Delta v} - \\frac{\\kappa(\\theta - v_j)}{2\\Delta v}\\right)\\\\\n",
    "    e_{i,j} &= 1 - \\Delta t\\left(r + i^2v_j+ \\frac{\\sigma^2j}{\\Delta v}\\right)\\\\\n",
    "    f_{i,j} &= \\Delta t\\left(\\frac{\\sigma^2j}{2\\Delta v} + \\frac{\\kappa(\\theta - v_j)}{2\\Delta v}\\right)\\\\\n",
    "    h_{i,j} &= \\Delta t\\left(\\frac{i^2v_j}{2} + \\frac{ri}{2}\\right)\\\\\n",
    "\\end{align}\n",
    "$$"
   ]
  },
  {
   "cell_type": "code",
   "execution_count": 5,
   "metadata": {
    "collapsed": true
   },
   "outputs": [],
   "source": [
    "def construct_A_rhs_forward(rho, sigma, r, kappa, theta, M, N, delta_v, delta_s, delta_t, v, s):\n",
    "    A = numpy.zeros([M*N, M*N])\n",
    "    rhs = numpy.zeros(M*N)\n",
    "    \n",
    "    for irow in range(M*N):\n",
    "        # U_hat[irow] == U(i,j)\n",
    "        i = irow/M\n",
    "        j = numpy.mod(irow, M)\n",
    "\n",
    "        if( i == 0 or i == N-1 or j == 0 ):\n",
    "            continue\n",
    "        elif (j == M-1):\n",
    "            rhs[irow] = s[i]\n",
    "        else:\n",
    "            temp = rho*sigma*i*j*delta_t/4.0\n",
    "            A[irow, irow - M - 1] = temp #a \n",
    "            A[irow, irow - M ]    = 0.5 * delta_t * (i**2 * v[j] - r*i) #b\n",
    "            A[irow, irow - M + 1] = -temp #c\n",
    "            A[irow, irow - 1]     = 0.5 * delta_t/delta_v * (sigma**2 * j - kappa*(theta - v[j])) #d\n",
    "            A[irow, irow]         = 1 - delta_t * (r + i**2 * v[j] + sigma**2 * j/delta_v) #e\n",
    "            A[irow, irow + 1]     = 0.5 * delta_t/delta_v * (sigma**2 * j + kappa*(theta - v[j])) #f\n",
    "            A[irow, irow + M - 1] = -temp #g\n",
    "            A[irow, irow + M]     = 0.5 * delta_t * (i**2 * v[j] + r*i) #h\n",
    "            A[irow, irow + M + 1] = temp #k\n",
    "    return A, rhs"
   ]
  },
  {
   "cell_type": "code",
   "execution_count": 6,
   "metadata": {
    "collapsed": true
   },
   "outputs": [],
   "source": [
    "def solve_heston_forward(rho, sigma, r, kappa, theta, M, N, V, S, T, K):\n",
    "    \n",
    "    delta_s = S/(N-1)\n",
    "    delta_v = V/(M-1)\n",
    "    \n",
    "    s = numpy.linspace(0.0, S + 20*delta_s, N+20)\n",
    "    v = numpy.linspace(0.0, V + 20*delta_v, M+20)\n",
    "    \n",
    "    N = N+20\n",
    "    M = M+20\n",
    "    L = N*100\n",
    "    \n",
    "    t = numpy.linspace(0.0, T, L)\n",
    "    delta_t = t[1] - t[0]\n",
    "    \n",
    "    U_old = numpy.zeros(M*N)\n",
    "    U_new = numpy.zeros(M*N)\n",
    "\n",
    "    for i in range(N):\n",
    "        U_old[i*M: (i+1)*M] = numpy.maximum(numpy.ones(M) * s[i] - K , 0.0)\n",
    "    A_f, rhs_f = construct_A_rhs_forward(rho, sigma, r, kappa, theta, M, N, delta_v, delta_s, delta_t, v, s)\n",
    "    \n",
    "    for timestep in t:  \n",
    "        U_new = numpy.dot(A_f, U_old)\n",
    "        \n",
    "        ## BC at v[-1]\n",
    "        U_new += rhs_f\n",
    "\n",
    "        ## BC at s = S[-1]\n",
    "        U_new[(N-1)*M: N*M] = (2*delta_s + 4.0*U_new[(N-2)*M: (N-1)*M] - U_new[(N-3)*M: (N-2)*M])/3.0\n",
    "\n",
    "        ## BC at v = v[0]\n",
    "        for i in xrange(N):\n",
    "            if i == 0:\n",
    "                continue\n",
    "            U_new[i*M] = ( U_old[i*M] - r*i*delta_t*U_new[(i-1)*M] + kappa*theta*delta_t*U_new[i*M + 1] / delta_v )\\\n",
    "                        / ( 1 - r*i*delta_t + kappa*theta*delta_t/delta_v + r*delta_t )\n",
    "        U_old = numpy.copy(U_new)\n",
    "    return numpy.reshape(U_new, [N, M]), s, v"
   ]
  },
  {
   "cell_type": "markdown",
   "metadata": {},
   "source": [
    "**Test**"
   ]
  },
  {
   "cell_type": "code",
   "execution_count": 7,
   "metadata": {
    "collapsed": false
   },
   "outputs": [
    {
     "data": {
      "image/png": "[encoded data removed]",
      "text/plain": [
       "<matplotlib.figure.Figure at 0x106a042d0>"
      ]
     },
     "metadata": {},
     "output_type": "display_data"
    }
   ],
   "source": [
    "# Set Coefficient\n",
    "rho = 0.8; sigma = 0.3; r = 0.03; kappa = 2.0; theta = 0.2\n",
    "\n",
    "K = 100.0\n",
    "\n",
    "# Set domain: [0,S] x [0,V] x [0,T]\n",
    "S = 200.0\n",
    "V = 1.0\n",
    "T = 1.0\n",
    "\n",
    "# Discretize domain\n",
    "M = 20\n",
    "N = 20\n",
    "    \n",
    "U_forward, s, v = solve_heston_forward(rho, sigma, r, kappa, theta, M, N, V, S, T, K)\n",
    "E, X = numpy.meshgrid(v[:-20], s[:-20])\n",
    "\n",
    "fig = plt.figure()\n",
    "axes = fig.add_subplot(1, 1, 1)\n",
    "sol_plot = axes.pcolor(E, X, U_forward[:-20,:-20], cmap=plt.get_cmap('RdBu_r'))\n",
    "axes.set_title(\"Solution U(v,S)\")\n",
    "axes.set_xlabel(\"v\")\n",
    "axes.set_ylabel(\"S\")\n",
    "cbar = fig.colorbar(sol_plot, ax=axes)"
   ]
  },
  {
   "cell_type": "markdown",
   "metadata": {},
   "source": [
    "### 2.1.2 Implicit Scheme (Backward Euler method)\n",
    "\n",
    "#### Update formula \n",
    "$$\n",
    "    AU^{n+1}=U^{n}+rhs\n",
    "$$\n",
    "\n",
    "In backward euler method, the value of the function which is used to approximate the time derivative is evaluated at time $t_{n+1}$:\n",
    "$$\\begin{aligned}\n",
    "    U^{n+1}_{i,j} = & \\ U^{n}_{i,j} + \\Delta t \\left\\{ (S_i)^2v_j\\frac{U^{n+1}_{i+1, j} - 2U^{n+1}_{i,j} + U^{n+1}_{i-1,j}}{2\\left(\\Delta S\\right)^2} \\right.\\\\\n",
    "    & \\qquad\\qquad + \\rho\\sigma S_iv_j\\frac{U^{n+1}_{i+1, j+1} - U^{n+1}_{i-1,j+1} - U^{n+1}_{i+1,j-1}+U^{n+1}_{i-1,j-1}}{4\\Delta s\\Delta v}  \\\\\n",
    "    & \\qquad\\qquad + \\sigma^2v_j\\frac{U^{n+1}_{i, j+1} - 2U^{n+1}_{i,j} + U^{n+1}_{i,j-1}}{2\\left(\\Delta v\\right)^2}\\\\\n",
    "    & \\qquad\\qquad + rS_i\\frac{U^{n+1}_{i+1, j} - U^{n+1}_{i-1,j}}{2\\Delta S} \\\\\n",
    "    & \\qquad\\qquad + \\left. \\kappa(\\theta-v_j)\\frac{U^{n+1}_{i, j+1} - U^{n+1}_{i,j-1}}{2\\Delta v}-rU^{n+1}_{i,j} \\right\\}\n",
    "\\end{aligned}$$\n",
    "\n",
    "Then we can write this implicit finite difference scheme as:\n",
    "$$a_{i,j} U^{n+1}_{i-1,j-1}+ b_{i,j} U^{n+1}_{i-1,j} + c_{i,j} U^{n+1}_{i-1, j+1} + d_{i,j} U^{n+1}_{i, j-1} + e_{i,j} U^{n+1}_{i, j} + f_{i,j} U^{n+1}_{i, j+1} + g_{i,j} U^{n+1}_{i+1, j-1} + h_{i,j} U^{n+1}_{i+1, j} + k_{i,j} U^{n+1}_{i+1, j+1} = U^{n}_{i,j}$$\n",
    ", where\n",
    "$$\n",
    "\\begin{align}\n",
    "    a_{i,j} &= -c_{i,j} = -g_{i,j} = k_{i,j} = -\\frac{\\rho\\sigma\\Delta t}{4\\Delta S\\Delta v} S_i v_j\\\\\n",
    "    b_{i,j} &= -\\Delta t\\left(\\frac{(S_i)^2v_j}{2\\left(\\Delta S\\right)^2} - \\frac{rS_i}{2\\Delta S}\\right)\\\\\n",
    "    d_{i,j} &= -\\Delta t\\left(\\frac{\\sigma^2v_j}{2\\left(\\Delta v\\right)^2} - \\frac{\\kappa(\\theta - v_j)}{2\\Delta v}\\right)\\\\\n",
    "    e_{i,j} &= 1 + \\Delta t\\left(r + \\frac{S_i^2v_j}{\\left(\\Delta S\\right)^2} + \\frac{\\sigma^2v_j}{\\left(\\Delta v\\right)^2}\\right)\\\\\n",
    "    f_{i,j} &= -\\Delta t\\left(\\frac{\\sigma^2v_j}{2\\left(\\Delta v\\right)^2} + \\frac{\\kappa(\\theta - v_j)}{2\\Delta v}\\right)\\\\\n",
    "    h_{i,j} &= -\\Delta t\\left(\\frac{(S_i)^2v_j}{2\\left(\\Delta S\\right)^2} + \\frac{rS_i}{2\\Delta S}\\right)\\\\\n",
    "\\end{align}\n",
    "$$\n",
    "\n",
    "#### Boundary condition\n",
    "Since we are implementing an implicit scheme, unlike explicit one that we can simply impose them after updating, some of the boundary condition may affect the value of the element in the matrix A, some may be reflected in the right hand side.\n",
    "\n",
    "* **Lower BC**: $S = 0$ **[Ignore]**\n",
    "  $$U_{0,j} = 0,~for~j=0,\\dots,M-1$$\n",
    "  \n",
    "* **Upper BC**: $S \\to \\infty$ **[Implement both in the matrix and the right hand side]**\n",
    "  \n",
    "  For $j=1,\\dots, M-2$\n",
    "  $$\\begin{align}U^{n+1}_{N-1,j} &= \\frac{2\\Delta s + 4U^{n+1}_{N-2,j} - U^{n+1}_{N-3,j}}{3}\\\\\n",
    "  &= \\frac 4 3U^{n+1}_{N-2,j} - \\frac 1 3 U^{n+1}_{N-3,j} + \\frac{2\\Delta s}{3}\\end{align}$$\n",
    "    \n",
    "* **Left BC**: $v = 0$ **[Implement in the right hand side]**\n",
    "  \n",
    "  Same as discussed in forward euler method, we have:\n",
    "  $$\\left( 1 - rS_i\\frac{\\Delta t}{\\Delta S} + \\kappa\\theta\\frac{\\Delta t}{\\Delta v} + r\\Delta t\\right)U^{n+1}_{i,0} =U^{n}_{i,0} - \\frac{rS_i\\Delta t}{\\Delta s} U^{n+1}_{i-1,0} + \\frac{\\kappa\\theta\\Delta t}{\\Delta v} U^{n+1}_{i,1}\\\\\n",
    "\\Rightarrow ri\\Delta t U^{n+1}_{i-1,0} + \\left( 1 - rS_i\\frac{\\Delta t}{\\Delta S} + \\kappa\\theta\\frac{\\Delta t}{\\Delta v} + r\\Delta t\\right)U^{n+1}_{i,0} - \\frac{\\kappa\\theta\\Delta t}{\\Delta v} U^{n+1}_{i,1}=U^{n}_{i,0}$$ for $i=1,...,N-2$, For $i=0$, we use the boundary condition for $S=0$, $U_{0,0}=0$. \n",
    "  \n",
    "  But since we can't get $U^{n+1}_{i,1}$ at this moment, we change to use $U^{n}_{i,1}$ instead of $U^{n}_{i,1}$:\n",
    "$$ri\\Delta t U^{n+1}_{i-1,0} + \\left( 1 - rS_i\\frac{\\Delta t}{\\Delta S} + \\kappa\\theta\\frac{\\Delta t}{\\Delta v} + r\\Delta t\\right)U^{n+1}_{i,0}=U^{n}_{i,0} + \\frac{\\kappa\\theta\\Delta t}{\\Delta v} U^{n+1}_{i,1}$$\n",
    "Further, since we know the value of $U^{n+1}_{0,0}$, we can simply calculate $U^{n+1}_{i,0}$, $i=1, \\dots $ by\n",
    "$$U^{n+1}_{i,0}= \\frac{U^{n}_{i,0} + \\frac{\\kappa\\theta\\Delta t}{\\Delta v} U^{n+1}_{i,1} - ri\\Delta t U^{n+1}_{i-1,0}}{\\left( 1 - rS_i\\frac{\\Delta t}{\\Delta S} + \\kappa\\theta\\frac{\\Delta t}{\\Delta v} + r\\Delta t\\right)}$$\n",
    "Therefore allow us to treat this boundary condition in the right hand side.\n",
    "\n",
    "* **Right BC**: $v \\to \\infty$ **[Implement in the right hand side]**\n",
    "$$U_{i,M-1} = S_i,~for~i=0,\\dots,N-1$$"
   ]
  },
  {
   "cell_type": "markdown",
   "metadata": {},
   "source": [
    "**Code Implementation**\n",
    "\n",
    "Again, we can reduce the discretization scheme to ($S_i = i\\Delta S;~v_j = j\\Delta v$):\n",
    "$$\n",
    "\\begin{align}\n",
    "    a_{i,j} &= -c_{i,j} = -g_{i,j} = k_{i,j} = -\\frac{\\rho\\sigma\\Delta t}{4} ij\\\\\n",
    "    b_{i,j} &= -\\Delta t\\left(\\frac{i^2v_j}{2} - \\frac{ri}{2}\\right)\\\\\n",
    "    d_{i,j} &= -\\Delta t\\left(\\frac{\\sigma^2j}{2\\Delta v} - \\frac{\\kappa(\\theta - v_j)}{2\\Delta v}\\right)\\\\\n",
    "    e_{i,j} &= 1 + \\Delta t\\left(r + i^2v_j+ \\frac{\\sigma^2j}{\\Delta v}\\right)\\\\\n",
    "    f_{i,j} &= -\\Delta t\\left(\\frac{\\sigma^2j}{2\\Delta v} + \\frac{\\kappa(\\theta - v_j)}{2\\Delta v}\\right)\\\\\n",
    "    h_{i,j} &= -\\Delta t\\left(\\frac{i^2v_j}{2} + \\frac{ri}{2}\\right)\\\\\n",
    "\\end{align}\n",
    "$$"
   ]
  },
  {
   "cell_type": "code",
   "execution_count": 8,
   "metadata": {
    "collapsed": true
   },
   "outputs": [],
   "source": [
    "def construct_A_rhs_backward(rho, sigma, r, kappa, theta, M, N, delta_v, delta_s, delta_t, v, s):\n",
    "    A = numpy.zeros([M*N, M*N])\n",
    "    rhs = numpy.zeros(M*N)\n",
    "    # Construct matrix A\n",
    "    for irow in range(M*N):\n",
    "        i = irow/M + 1\n",
    "        j = numpy.mod(irow, M) + 1\n",
    "\n",
    "        temp = rho*sigma*i*j*delta_t/4.0\n",
    "        a = -temp\n",
    "        k = -temp\n",
    "        c = temp\n",
    "        g = temp\n",
    "        b = -0.5 * delta_t * (i**2 * v[j-1] - r*i)\n",
    "        d = -0.5 * delta_t/delta_v * (sigma**2 * j - kappa*(theta - v[j-1]))\n",
    "        e = 1 + delta_t * (r + i**2 * v[j-1] + sigma**2 * j/delta_v)\n",
    "        f = -0.5 * delta_t/delta_v * (sigma**2 * j + kappa*(theta - v[j-1]))\n",
    "        h = -0.5 * delta_t * (i**2 * v[j-1] + r*i)\n",
    "\n",
    "        i = i-1\n",
    "        j = j-1\n",
    "\n",
    "        if( i == 0 ):\n",
    "            if( j==0 ):\n",
    "                A[irow, irow]         = e\n",
    "                A[irow, irow + 1]     = f\n",
    "                A[irow, irow + M]     = h\n",
    "                A[irow, irow + M + 1] = k\n",
    "            elif( j==M-1 ):\n",
    "                A[irow, irow - 1]     = d\n",
    "                A[irow, irow]         = e\n",
    "                A[irow, irow + M - 1] = g\n",
    "                A[irow, irow + M]     = h\n",
    "                rhs[irow]             = -k*s[i+1] - f *s[i] \n",
    "            else:\n",
    "                A[irow, irow - 1]     = d\n",
    "                A[irow, irow]         = e\n",
    "                A[irow, irow + 1]     = f\n",
    "                A[irow, irow + M - 1] = g\n",
    "                A[irow, irow + M]     = h\n",
    "                A[irow, irow + M + 1] = k\n",
    "        elif (i == N-1):\n",
    "            if( j==0 ):\n",
    "                A[irow, irow - M ]    = b - h*1.0/3.0\n",
    "                A[irow, irow - M + 1] = c - k*1.0/3.0\n",
    "                A[irow, irow]         = e + h*4.0/3.0 \n",
    "                A[irow, irow + 1]     = f + k*4.0/3.0\n",
    "                rhs[irow]             = -2.0/3.0*delta_s*(h+k)\n",
    "            elif( j==M-1 ):\n",
    "                A[irow, irow - M - 1] = a - g*1.0/3.0\n",
    "                A[irow, irow - M ]    = b - h*1.0/3.0\n",
    "                A[irow, irow - 1]     = d + g*4.0/3.0\n",
    "                A[irow, irow]         = e + h*4.0/3.0 \n",
    "                rhs[irow]             = -(c*s[i-1] + f *s[i] + k*S)- 2.0/3.0*delta_s*(g+h)\n",
    "            else:\n",
    "                A[irow, irow - M - 1] = a - g*1.0/3.0\n",
    "                A[irow, irow - M ]    = b - h*1.0/3.0\n",
    "                A[irow, irow - M + 1] = c - k*1.0/3.0\n",
    "                A[irow, irow - 1]     = d + g*4.0/3.0\n",
    "                A[irow, irow]         = e + h*4.0/3.0 \n",
    "                A[irow, irow + 1]     = f + k*4.0/3.0\n",
    "                rhs[irow]             = -2.0/3.0*delta_s*(h+k+g)\n",
    "        else:\n",
    "            if( j==0 ):\n",
    "                A[irow, irow - M ]    = b\n",
    "                A[irow, irow - M + 1] = c\n",
    "                A[irow, irow]         = e\n",
    "                A[irow, irow + 1]     = f\n",
    "                A[irow, irow + M]     = h\n",
    "                A[irow, irow + M + 1] = k\n",
    "            elif( j==M-1 ):\n",
    "                rhs[irow]             = -( s[i-1] * c + s[i] * f + s[i+1] * k )\n",
    "                A[irow, irow - M - 1] = a  \n",
    "                A[irow, irow - M ]    = b\n",
    "                A[irow, irow - 1]     = d\n",
    "                A[irow, irow]         = e\n",
    "                A[irow, irow + M - 1] = g\n",
    "                A[irow, irow + M]     = h            \n",
    "            else:\n",
    "                A[irow, irow - M - 1] = a  \n",
    "                A[irow, irow - M ]    = b\n",
    "                A[irow, irow - M + 1] = c\n",
    "                A[irow, irow - 1]     = d\n",
    "                A[irow, irow]         = e\n",
    "                A[irow, irow + 1]     = f\n",
    "                A[irow, irow + M - 1] = g\n",
    "                A[irow, irow + M]     = h\n",
    "                A[irow, irow + M + 1] = k\n",
    "    return A, rhs"
   ]
  },
  {
   "cell_type": "code",
   "execution_count": 9,
   "metadata": {
    "collapsed": false
   },
   "outputs": [],
   "source": [
    "def solve_heston_backward(rho, sigma, r, kappa, theta, M, N, V, S, T, K):\n",
    "    delta_s = S/(N+1)\n",
    "    delta_v = V/(M+1)\n",
    "    \n",
    "    s = numpy.linspace(0.0, S + 20*delta_s, N+20+2)\n",
    "    v = numpy.linspace(0.0, V + 20*delta_v, M+20+2)\n",
    "    \n",
    "    N = N+20\n",
    "    M = M+20\n",
    "    L = int(M)\n",
    "    t = numpy.linspace(0.0, T, L)\n",
    "    \n",
    "    s = s[1:-1]\n",
    "    v = v[1:-1]\n",
    "    \n",
    "    delta_t = t[1] - t[0]\n",
    "    \n",
    "    U_old = numpy.zeros(M*N)\n",
    "    U_new = numpy.zeros(M*N)\n",
    "    U_bc  = numpy.zeros(N+2)\n",
    "    \n",
    "    # Initialize U vector\n",
    "    U_bc[0]  = 0\n",
    "    U_bc[-1] = numpy.maximum(S - K, 0.0)\n",
    "    \n",
    "    for i in range(N):\n",
    "        U_old[i*M: (i+1)*M] = numpy.maximum(numpy.ones(M) * s[i] - K , 0.0)\n",
    "        U_bc[i] = numpy.maximum(s[i] - K, 0.0)\n",
    "\n",
    "    A_b, rhs_b = construct_A_rhs_backward(rho, sigma, r, kappa, theta, M, N, delta_v, delta_s, delta_t, v, s)\n",
    "    \n",
    "    temp = numpy.empty(N+2)\n",
    "    temp[0] = 0.0\n",
    "    for timestep in t:\n",
    "\n",
    "        for i in xrange(N+2):\n",
    "            if i == 0:\n",
    "                continue       \n",
    "            else:\n",
    "                if i == N+1:\n",
    "                    temp1 = (2.0*delta_s + 4.0 * U_old[(i-2)*M]- U_old[(i-3)*M] )/3.0\n",
    "                else:\n",
    "                    temp1 = U_old[(i-1)*M]\n",
    "                temp[i] = ( U_bc[i] - r*i*delta_t*temp[i-1] + kappa*theta*delta_t*temp1/delta_v )\\\n",
    "                          /( 1 - r*i*delta_t + kappa*theta*delta_t/delta_v + r*delta_t )\n",
    "                U_bc = numpy.copy(temp)\n",
    "\n",
    "        # a, d, g\n",
    "        for i in xrange(N):\n",
    "            temp2 = rho*sigma*(i+1)*delta_t/4.0\n",
    "            a = -temp2\n",
    "            d = -0.5 * delta_t/delta_v * (sigma**2- kappa*(theta - v[0]))\n",
    "            g = temp2\n",
    "            rhs_b[i*M] = -a*temp[i] -d*temp[i+1] -g*temp[i+2]\n",
    "        U_new = numpy.linalg.solve(A_b, U_old+rhs_b)\n",
    "        U_old = numpy.copy(U_new)\n",
    "        \n",
    "    U = numpy.zeros([N+2,M+2])\n",
    "    U[1:-1, 1:-1] = numpy.reshape(U_new, [N, M])\n",
    "    U[0, :] = numpy.ones(M+2) * 0.0\n",
    "    for i in xrange(N+2):\n",
    "        if i == 0:\n",
    "            continue       \n",
    "        else:\n",
    "            if i == N+1:\n",
    "                temp1 = (2.0*delta_s + 4.0 * U_old[(i-2)*M]- U_old[(i-3)*M] )/3.0\n",
    "            else:\n",
    "                temp1 = U_old[(i-1)*M]\n",
    "            temp[i] = ( U_bc[i] - r*i*delta_t*temp[i-1] + kappa*theta*delta_t*temp1/delta_v )\\\n",
    "                      /( 1 - r*i*delta_t + kappa*theta*delta_t/delta_v + r*delta_t )\n",
    "            U_bc = numpy.copy(temp)\n",
    "            \n",
    "    U[:,0] = numpy.copy(U_bc)\n",
    "    \n",
    "    U[-1,-1] = S-K\n",
    "    U[0,-1] = 0\n",
    "    U[1:-1, -1] = s - numpy.ones(N)*K\n",
    "    U[-1,:] = (2*delta_s*numpy.ones(M+2) + 4.0*U[-2, :] - U[-3, :])/3.0\n",
    "    \n",
    "    return U, numpy.linspace(0.0, S + 20*delta_s, N+2), numpy.linspace(0.0, V + 20*delta_v, M+2)"
   ]
  },
  {
   "cell_type": "markdown",
   "metadata": {},
   "source": [
    "**Test**"
   ]
  },
  {
   "cell_type": "code",
   "execution_count": 11,
   "metadata": {
    "collapsed": false
   },
   "outputs": [
    {
     "data": {
      "image/png": "[encoded data removed]",
      "text/plain": [
       "<matplotlib.figure.Figure at 0x106dfb050>"
      ]
     },
     "metadata": {},
     "output_type": "display_data"
    }
   ],
   "source": [
    "#Set coefficient\n",
    "rho = 0.8; sigma = 0.3; r = 0.03; kappa = 2.0; theta = 0.2\n",
    "\n",
    "K = 100.0\n",
    "\n",
    "# Set domain: [0,S] x [0,V] x [0,T]\n",
    "S = 200.0\n",
    "V = 1.0\n",
    "T = 1.0\n",
    "\n",
    "M = 20\n",
    "N = 20\n",
    "\n",
    "U_backward, s_b, v_b = solve_heston_backward(rho, sigma, r, kappa, theta, M, N, V, S, T, K)\n",
    "X, Y = numpy.meshgrid(v_b[:-20], s_b[:-20])\n",
    "\n",
    "fig = plt.figure()\n",
    "axes = fig.add_subplot(1, 1, 1)\n",
    "sol_plot = axes.pcolor(X, Y, U_backward[:-20, :-20], cmap=plt.get_cmap('RdBu_r'))\n",
    "axes.set_title(\"Solution U(v,S)\")\n",
    "axes.set_xlabel(\"v\")\n",
    "axes.set_ylabel(\"S\")\n",
    "cbar = fig.colorbar(sol_plot, ax=axes)"
   ]
  },
  {
   "cell_type": "markdown",
   "metadata": {},
   "source": [
    "### 2.1.3 Modified Backward Euler Method\n",
    "Here, we proposed a method that is basically same as the backward euler but with a different way to deal with the boundary condition, which makes this implementation not fully implicit.\n",
    "\n",
    "To explain the algorithm, we can categorize our grid points into three different classes:\n",
    "* Boundary points (Orange circle)\n",
    "* Interior point whose nine points stencil involve boundary points (Green circle)\n",
    "* Interior point whose nine points stencil does not involve boundary points (Red circle)\n",
    "\n",
    "<img src=\"https://docs.google.com/a/columbia.edu/drawings/d/1mze__LmZaa6K9cJD-Mdf1Jk7upz0hjN4NnZ71HQ-sZ4/pub?w=285&h=238\">"
   ]
  },
  {
   "cell_type": "markdown",
   "metadata": {},
   "source": [
    "#### Case 1:\n",
    "For the interior point whose nine points stencil doesn't involve boundary points, i.e. $U_{i,j}$, $i=2,\\dots, N-3$, $j=2,\\dots, M-3$,we use traditional backward euler method:\n",
    "$$\n",
    "    a_{i,j} U^{n+1}_{i-1,j-1}+ b_{i,j} U^{n+1}_{i-1,j} + c_{i,j} U^{n+1}_{i-1, j+1} + d_{i,j} U^{n+1}_{i, j-1} + e_{i,j} U^{n+1}_{i, j} + f_{i,j} U^{n+1}_{i, j+1} + g_{i,j} U^{n+1}_{i+1, j-1} + h_{i,j} U^{n+1}_{i+1, j} + k_{i,j} U^{n+1}_{i+1, j+1} = U^{n}_{i,j}\n",
    "$$\n",
    ", the value of $a_{i,j},b_{i,j},c_{i,j},d_{i,j},e_{i,j},f_{i,j},g_{i,j},h_{i,j},k_{i,j}$ are same as those in backward euler method but don't need to modify to handle the boundary condition.\n",
    "#### Case 2 :\n",
    "Here is the place that things get tricky. In this method, we **update the interior points and boundary points seperately**, which allows us to treat the boundary condition as a dirichlet type and the boundary points' value we are from the previous time step.\n",
    "\n",
    "Take $U_{1,1}$ as an example (where $U_{0,0}, U_{0,1}, U_{0,2}, U_{1,0}, U_{2,0}$ are boundary points), its updating rule becomes:\n",
    "$$a_{1,1} U^{n}_{0,0}+ b_{1,1} U^{n}_{0,1} + c_{1,1} U^{n}_{0, 2} + d_{1,1} U^{n}_{1, 0} + e_{1,1} U^{n+1}_{1, 1} + f_{1,1} U^{n+1}_{1, 2} + g_{1,1} U^{n}_{2, 0} + h_{1,1} U^{n+1}_{2, 1} + k_{1,1} U^{n+1}_{2, 2} = U^{n}_{1,1}- (1)$$ \n",
    "Since we treat the bounday condition as dirichlet type, for $U^{n}_{i,j}$ at boundary, we have\n",
    "$$\n",
    "    U^{n+1}_{i,j} = U^{n}_{i,j} -(2)\n",
    "$$.\n",
    "\n",
    "By substituing (2) to (1), we get back to the same updating rule as **Case 1**!\n",
    "#### Case 3:\n",
    "As said in case 2, we seperate the update of interior points and boundary points. We first updates the interior points and then the boundary points and uses the value of interior points just updated. \n",
    "\n",
    "With this setting, we can use the same updating rule for boundary points for forward euler method. i.e.\n",
    "\n",
    "For $v = 0$,\n",
    "$$\n",
    "    U^{n+1}_{i,0} = \\frac{U^{n}_{i,0} - rS_i\\frac{\\Delta t}{\\Delta s} U^{n+1}_{i-1,j} + \\kappa\\theta\\frac{\\Delta t}{\\Delta v}U^{n+1}_{i,1})}{\\left( 1 - rS_i\\frac{\\Delta t}{\\Delta S} + \\kappa\\theta\\frac{\\Delta t}{\\Delta v} + r\\Delta t\\right)}\n",
    "$$\n",
    "\n",
    "For $S \\rightarrow \\infty$\n",
    "$$\n",
    "  U^{n+1}_{N-1,j} = \\frac{2\\Delta s + 4U^{n+1}_{N-2,j} - U^{n+1}_{N-3,j}}{3}\n",
    "$$\n",
    "\n",
    "For $S=0, v\\rightarrow \\infty$, since these two boundary condition are dirichlet type, they are constant in time."
   ]
  },
  {
   "cell_type": "markdown",
   "metadata": {},
   "source": [
    "** Code Implementation **"
   ]
  },
  {
   "cell_type": "code",
   "execution_count": 12,
   "metadata": {
    "collapsed": true
   },
   "outputs": [],
   "source": [
    "def construct_A_rhs_modified_backward(rho, sigma, r, kappa, theta, M, N, delta_v, delta_s, delta_t, v, s):\n",
    "    A = numpy.zeros([M*N, M*N])\n",
    "    rhs = numpy.zeros(M*N)\n",
    "    # Construct matrix A\n",
    "    for irow in range(M*N):\n",
    "        i = irow/M\n",
    "        j = numpy.mod(irow, M)\n",
    "\n",
    "        temp = rho*sigma*i*j*delta_t/4.0\n",
    "        a = -temp\n",
    "        k = -temp\n",
    "        c = temp\n",
    "        g = temp\n",
    "        b = -0.5 * delta_t * (i**2 * v[j] - r*i)\n",
    "        d = -0.5 * delta_t/delta_v * (sigma**2 * j - kappa*(theta - v[j]))\n",
    "        e = 1 + delta_t * (r + i**2 * v[j] + sigma**2 * j/delta_v)\n",
    "        f = -0.5 * delta_t/delta_v * (sigma**2 * j + kappa*(theta - v[j]))\n",
    "        h = -0.5 * delta_t * (i**2 * v[j] + r*i)\n",
    "\n",
    "        if( i == 0 or i == N-1 or j == 0 ):\n",
    "            A[irow, irow] = 1.0\n",
    "        elif (j == M-1):\n",
    "            A[irow, irow] = 1.0\n",
    "            rhs[irow] = s[i]\n",
    "        else:\n",
    "            A[irow, irow - M - 1] = a  \n",
    "            A[irow, irow - M ]    = b\n",
    "            A[irow, irow - M + 1] = c\n",
    "            A[irow, irow - 1]     = d\n",
    "            A[irow, irow]         = e\n",
    "            A[irow, irow + 1]     = f\n",
    "            A[irow, irow + M - 1] = g\n",
    "            A[irow, irow + M]     = h\n",
    "            A[irow, irow + M + 1] = k\n",
    "    return A, rhs"
   ]
  },
  {
   "cell_type": "code",
   "execution_count": 13,
   "metadata": {
    "collapsed": true
   },
   "outputs": [],
   "source": [
    "def solve_heston_modified_backward(rho, sigma, r, kappa, theta, M, N, V, S, T, K):\n",
    "    L = int (M)\n",
    "    delta_s = S/(N-1)\n",
    "    delta_v = V/(M-1)\n",
    "    \n",
    "    s = numpy.linspace(0.0, S + 20*delta_s, N+20)\n",
    "    v = numpy.linspace(0.0, V + 20*delta_v, M+20)\n",
    "    \n",
    "    N = N+20\n",
    "    M = M+20\n",
    "\n",
    "    t = numpy.linspace(0.0, T, L)\n",
    "    delta_t = t[1] - t[0]\n",
    "    \n",
    "    U_old = numpy.zeros(M*N)\n",
    "    U_new = numpy.zeros(M*N)\n",
    "\n",
    "    for i in range(N):\n",
    "        U_old[i*M: (i+1)*M] = numpy.maximum(numpy.ones(M) * s[i] - K , 0.0)\n",
    "    A_mb, rhs_mb = construct_A_rhs_modified_backward(rho, sigma, r, kappa, theta, M, N, delta_v, delta_s, delta_t, v, s)\n",
    "    \n",
    "    for timestep in t:\n",
    "        ## Step 1: Update the interior points\n",
    "        U_new = numpy.linalg.solve(A_mb, U_old)\n",
    "\n",
    "        ## Step 2: Update the boundary points\n",
    "\n",
    "        # Upper BC: S at infinity (Max value of S)\n",
    "        U_new[(N-1)*M: N*M] = (2*delta_s + 4.0*U_new[(N-2)*M: (N-1)*M] - U_new[(N-3)*M: (N-2)*M])/3.0\n",
    "\n",
    "        # Left BC: v = 0\n",
    "        for i in xrange(N):\n",
    "            if i == 0:\n",
    "                continue\n",
    "            U_new[i*M] = ( U_new[i*M] - r*i*delta_t*U_new[(i-1)*M] + kappa*theta*delta_t*U_new[i*M + 1] / delta_v )\\\n",
    "                        / ( 1 - r*i*delta_t + kappa*theta*delta_t/delta_v + r*delta_t )\n",
    "        U_old = numpy.copy(U_new)\n",
    "    return numpy.reshape(U_new, [N, M]), s, v"
   ]
  },
  {
   "cell_type": "markdown",
   "metadata": {},
   "source": [
    "**Test**"
   ]
  },
  {
   "cell_type": "code",
   "execution_count": 14,
   "metadata": {
    "collapsed": false
   },
   "outputs": [
    {
     "data": {
      "image/png": "[encoded data removed]",
      "text/plain": [
       "<matplotlib.figure.Figure at 0x1067ca690>"
      ]
     },
     "metadata": {},
     "output_type": "display_data"
    }
   ],
   "source": [
    "# Set coefficient\n",
    "rho = 0.8; sigma = 0.3; r = 0.03; kappa = 2.0; theta = 0.2\n",
    "\n",
    "K = 100.0\n",
    "\n",
    "# Set domain: [0,S] x [0,V] x [0,T]\n",
    "S = 200.0\n",
    "V = 1.0\n",
    "T = 1.0\n",
    "\n",
    "# Discretize domain\n",
    "M = 20\n",
    "N = 20\n",
    "    \n",
    "U_mb, s_mb, v_mb = solve_heston_modified_backward(rho, sigma, r, kappa, theta, M, N, V, S, T, K)\n",
    "X, Y = numpy.meshgrid(v_mb[:-20], s_mb[:-20])\n",
    "\n",
    "fig = plt.figure()\n",
    "axes = fig.add_subplot(1, 1, 1)\n",
    "sol_plot = axes.pcolor(X, Y, U_mb[:-20,:-20], cmap=plt.get_cmap('RdBu_r'))\n",
    "axes.set_title(\"Solution U(v,S)\")\n",
    "axes.set_xlabel(\"v\")\n",
    "axes.set_ylabel(\"S\")\n",
    "cbar = fig.colorbar(sol_plot, ax=axes)"
   ]
  },
  {
   "cell_type": "markdown",
   "metadata": {},
   "source": [
    "### 2.2 Monte Carlo Simulation\n",
    "Monte Carlo Simulation is a broadly used class of computational algorithms that rely on repeated random sampling to obtain numerical results. \n",
    "\n",
    "Since the stochastic factors in Heston model are assumed to follow two correlated continuous Brownian Motions, we could generate random path to simulate the stock price evolution. Mathematically, the Brownian Motion has independent and stationary Gaussian increments:\n",
    "\n",
    "$$\n",
    "B_t \\sim N(0,t),\\qquad  E(B_t) = 0,\\qquad Var(B_t) = t\n",
    "$$\n",
    "\n",
    "which is equiavalent to a normal random variable:\n",
    "\n",
    "$$\n",
    "B_{t+\\Delta t} - B_t \\sim \\Delta t Z, \\qquad Z\\sim N(0,1)\n",
    "$$\n",
    "\n",
    "In addition, the correlation of two Brownian Motions can be re-written as:\n",
    "$$\n",
    "dW^2_t = \\rho dW^1_t + \\sqrt{1-\\rho^2}\\Delta t \\cdot Z\n",
    "$$\n",
    "\n",
    "Therefore, the simulation method can be mathematically shown as:\n",
    "\n",
    "$$\n",
    "S_{t+1} = rS_t\\cdot\\Delta t + \\sqrt{V_t}S_t\\cdot\\Delta t\\cdot Z_1\n",
    "$$\n",
    "\n",
    "$$\n",
    "V_{t+1} = \\kappa(\\theta - V_t)\\cdot\\Delta t + \\sigma\\sqrt{V_t}\\cdot \\Delta t\\cdot Z_2\n",
    "$$\n",
    "\n",
    "$$\n",
    "Z_2 = \\rho Z_1 + \\sqrt{1-\\rho^2}Z\n",
    "$$\n",
    "\n",
    "In practice, we simulate $M$ paths of stock price. The call option price for each path at maturity is just $(S_T-K)^+$. Then we compute the average of those simulated values and discount the mean price as the current option price. "
   ]
  },
  {
   "cell_type": "markdown",
   "metadata": {},
   "source": [
    "**Code Implementation**"
   ]
  },
  {
   "cell_type": "code",
   "execution_count": 15,
   "metadata": {
    "collapsed": true
   },
   "outputs": [],
   "source": [
    "# Monte Carlo Simulation\n",
    "def Heston_MonteCarlo(M, K, S0, V0, T, t, r, kappa, theta, sigma, rho, _lambda):\n",
    "    N = int(numpy.round(252 * (T - t))) + 1 #time steps are evaluated per day\n",
    "    dt = (T - t) / float(N)\n",
    "    Sqrtdt = numpy.sqrt(dt)\n",
    "    \n",
    "    _k = kappa + _lambda\n",
    "    _theta = (kappa * theta) / (kappa + _lambda)\n",
    "    S = numpy.zeros((M, N + 1))\n",
    "    S[:,0] = S[:,0] + S0\n",
    "    V = numpy.zeros((M, N + 1))\n",
    "    V[:,0] = V[:,0] + V0\n",
    "    Call_vals = numpy.empty(M)\n",
    "    for i in xrange(M):\n",
    "        for j in xrange(N):\n",
    "            dW1 = Sqrtdt * rnd.normal(0.0,1.0,1)[0]\n",
    "            dZ = Sqrtdt * rnd.normal(0.0,1.0,1)[0]\n",
    "            S[i,j+1] = S[i,j] + r * S[i,j] * dt + numpy.sqrt(abs(V[i,j])) * S[i,j] * dW1\n",
    "            dW2 = rho * dW1 + numpy.sqrt(1.0 - rho**2) * dZ\n",
    "            V[i,j+1] = V[i,j] + _k * (_theta - V[i,j]) * dt + sigma * numpy.sqrt(abs(V[i,j])) * dW2\n",
    "\n",
    "        Call_vals[i] = max(S[i,-1] - K, 0.0) * numpy.exp(- r * (T - t))\n",
    "            \n",
    "    Call = numpy.mean(Call_vals)\n",
    "    return Call"
   ]
  },
  {
   "cell_type": "markdown",
   "metadata": {},
   "source": [
    "**Test**"
   ]
  },
  {
   "cell_type": "code",
   "execution_count": 16,
   "metadata": {
    "collapsed": false
   },
   "outputs": [
    {
     "name": "stdout",
     "output_type": "stream",
     "text": [
      "Monte Carlo:  5.95173995893\n",
      "Exact solution:  6.03625703302\n"
     ]
    }
   ],
   "source": [
    "# Test Monte Carlo\n",
    "M = 5000\n",
    "K = 100.0\n",
    "S = 100.0\n",
    "V = 0.05\n",
    "T = 0.25\n",
    "t = 0.0\n",
    "r = 0.03\n",
    "kappa = 2.0\n",
    "theta = 0.2\n",
    "sigma = 0.3\n",
    "rho = 0.8\n",
    "_lambda = 0.0\n",
    "MC = Heston_MonteCarlo(M, K, S, V, T, t, r, kappa, theta, sigma, rho, _lambda)\n",
    "true = Heston_ExactSolution(rho, sigma, r, kappa, theta, _lambda, V, S, T, K)\n",
    "print \"Monte Carlo: \", MC\n",
    "print \"Exact solution: \", true"
   ]
  },
  {
   "cell_type": "code",
   "execution_count": 17,
   "metadata": {
    "collapsed": false
   },
   "outputs": [
    {
     "data": {
      "image/png": "[encoded data removed]",
      "text/plain": [
       "<matplotlib.figure.Figure at 0x106fd4a90>"
      ]
     },
     "metadata": {},
     "output_type": "display_data"
    }
   ],
   "source": [
    "# Sample paths plot\n",
    "M = 100\n",
    "S0 = 100.0\n",
    "V0 = 0.05\n",
    "N = int(numpy.round(252 * (T - t))) + 1\n",
    "dt = (T - t) / float(N)\n",
    "Sqrtdt = numpy.sqrt(dt)\n",
    "_k = kappa + _lambda\n",
    "_theta = (kappa * theta) / (kappa + _lambda)\n",
    "S = numpy.zeros((M, N + 1))\n",
    "S[:,0] = S[:,0] + S0\n",
    "V = numpy.zeros((M, N + 1))\n",
    "V[:,0] = V[:,0] + V0\n",
    "Call_vals = numpy.empty(M)\n",
    "for i in xrange(M):\n",
    "    for j in xrange(N):\n",
    "        dB = Sqrtdt * rnd.normal(0.0,1.0,1)[0]\n",
    "        dW = Sqrtdt * rnd.normal(0.0,1.0,1)[0]\n",
    "        S[i,j+1] = S[i,j] + r * S[i,j] * dt + numpy.sqrt(abs(V[i,j])) * S[i,j] * dB\n",
    "        dZ = rho * dB + numpy.sqrt(1.0 - rho**2) * dW\n",
    "        V[i,j+1] = V[i,j] + _k*(_theta - V[i,j])*dt + sigma*numpy.sqrt(abs(V[i,j])) * dZ\n",
    "\n",
    "x = numpy.linspace(t, T, N+1)\n",
    "for i in xrange(M):\n",
    "    plt.plot(x, S[i,:])\n",
    "plt.show()"
   ]
  },
  {
   "cell_type": "markdown",
   "metadata": {},
   "source": [
    "## 3. Error Analysis"
   ]
  },
  {
   "cell_type": "markdown",
   "metadata": {},
   "source": [
    "### 3.1 Error Distribution over Domain"
   ]
  },
  {
   "cell_type": "code",
   "execution_count": 20,
   "metadata": {
    "collapsed": false
   },
   "outputs": [],
   "source": [
    "# Domain\n",
    "K = 100.0; S = 200.0; V = 1.0; T = 1.0; t = 0.0\n",
    "# Coefficient\n",
    "r = 0.03; kappa = 2.0; theta = 0.2; sigma = 0.3; rho = 0.8; _lambda = 0.0\n",
    "\n",
    "M = 40; N = 40\n",
    "\n",
    "delta_s = S/(M-1)\n",
    "delta_v = V/(N-1)\n",
    "\n",
    "s = numpy.linspace(0.0, S + 20*delta_s, M+20)\n",
    "v = numpy.linspace(0.0, V + 20*delta_v, N+20)\n",
    "\n",
    "# True solution\n",
    "X, Y = numpy.meshgrid(v, s)\n",
    "z = numpy.array([Heston_ExactSolution(rho, sigma, r, kappa, theta, _lambda, v_t, s_t, T, K)\\\n",
    "                      for v_t, s_t in zip(numpy.ravel(X), numpy.ravel(Y))])\n",
    "U_true = z.reshape([N+20, M+20])\n",
    "#Explicit/Forward Euler\n",
    "U_f, s_f, v_f = solve_heston_forward(rho, sigma, r, kappa, theta, M, N, V, S, T, K)\n",
    "#Implicit/Backward Euler\n",
    "U_b, s_b, v_b = solve_heston_backward(rho, sigma, r, kappa, theta, M-2, N-2, V, S, T, K)\n",
    "#Modified Backward Euler\n",
    "U_m, s_m, v_m = solve_heston_modified_backward(rho, sigma, r, kappa, theta, M, N, V, S, T, K)"
   ]
  },
  {
   "cell_type": "code",
   "execution_count": 23,
   "metadata": {
    "collapsed": false
   },
   "outputs": [
    {
     "data": {
      "image/png": "[encoded data removed]",
      "text/plain": [
       "<matplotlib.figure.Figure at 0x10bb5da50>"
      ]
     },
     "metadata": {},
     "output_type": "display_data"
    }
   ],
   "source": [
    "E, X = numpy.meshgrid(v[:-20], s[:-20])\n",
    "\n",
    "fig = plt.figure(figsize=(20, 5))\n",
    "axes = fig.add_subplot(1, 3, 1)\n",
    "sol_plot = axes.pcolor(E, X, numpy.abs(U_true[:-20, :-20] - U_f[:-20,:-20]), cmap=plt.get_cmap('RdBu_r'))\n",
    "axes.set_title(\"|U_true - U_forward|\")\n",
    "axes.set_xlabel(\"v\")\n",
    "axes.set_ylabel(\"S\")\n",
    "cbar = fig.colorbar(sol_plot, ax=axes)\n",
    "\n",
    "\n",
    "axes = fig.add_subplot(1, 3, 2)\n",
    "sol_plot = axes.pcolor(E, X, numpy.abs(U_true[:-20, :-20] - U_b[:-20,:-20]), cmap=plt.get_cmap('RdBu_r'))\n",
    "axes.set_title(\"|U_true - U_backward|\")\n",
    "axes.set_xlabel(\"v\")\n",
    "axes.set_ylabel(\"S\")\n",
    "cbar = fig.colorbar(sol_plot, ax=axes)\n",
    "\n",
    "\n",
    "axes = fig.add_subplot(1, 3, 3)\n",
    "sol_plot = axes.pcolor(E, X, numpy.abs(U_true[:-20, :-20] - U_m[:-20,:-20]), cmap=plt.get_cmap('RdBu_r'))\n",
    "axes.set_title(\"|U_true - U_Modifiedbackforward|\")\n",
    "axes.set_xlabel(\"v\")\n",
    "axes.set_ylabel(\"S\")\n",
    "cbar = fig.colorbar(sol_plot, ax=axes)"
   ]
  },
  {
   "cell_type": "markdown",
   "metadata": {},
   "source": [
    "[This is the png file of above figure]\n",
    "<img src=\"./images/error_domain.png\">"
   ]
  },
  {
   "cell_type": "markdown",
   "metadata": {},
   "source": [
    "From the above figure, we observed that:\n",
    "* For Forward Euler method, the higher error happens when both $v$ and $S$ large (upper right corner). \n",
    "* For the Backward Euler method, the higher error happens in two region: the upper right corner and the left boundary where $v$ is near zero.\n",
    "* For Modifiend Euler method, the error distribution behaves similar to Backward Euler method, but at the left boundary, its slightly severe than the corresponding part in Backeward Euler method."
   ]
  },
  {
   "cell_type": "markdown",
   "metadata": {},
   "source": [
    "### 3.2 Order of Convergence"
   ]
  },
  {
   "cell_type": "code",
   "execution_count": 35,
   "metadata": {
    "collapsed": false
   },
   "outputs": [],
   "source": [
    "# Domain\n",
    "K = 100.0; S = 200.0; V = 1.0; T = 1.0; t = 0.0\n",
    "# Coefficient\n",
    "r = 0.03; kappa = 2.0; theta = 0.2; sigma = 0.3; rho = 0.8; _lambda = 0.0\n",
    "\n",
    "D = numpy.linspace(10,30,11)\n",
    "\n",
    "error = numpy.empty([len(D), 3])\n",
    "delta_s = numpy.empty(len(D))\n",
    "delta_v = numpy.empty(len(D))\n",
    "delta_t = numpy.empty(len(D))\n",
    "\n",
    "# Compute the error as a function of delta_s, deta_v, delta_t\n",
    "for i in xrange(len(D)):\n",
    "    M = int(D[i])\n",
    "    N = int(D[i])\n",
    "    delta_s[i] = S/(N-1)\n",
    "    delta_v[i] = V/(M-1)\n",
    "    \n",
    "    s = numpy.linspace(0.0, S + 20*delta_s[i], N+20)\n",
    "    v = numpy.linspace(0.0, V + 20*delta_v[i], M+20)\n",
    "    \n",
    "    X, Y = numpy.meshgrid(v, s)\n",
    "    z = numpy.array([Heston_ExactSolution(rho, sigma, r, kappa, theta, _lambda, v_t, s_t, T, K)\\\n",
    "                     for v_t, s_t in zip(numpy.ravel(X), numpy.ravel(Y))])\n",
    "    U_true = z.reshape([N+20, M+20])\n",
    "   \n",
    "    #Explicit/Forward Euler\n",
    "    U_f, _, _ = solve_heston_forward(rho, sigma, r, kappa, theta, M, N, V, S, T, K)\n",
    "    error[i,0] = numpy.linalg.norm(delta_v[i] * (U_f[:-20, :-20] - U_true[:-20, :-20]), ord=1)\n",
    "        #Implicit/Backward Euler\n",
    "    U_b, _, _ = solve_heston_backward(rho, sigma, r, kappa, theta, M-2, N-2, V, S, T, K)\n",
    "    error[i,1] = numpy.linalg.norm(delta_v[i] * (U_b[:-20, :-20] - U_true[:-20, :-20]), ord=1)\n",
    "    #Modified Backward Euler\n",
    "    U_m, _, _ = solve_heston_modified_backward(rho, sigma, r, kappa, theta, M, N, V, S, T, K)\n",
    "    error[i,2] = numpy.linalg.norm(delta_v[i] * (U_m[:-20, :-20] - U_true[:-20, :-20]), ord=1)"
   ]
  },
  {
   "cell_type": "code",
   "execution_count": 37,
   "metadata": {
    "collapsed": false
   },
   "outputs": [
    {
     "data": {
      "image/png": "[encoded data removed]",
      "text/plain": [
       "<matplotlib.figure.Figure at 0x108b02d10>"
      ]
     },
     "metadata": {},
     "output_type": "display_data"
    }
   ],
   "source": [
    "titles = [\"Forward Euler\", \"Backward Euler\", \"Modified Backward Euler\"]\n",
    "order_C = lambda delta_x, error, order: numpy.exp(numpy.log(error) - order * numpy.log(delta_x))\n",
    "\n",
    "fig = plt.figure(figsize=(20, 5))\n",
    "for i in xrange(3):\n",
    "    axes = fig.add_subplot(1, 3, i+1)\n",
    "    axes.loglog(delta_v, error[:,i], 'ko', label=\"Approx.\")\n",
    "    axes.loglog(delta_v, order_C(delta_v[0], error[0,i], 1.0) * delta_v**1.0, 'r--', label=\"1st Order\")\n",
    "    axes.loglog(delta_v, order_C(delta_v[0], error[0,i], 2.0) * delta_v**2.0, 'b--', label=\"2nd Order\")\n",
    "    axes.legend(loc=4)\n",
    "    axes.set_title(titles[i])\n",
    "    plt.xlim(delta_v[-1]-0.01, delta_v[0]+0.01)\n",
    "    axes.set_xlabel(\"$\\Delta v$\")\n",
    "    axes.set_ylabel(\"$||U_{approx} - {U_true}||_{\\infty}$\")\n",
    "plt.savefig('convergence_order.png')\n",
    "plt.show()"
   ]
  },
  {
   "cell_type": "markdown",
   "metadata": {},
   "source": [
    "[This is the png file of above figure]\n",
    "<img src=\"./images/convergence_order.png\">"
   ]
  },
  {
   "cell_type": "markdown",
   "metadata": {},
   "source": [
    "* The order of convergence it's not quite clear for Forward Euler method. It looks like it has a second order convergence at first few points but bounds back after then. \n",
    "* For Backward Euler method, the error is oscillate around the second order convergence line. \n",
    "* For Modified Backward Euler method, compares to the other two methods, it has an obvious convergence in first order. "
   ]
  },
  {
   "cell_type": "markdown",
   "metadata": {},
   "source": [
    "### 3.3 Others\n",
    "#### 3.3.1 Stability relation between Forward Euler Method and $\\Delta t$ [4]\n",
    "For a certain $\\Delta v$, we observe that Forward Euler Method has the highest accuracy. However, this method requires a particulary small $\\Delta t$ to make it work, which the one we are using is actually second order lower than those used in implicit methods. Here, we would like to present this fact by showing a relation between $\\Delta t$ and the error of Forward Euler Method:"
   ]
  },
  {
   "cell_type": "code",
   "execution_count": 30,
   "metadata": {
    "collapsed": true
   },
   "outputs": [],
   "source": [
    "def test_solve_heston_forward(rho, sigma, r, kappa, theta, M, N, L, V, S, T, K):\n",
    "    delta_s = S/(N-1)\n",
    "    delta_v = V/(M-1)\n",
    "    \n",
    "    s = numpy.linspace(0.0, S + 20*delta_s, N+20)\n",
    "    v = numpy.linspace(0.0, V + 20*delta_v, M+20)\n",
    "    \n",
    "    N = N+20\n",
    "    M = M+20\n",
    "    \n",
    "    t = numpy.linspace(0.0, T, L)\n",
    "    delta_t = t[1] - t[0]\n",
    "    \n",
    "    U_old = numpy.zeros(M*N)\n",
    "    U_new = numpy.zeros(M*N)\n",
    "\n",
    "    for i in range(N):\n",
    "        U_old[i*M: (i+1)*M] = numpy.maximum(numpy.ones(M) * s[i] - K , 0.0)\n",
    "    A_f, rhs_f = construct_A_rhs_forward(rho, sigma, r, kappa, theta, M, N, delta_v, delta_s, delta_t, v, s)\n",
    "    \n",
    "    for timestep in t:  \n",
    "        U_new = numpy.dot(A_f, U_old)\n",
    "        \n",
    "        ## BC at v[-1]\n",
    "        U_new += rhs_f\n",
    "\n",
    "        ## BC at s = S[-1]\n",
    "        U_new[(N-1)*M: N*M] = (2*delta_s + 4.0*U_new[(N-2)*M: (N-1)*M] - U_new[(N-3)*M: (N-2)*M])/3.0\n",
    "\n",
    "        ## BC at v = v[0]\n",
    "        for i in xrange(N):\n",
    "            if i == 0:\n",
    "                continue\n",
    "            U_new[i*M] = ( U_old[i*M] - r*i*delta_t*U_new[(i-1)*M] + kappa*theta*delta_t*U_new[i*M + 1] / delta_v )\\\n",
    "                        / ( 1 - r*i*delta_t + kappa*theta*delta_t/delta_v + r*delta_t )\n",
    "        U_old = numpy.copy(U_new)\n",
    "    return numpy.reshape(U_new, [N, M]), s, v"
   ]
  },
  {
   "cell_type": "code",
   "execution_count": 31,
   "metadata": {
    "collapsed": false
   },
   "outputs": [
    {
     "name": "stderr",
     "output_type": "stream",
     "text": [
      "/Users/yuhsuan/anaconda/lib/python2.7/site-packages/ipykernel/__main__.py:28: RuntimeWarning: overflow encountered in multiply\n"
     ]
    }
   ],
   "source": [
    "# Domain\n",
    "K = 100.0; S = 200.0; V = 1.0; T = 1.0; t = 0.0\n",
    "# Coefficient\n",
    "r = 0.03; kappa = 2.0; theta = 0.2; sigma = 0.3; rho = 0.8; _lambda = 0.0\n",
    "\n",
    "M = 20; N = 20\n",
    "delta_s = S/(N-1)\n",
    "delta_v = V/(M-1)\n",
    "\n",
    "s = numpy.linspace(0.0, S + 20*delta_s, N+20)\n",
    "v = numpy.linspace(0.0, V + 20*delta_v, M+20)\n",
    "X, Y = numpy.meshgrid(v, s)\n",
    "z = numpy.array([Heston_ExactSolution(rho, sigma, r, kappa, theta, _lambda, v_t, s_t, T, K)\\\n",
    "                 for v_t, s_t in zip(numpy.ravel(X), numpy.ravel(Y))])\n",
    "U_true = z.reshape([N+20, M+20])\n",
    "\n",
    "D = [101, 501, 1001, 5001, 10001]\n",
    "\n",
    "error_dt = numpy.empty(len(D))\n",
    "delta_t = numpy.empty(len(D))\n",
    "\n",
    "# Compute the error as a function of delta_s, deta_v, delta_t\n",
    "for i in xrange(len(D)):\n",
    "    L = D[i]\n",
    "    delta_t[i] = T/(L-1)\n",
    "   \n",
    "    #Explicit/Forward Euler\n",
    "    U_f, _, _ = test_solve_heston_forward(rho, sigma, r, kappa, theta, M, N, L, V, S, T, K)\n",
    "    error_dt[i] = numpy.linalg.norm(delta_v * (U_f[:-20, :-20] - U_true[:-20, :-20]), ord=1)"
   ]
  },
  {
   "cell_type": "code",
   "execution_count": 32,
   "metadata": {
    "collapsed": false
   },
   "outputs": [
    {
     "name": "stdout",
     "output_type": "stream",
     "text": [
      "Delta t = 0.01 Error =  4.71929919779e+122\n",
      "Delta t = 0.002 Error =  nan\n",
      "Delta t = 0.001 Error =  nan\n",
      "Delta t = 0.0002 Error =  0.0374760614868\n",
      "Delta t = 0.0001 Error =  0.0375012962696\n"
     ]
    }
   ],
   "source": [
    "for i in xrange(len(D)):\n",
    "    print 'Delta t =', delta_t[i], 'Error = ', error_dt[i]"
   ]
  },
  {
   "cell_type": "markdown",
   "metadata": {},
   "source": [
    "$\\Rightarrow$ The error becomes large when $\\Delta t$ is not small enough."
   ]
  },
  {
   "cell_type": "markdown",
   "metadata": {},
   "source": [
    "## 4. Conclusion"
   ]
  },
  {
   "cell_type": "markdown",
   "metadata": {},
   "source": [
    "In this project, we have implemented four different methods to solve the price of Europeon Call option. As we present, they all achieve a certain level of accuracy. Also, surprisingly, the modified backward euler method works pretty well. It doesn't blow up with a wide range of discretization points (M,N) and is not true for forward and backward euler method. While in general we are satisfied with our result, there are still issues that need to be handled, such as the way that we construct the matrix makes our program becomes extremely slow as the discretization points grows; discussion in section 3.1 indicates that how we implemented the boundary condition may still have problems although it has already improved a lot compared to what we had tried; for backward euler method, it blows up at some amount of discretization points that we haven't yet figured out the pattern. \n",
    "\n",
    "The problems we just mentioned need works and unforturnately, we are not able to finish them in this project but would like to say that this project is really good start point to understand how numerical methods of partial differential equation would help in field of finance and also a good practice to realize that when we leave the world with dirichelet boundary conditions, things may get really hard because it will affect the solution a lot if we didn't do it in the right way."
   ]
  },
  {
   "cell_type": "markdown",
   "metadata": {
    "collapsed": true
   },
   "source": [
    "## References\n",
    "[1] Heston, S. L. (1993). A closed-form solution for options with stochastic volatility with applications to bond and currency options. Review of financial studies, 6(2), 327-343.\n",
    "\n",
    "[2] Hull, J. C. (2015). Options, futures, and other derivatives. Pearson Education Inc.\n",
    "\n",
    "[3] Hirsa, A. (2012). Computational methods in finance. Crc Press.\n",
    "\n",
    "[4] Sensen, L. (2008). Finite Difference Schemes for Heston Model."
   ]
  }
 ],
 "metadata": {
  "kernelspec": {
   "display_name": "Python 2",
   "language": "python",
   "name": "python2"
  },
  "language_info": {
   "codemirror_mode": {
    "name": "ipython",
    "version": 2
   },
   "file_extension": ".py",
   "mimetype": "text/x-python",
   "name": "python",
   "nbconvert_exporter": "python",
   "pygments_lexer": "ipython2",
   "version": "2.7.11"
  }
 },
 "nbformat": 4,
 "nbformat_minor": 0
}
