{
 "cells": [
  {
   "cell_type": "code",
   "execution_count": 1,
   "metadata": {
    "collapsed": true
   },
   "outputs": [],
   "source": [
    "%matplotlib inline\n",
    "%precision 16\n",
    "import numpy\n",
    "import scipy.sparse as sparse\n",
    "import scipy.sparse.linalg as linalg\n",
    "import matplotlib.pyplot as plt\n",
    "from scipy.integrate import quad"
   ]
  },
  {
   "cell_type": "markdown",
   "metadata": {},
   "source": [
    "## Test for backward euler method"
   ]
  },
  {
   "cell_type": "markdown",
   "metadata": {},
   "source": [
    "Set variables related to change of variables: $(S,v)\\rightarrow(\\xi, \\eta)$"
   ]
  },
  {
   "cell_type": "code",
   "execution_count": 2,
   "metadata": {
    "collapsed": false
   },
   "outputs": [],
   "source": [
    "K     = 1200.0\n",
    "\n",
    "# Stock spatial space\n",
    "S_max = 2000.0\n",
    "S_min = 400.0\n",
    "alpha = S_max - S_min\n",
    "\n",
    "# Variance space\n",
    "v_max = 0.1\n",
    "v_min = 0.0\n",
    "beta  = v_max - v_min\n",
    "\n",
    "c1    = numpy.arcsinh( (S_max - K)/alpha )\n",
    "c2    = numpy.arcsinh( (S_min - K)/alpha )\n",
    "#d1    = numpy.arcsinh( (v_max - v_min)/beta )\n",
    "d1    = numpy.arcsinh( v_max/beta )\n",
    "d2    = numpy.arcsinh( v_min/beta )"
   ]
  },
  {
   "cell_type": "markdown",
   "metadata": {},
   "source": [
    "Set coefficients of heston pde"
   ]
  },
  {
   "cell_type": "code",
   "execution_count": 3,
   "metadata": {
    "collapsed": false
   },
   "outputs": [],
   "source": [
    "rho   = -0.5\n",
    "sigma = 0.3\n",
    "r     = 0.03\n",
    "q     = 0.0\n",
    "kappa = 2\n",
    "theta = 0.05"
   ]
  },
  {
   "cell_type": "markdown",
   "metadata": {
    "collapsed": false
   },
   "source": [
    "Set grid"
   ]
  },
  {
   "cell_type": "code",
   "execution_count": 4,
   "metadata": {
    "collapsed": false
   },
   "outputs": [
    {
     "name": "stdout",
     "output_type": "stream",
     "text": [
      "0.0243902439024\n",
      "0.047619047619\n",
      "0.00116144018583\n",
      "0.0001\n"
     ]
    }
   ],
   "source": [
    "#t_final = 0.02\n",
    "N = 40\n",
    "M = 20\n",
    "L = 100\n",
    "\n",
    "xi  = numpy.linspace(0, 1, N+2) \n",
    "eta = numpy.linspace(0, 1, M+2)\n",
    "#t   = numpy.linspace(0, t_final, L)\n",
    "\n",
    "xi = xi[1:-1]\n",
    "eta = eta[1:-1]\n",
    "\n",
    "delta_xi  =  xi[1] -  xi[0]\n",
    "delta_eta = eta[1] - eta[0]\n",
    "#delta_t   =   t[1] -   t[0]\n",
    "\n",
    "delta_t = 1e-4\n",
    "t_final = 200 * delta_t\n",
    "\n",
    "print delta_xi\n",
    "print delta_eta\n",
    "print delta_xi * delta_eta\n",
    "print delta_t"
   ]
  },
  {
   "cell_type": "markdown",
   "metadata": {},
   "source": [
    "Common function that needs during entire run time"
   ]
  },
  {
   "cell_type": "code",
   "execution_count": 5,
   "metadata": {
    "collapsed": false
   },
   "outputs": [],
   "source": [
    "S         = lambda xi: K + alpha * numpy.sinh( c1*xi + c2*(1-xi) )\n",
    "dSdxi     = lambda xi: alpha * numpy.cosh( c1*xi + c2*(1-xi) ) * (c1 - c2)\n",
    "d2Sdxi2   = lambda xi: alpha * numpy.sinh( c1*xi + c2*(1-xi) ) * (c1 - c2)**2\n",
    "\n",
    "v         = lambda eta: beta*numpy.sinh( d1*eta + d2*(1-eta) )\n",
    "dvdeta    = lambda eta: numpy.cosh( d1*eta ) * (d1-d2) * beta\n",
    "d2vdeta2  = lambda eta: numpy.sinh( d1*eta ) * (d1-d2)**2 * beta"
   ]
  },
  {
   "cell_type": "markdown",
   "metadata": {},
   "source": [
    "Allocate solution vector U"
   ]
  },
  {
   "cell_type": "code",
   "execution_count": 6,
   "metadata": {
    "collapsed": false
   },
   "outputs": [],
   "source": [
    "#U = numpy.empty([N+2, M+2])\n",
    "U_old = numpy.zeros(N*M)\n",
    "U_new = numpy.zeros(N*M)"
   ]
  },
  {
   "cell_type": "code",
   "execution_count": 7,
   "metadata": {
    "collapsed": true
   },
   "outputs": [],
   "source": [
    "T = t_final\n",
    "_lambda = 0.0"
   ]
  },
  {
   "cell_type": "code",
   "execution_count": 8,
   "metadata": {
    "collapsed": true
   },
   "outputs": [],
   "source": [
    "def Heston_Integral(phi, K, S, v, T, r, kappa, theta, sigma, rho, _lambda, j): \n",
    "    u_1 = 1.0 / 2.0\n",
    "    u_2 = - 1.0 / 2.0\n",
    "    a = kappa * theta\n",
    "    rspi = rho * sigma * phi * 1j\n",
    "    tau = T\n",
    "    \n",
    "    b_1 = kappa + _lambda - rho * sigma\n",
    "    b_2 = kappa + _lambda\n",
    "    \n",
    "    d_1 = numpy.sqrt((rspi - b_1)**2 - sigma**2 * (2.0 * u_1 * phi * 1j - phi**2))\n",
    "    d_2 = numpy.sqrt((rho * sigma * phi * 1j - b_2)**2 - sigma**2 * (2.0 * u_2 * phi * 1j - phi**2))\n",
    "    \n",
    "    g_1 = (b_1 - rspi + d_1) / (b_1 - rspi - d_1)\n",
    "    g_2 = (b_2 - rspi + d_2) / (b_2 - rspi - d_2)\n",
    "   \n",
    "    D_1 = (b_1 - rspi + d_1) / sigma**2 * ((1.0 - numpy.exp(d_1 * tau)) / (1.0 - g_1 * numpy.exp(d_1 * r)))\n",
    "    D_2 = (b_2 - rspi + d_2) / sigma**2 * ((1.0 - numpy.exp(d_2 * tau)) / (1.0 - g_2 * numpy.exp(d_2 * r)))\n",
    "    \n",
    "    C_1 = r * phi * 1j * tau + a / sigma**2 * ((b_1 - rspi + d_1) * tau - 2.0 * numpy.log((1.0 - g_1 * numpy.exp(d_1 * tau))/(1.0 - g_1)))\n",
    "    C_2 = r * phi * 1j * tau + a / sigma**2 * ((b_2 - rspi + d_2) * tau - 2.0 * numpy.log((1.0 - g_2 * numpy.exp(d_2 * tau))/(1.0 - g_2)))   \n",
    "    \n",
    "    f_1 = numpy.exp(C_1 + D_1 * v + 1j * phi * numpy.log(S))\n",
    "    f_2 = numpy.exp(C_2 + D_2 * v + 1j * phi * numpy.log(S))\n",
    "    \n",
    "    if(j==1):\n",
    "        return numpy.real((numpy.exp(-1j * phi * numpy.log(K)) * f_1)/(1j * phi))\n",
    "    elif(j==2):\n",
    "        return numpy.real((numpy.exp(-1j * phi * numpy.log(K)) * f_2)/(1j * phi))"
   ]
  },
  {
   "cell_type": "code",
   "execution_count": 9,
   "metadata": {
    "collapsed": true
   },
   "outputs": [],
   "source": [
    "def Exact_Solution(S, v): \n",
    "    P_1 = 0.5 + 1.0 / numpy.pi * \\\n",
    "          quad(Heston_Integral, 0, 1000, args=(K, S, v, T, r, kappa, theta, sigma, rho, _lambda, 1))[0]\n",
    "    P_2 = 0.5 + 1.0 / numpy.pi * \\\n",
    "          quad(Heston_Integral, 0, 1000, args=(K, S, v, T, r, kappa, theta, sigma, rho, _lambda, 2))[0]\n",
    "    \n",
    "    Call = S * P_1 - K * numpy.exp(- r * (T - 0.0)) * P_2\n",
    "    return Call"
   ]
  },
  {
   "cell_type": "markdown",
   "metadata": {},
   "source": [
    "Set function to construct matrix A"
   ]
  },
  {
   "cell_type": "code",
   "execution_count": 10,
   "metadata": {
    "collapsed": false
   },
   "outputs": [],
   "source": [
    "a = lambda i,j: delta_t*rho*sigma/(4.0*delta_xi*delta_eta)*v(eta[j])*S(xi[i])/(dSdxi(xi[i]) * dvdeta(eta[j]))\n",
    "b = lambda i,j: sigma**2 * delta_t/(2.0*delta_eta**2)*v(eta[j])/dvdeta(eta[j])**2 - \\\n",
    "                delta_t/(2.0*delta_eta)*(kappa*(theta-v(eta[j]))/dvdeta(eta[j]) - \\\n",
    "                0.5*sigma**2*v(eta[j])*d2vdeta2(eta[j])/dvdeta(eta[j])**3)\n",
    "c = lambda i,j: delta_t/delta_xi**2*v(eta[j])*S(xi[i])**2/dSdxi(xi[i])**2 - \\\n",
    "                delta_t/(2.0*delta_xi)*((r-q)*S(xi[i])/dSdxi(xi[i]) - 0.5*v(eta[j])*S(xi[i])**2*d2Sdxi2(xi[i])/dSdxi(xi[i])**3)\n",
    "d = lambda i,j: 1 + r*delta_t + delta_t/delta_xi**2 * v(eta[j])*S(xi[i])**2/dSdxi(xi[i])**2 + \\\n",
    "                sigma**2*delta_t/delta_eta**2*v(eta[j])/dvdeta(eta[j])**2\n",
    "e = lambda i,j: delta_t/delta_xi**2*v(eta[j])*S(xi[i])**2/dSdxi(xi[i])**2 + \\\n",
    "                delta_t/(2*delta_xi)*((r-q)*S(xi[i])/dSdxi(xi[i]) - 0.5*v(eta[j])*S(xi[i])**2*d2Sdxi2(xi[i])/dSdxi(xi[i])**3)\n",
    "f = lambda i,j: sigma**2*delta_t/(2*delta_eta**2)*v(eta[j])/dvdeta(eta[j])**2 + \\\n",
    "                delta_t/(2.0*delta_eta)*(kappa*(theta - v(eta[j]))/dvdeta(eta[j]) - 0.5*sigma**2*v(eta[j])*d2vdeta2(eta[j])/dvdeta(eta[j])**3)"
   ]
  },
  {
   "cell_type": "markdown",
   "metadata": {
    "collapsed": true
   },
   "source": [
    "Allocate memory"
   ]
  },
  {
   "cell_type": "code",
   "execution_count": 11,
   "metadata": {
    "collapsed": true
   },
   "outputs": [],
   "source": [
    "A = numpy.zeros([M*N, M*N])\n",
    "rhs = numpy.zeros(N*M)"
   ]
  },
  {
   "cell_type": "markdown",
   "metadata": {},
   "source": [
    "Construct matrix A"
   ]
  },
  {
   "cell_type": "code",
   "execution_count": 12,
   "metadata": {
    "collapsed": false
   },
   "outputs": [
    {
     "name": "stderr",
     "output_type": "stream",
     "text": [
      "/Users/yuhsuan/anaconda/lib/python2.7/site-packages/scipy/integrate/quadpack.py:352: IntegrationWarning: The maximum number of subdivisions (50) has been achieved.\n",
      "  If increasing the limit yields no improvement it is advised to analyze \n",
      "  the integrand in order to determine the difficulties.  If the position of a \n",
      "  local difficulty can be determined (singularity, discontinuity) one will \n",
      "  probably gain from splitting up the interval and calling the integrator \n",
      "  on the subranges.  Perhaps a special-purpose integrator should be used.\n",
      "  warnings.warn(msg, IntegrationWarning)\n"
     ]
    }
   ],
   "source": [
    "for irow in range(M*N):\n",
    "    # U_hat[irow] == U_interior[i,j]\n",
    "    i = irow/M\n",
    "    j = numpy.mod(irow, M)\n",
    "    \n",
    "    if( i == 0 ):\n",
    "        if (j == 0):\n",
    "            A[irow, irow]         =  d(i,j)\n",
    "            A[irow, irow + 1]     = -f(i,j)\n",
    "            A[irow, irow + M]     = -e(i,j)\n",
    "            A[irow, irow + M + 1] = -a(i,j)\n",
    "            rhs[irow] =  a(i,j)*Exact_Solution(S(0),v(0)) \\\n",
    "                        +b(i,j)*Exact_Solution(S(xi[i]),v(0)) \\\n",
    "                        -a(i,j)*Exact_Solution(S(xi[i+1]),v(0)) \\\n",
    "                        +c(i,j)*Exact_Solution(S(0),v(eta[j]))\\\n",
    "                        -a(i,j)*Exact_Solution(S(0),v(eta[j+1]))\n",
    "        elif (j == M-1):\n",
    "            A[irow, irow - 1]     = -b(i,j)\n",
    "            A[irow, irow]         =  d(i,j)\n",
    "            A[irow, irow + M - 1] =  a(i,j)\n",
    "            A[irow, irow + M]     = -e(i,j)\n",
    "            rhs[irow] = -a(i,j)*Exact_Solution(S(0),v(1))\\\n",
    "                        +f(i,j)*Exact_Solution(S(xi[i]),v(1))\\\n",
    "                        +a(i,j)*Exact_Solution(S(xi[i+1]),v(1))\\\n",
    "                        +c(i,j)*Exact_Solution(S(0),v(eta[j]))\\\n",
    "                        +a(i,j)*Exact_Solution(S(0),v(eta[j-1]))\n",
    "        else: # Add term for bc condition\n",
    "            A[irow, irow - 1]     = -b(i,j)\n",
    "            A[irow, irow]         =  d(i,j)\n",
    "            A[irow, irow + 1]     = -f(i,j)\n",
    "            A[irow, irow + M - 1] =  a(i,j)\n",
    "            A[irow, irow + M]     = -e(i,j)\n",
    "            A[irow, irow + M + 1] = -a(i,j)\n",
    "            rhs[irow] = -a(i,j)*Exact_Solution(S(0),v(eta[j+1]))\\\n",
    "                        +c(i,j)*Exact_Solution(S(0),v(eta[j]))\\\n",
    "                        +a(i,j)*Exact_Solution(S(0),v(eta[j-1]))\n",
    "    elif (i == N-1):\n",
    "        if (j == 0):\n",
    "            A[irow, irow - M ]    = -c(i,j)\n",
    "            A[irow, irow - M + 1] =  a(i,j)\n",
    "            A[irow, irow]         =  d(i,j)\n",
    "            A[irow, irow + 1]     = -f(i,j)\n",
    "            rhs[irow] = -a(i,j)*Exact_Solution(S(1),v(0))\\\n",
    "                        +b(i,j)*Exact_Solution(S(xi[i]),v(0))\\\n",
    "                        +a(i,j)*Exact_Solution(S(xi[i-1]),v(0))\\\n",
    "                        +e(i,j)*Exact_Solution(S(1),v(eta[j]))\\\n",
    "                        +a(i,j)*Exact_Solution(S(1),v(eta[j+1]))\n",
    "        elif (j == M-1):\n",
    "            A[irow, irow - M - 1] = -a(i,j)\n",
    "            A[irow, irow - M ]    = -c(i,j)\n",
    "            A[irow, irow - 1]     = -b(i,j)\n",
    "            A[irow, irow]         =  d(i,j)\n",
    "            rhs[irow] =  a(i,j)*Exact_Solution(S(1),v(1))\\\n",
    "                        +f(i,j)*Exact_Solution(S(xi[i]),v(1))\\\n",
    "                        -a(i,j)*Exact_Solution(S(xi[i-1]),v(1))\\\n",
    "                        +e(i,j)*Exact_Solution(S(1),v(eta[j]))\\\n",
    "                        +a(i,j)*Exact_Solution(S(1),v(eta[j-1]))\n",
    "        else:\n",
    "            A[irow, irow - M - 1] = -a(i,j)\n",
    "            A[irow, irow - M ]    = -c(i,j)\n",
    "            A[irow, irow - M + 1] =  a(i,j)\n",
    "            A[irow, irow - 1]     = -b(i,j)\n",
    "            A[irow, irow]         =  d(i,j)\n",
    "            A[irow, irow + 1]     = -f(i,j)\n",
    "            rhs[irow] = -a(i,j)*Exact_Solution(S(1),v(eta[j-1]))\\\n",
    "                        +e(i,j)*Exact_Solution(S(1),v(eta[j]))\\\n",
    "                        +a(i,j)*Exact_Solution(S(1),v(eta[j+1]))\n",
    "    else:\n",
    "        if (j == 0):   \n",
    "            A[irow, irow - M ]    = -c(i,j)\n",
    "            A[irow, irow - M + 1] = -a(i,j)\n",
    "            A[irow, irow]         =  d(i,j)\n",
    "            A[irow, irow + 1]     = -f(i,j)\n",
    "            A[irow, irow + M]     = -e(i,j)\n",
    "            A[irow, irow + M + 1] =  a(i,j)\n",
    "            rhs[irow] = -a(i,j)*Exact_Solution(S(xi[i+1]),v(0))\\\n",
    "                        +b(i,j)*Exact_Solution(S(xi[i]),v(0))\\\n",
    "                        +a(i,j)*Exact_Solution(S(xi[i-1]),v(0))\n",
    "        elif (j == M-1):\n",
    "            A[irow, irow - M - 1] = -a(i,j) \n",
    "            A[irow, irow - M ]    = -c(i,j)\n",
    "            A[irow, irow - 1]     = -b(i,j)\n",
    "            A[irow, irow]         =  d(i,j)\n",
    "            A[irow, irow + M - 1] =  a(i,j)\n",
    "            A[irow, irow + M]     = -e(i,j)\n",
    "            rhs[irow] =  a(i,j)*Exact_Solution(S(xi[i+1]),v(1))\\\n",
    "                        +f(i,j)*Exact_Solution(S(xi[i]),v(1))\\\n",
    "                        -a(i,j)*Exact_Solution(S(xi[i-1]),v(1))\n",
    "        else:\n",
    "            A[irow, irow - M - 1] = -a(i,j) \n",
    "            A[irow, irow - M ]    = -c(i,j)\n",
    "            A[irow, irow - M + 1] =  a(i,j)\n",
    "            A[irow, irow - 1]     = -b(i,j)\n",
    "            A[irow, irow]         =  d(i,j)\n",
    "            A[irow, irow + 1]     = -f(i,j)\n",
    "            A[irow, irow + M - 1] =  a(i,j)\n",
    "            A[irow, irow + M]     = -e(i,j)\n",
    "            A[irow, irow + M + 1] = -a(i,j)\n",
    "# sA = sparse.csr_matrix(A)"
   ]
  },
  {
   "cell_type": "code",
   "execution_count": 13,
   "metadata": {
    "collapsed": false
   },
   "outputs": [
    {
     "name": "stdout",
     "output_type": "stream",
     "text": [
      "1.04640382381\n",
      "-0.0208825278171\n",
      "37307975.8001\n"
     ]
    },
    {
     "data": {
      "image/png": "[encoded data removed]",
      "text/plain": [
       "<matplotlib.figure.Figure at 0x106687990>"
      ]
     },
     "metadata": {},
     "output_type": "display_data"
    }
   ],
   "source": [
    "fig = plt.figure()\n",
    "plt.spy(A[0:50, 0:50])\n",
    "print numpy.max(A)\n",
    "print numpy.min(A)\n",
    "\n",
    "E, X = numpy.meshgrid(numpy.linspace(0,1,N*M), numpy.linspace(0,1,N*M))\n",
    "# Plot solution\n",
    "# fig = plt.figure()\n",
    "# axes = fig.add_subplot(1, 1, 1)\n",
    "# sol_plot = axes.pcolor(E, X, A)\n",
    "# axes.set_title(\"Element of A\")\n",
    "# axes.set_xlabel(\"eta\")\n",
    "# axes.set_ylabel(\"xi\")\n",
    "# cbar = fig.colorbar(sol_plot, ax=axes)\n",
    "# plt.show\n",
    "print numpy.linalg.det(A)"
   ]
  },
  {
   "cell_type": "code",
   "execution_count": 14,
   "metadata": {
    "collapsed": false
   },
   "outputs": [],
   "source": [
    "for i in range(N):\n",
    "    U_old[i*M: (i+1)*M] = numpy.maximum(numpy.ones(M) * S(xi[i]) - K , 0.0)"
   ]
  },
  {
   "cell_type": "code",
   "execution_count": 18,
   "metadata": {
    "collapsed": false
   },
   "outputs": [],
   "source": [
    "t = 0\n",
    "t += delta_t\n",
    "while t < t_final:\n",
    "    U_new = numpy.linalg.solve(A, U_old + rhs)\n",
    "    U_old = numpy.copy(U_new)\n",
    "    t += delta_t\n",
    "\n",
    "# for timestep in t:\n",
    "#     U_new = numpy.linalg.solve(A, U_old + rhs)\n",
    "#     print numpy.linalg.norm(U_old + rhs, 2)\n",
    "#     assert( numpy.allclose(numpy.dot(A, U_new), U_old+rhs) == 1)\n",
    "#     U_old = numpy.copy(U_new)"
   ]
  },
  {
   "cell_type": "markdown",
   "metadata": {},
   "source": [
    "Reshape the U vector"
   ]
  },
  {
   "cell_type": "code",
   "execution_count": 19,
   "metadata": {
    "collapsed": false
   },
   "outputs": [],
   "source": [
    "U_sol = numpy.reshape(U_new, [N, M])"
   ]
  },
  {
   "cell_type": "code",
   "execution_count": 20,
   "metadata": {
    "collapsed": false,
    "scrolled": true
   },
   "outputs": [
    {
     "name": "stdout",
     "output_type": "stream",
     "text": [
      "0.0941508665074 1958.22544425\n",
      "4392.87374594\n"
     ]
    },
    {
     "data": {
      "image/png": "[encoded data removed]",
      "text/plain": [
       "<matplotlib.figure.Figure at 0x1081ad590>"
      ]
     },
     "metadata": {},
     "output_type": "display_data"
    }
   ],
   "source": [
    "E, X = numpy.meshgrid(v(eta), S(xi))\n",
    "#E, X = numpy.meshgrid(eta, xi)\n",
    "# fig = plt.figure()\n",
    "# # Plot right boundary condition\n",
    "# axes = fig.add_subplot(1, 1, 1)\n",
    "# axes.plot(xi, S(xi), 'o')\n",
    "\n",
    "# fig = plt.figure()\n",
    "# axes = fig.add_subplot(1, 1, 1)\n",
    "# axes.plot(eta, v(eta), 'o')\n",
    "# Plot solution\n",
    "fig = plt.figure()\n",
    "axes = fig.add_subplot(1, 1, 1)\n",
    "sol_plot = axes.pcolor(E, X, U_sol, cmap=plt.get_cmap('RdBu_r'))\n",
    "axes.set_title(\"Solution U(v,S)\")\n",
    "axes.set_xlabel(\"v\")\n",
    "axes.set_ylabel(\"S\")\n",
    "cbar = fig.colorbar(sol_plot, ax=axes)\n",
    "# Plot initial data\n",
    "# fig = plt.figure()\n",
    "# axes = fig.add_subplot(1, 1, 1)\n",
    "# sol_plot = axes.pcolor(E, X, numpy.reshape(U_init, [N, M]), cmap=plt.get_cmap('RdBu_r'))\n",
    "# axes.set_title(\"Solution U(v,S)\")\n",
    "# axes.set_xlabel(\"v\")\n",
    "# axes.set_ylabel(\"S\")\n",
    "# cbar = fig.colorbar(sol_plot, ax=axes)\n",
    "# plt.show()\n",
    "\n",
    "print v(eta[-1]), S(xi[-1])\n",
    "print U_sol[-1,-1]"
   ]
  },
  {
   "cell_type": "code",
   "execution_count": 25,
   "metadata": {
    "collapsed": false
   },
   "outputs": [],
   "source": [
    "U_true = numpy.empty([N,M])\n",
    "for i in range(N):\n",
    "    for j in range(M):\n",
    "        U_true[i,j] = Exact_Solution(S(xi[i]), v(eta[j]))"
   ]
  },
  {
   "cell_type": "code",
   "execution_count": 22,
   "metadata": {
    "collapsed": false,
    "scrolled": true
   },
   "outputs": [
    {
     "data": {
      "image/png": "[encoded data removed]",
      "text/plain": [
       "<matplotlib.figure.Figure at 0x1091e2090>"
      ]
     },
     "metadata": {},
     "output_type": "display_data"
    },
    {
     "data": {
      "image/png": "[encoded data removed]",
      "text/plain": [
       "<matplotlib.figure.Figure at 0x1093e2590>"
      ]
     },
     "metadata": {},
     "output_type": "display_data"
    }
   ],
   "source": [
    "E, X = numpy.meshgrid(v(eta[0:2]), S(xi))\n",
    "fig = plt.figure()\n",
    "axes = fig.add_subplot(1, 1, 1)\n",
    "sol_plot = axes.pcolor(E, X, U_true[:,0:2], cmap=plt.get_cmap('RdBu_r'))\n",
    "axes.set_title(\"True solution U(v,S)\")\n",
    "axes.set_xlabel(\"v\")\n",
    "axes.set_ylabel(\"S\")\n",
    "cbar = fig.colorbar(sol_plot, ax=axes)\n",
    "\n",
    "E, X = numpy.meshgrid(v(eta[:5]), S(xi))\n",
    "fig = plt.figure()\n",
    "axes = fig.add_subplot(1, 1, 1)\n",
    "sol_plot = axes.pcolor(E, X, numpy.abs(U_true[:,:5] - U_sol[:,:5]), cmap=plt.get_cmap('RdBu_r'))\n",
    "axes.set_title(\"Error U(v,S)\")\n",
    "axes.set_xlabel(\"v\")\n",
    "axes.set_ylabel(\"S\")\n",
    "cbar = fig.colorbar(sol_plot, ax=axes)\n",
    "plt.show()"
   ]
  },
  {
   "cell_type": "code",
   "execution_count": null,
   "metadata": {
    "collapsed": true
   },
   "outputs": [],
   "source": []
  }
 ],
 "metadata": {
  "kernelspec": {
   "display_name": "Python 2",
   "language": "python",
   "name": "python2"
  },
  "language_info": {
   "codemirror_mode": {
    "name": "ipython",
    "version": 2
   },
   "file_extension": ".py",
   "mimetype": "text/x-python",
   "name": "python",
   "nbconvert_exporter": "python",
   "pygments_lexer": "ipython2",
   "version": "2.7.11"
  }
 },
 "nbformat": 4,
 "nbformat_minor": 0
}
